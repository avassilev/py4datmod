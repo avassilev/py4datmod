{
 "cells": [
  {
   "cell_type": "markdown",
   "metadata": {
    "slideshow": {
     "slide_type": "slide"
    }
   },
   "source": [
    "<center>\n",
    "    \n",
    "# R406: Applied Economic Modelling with Python\n",
    "\n",
    "</center>\n",
    "\n",
    "<br> <br> \n",
    "\n",
    "<center>\n",
    "\n",
    "## Symbolic computing with SymPy\n",
    "\n",
    "</center>\n",
    "\n",
    "<br><br> \n",
    "\n",
    "<center>\n",
    "<b> Andrey Vassilev </b>\n",
    "</center>\n",
    "\n"
   ]
  },
  {
   "cell_type": "markdown",
   "metadata": {
    "slideshow": {
     "slide_type": "slide"
    }
   },
   "source": [
    "# Outline\n",
    "\n",
    "1. Introduction\n",
    "2. Basic SymPy objects and operations\n",
    "3. Applications of specific modules\n",
    "    - calculus - limits, derivatives, integrals\n",
    "    - linear algebra\n",
    "    - solving equations\n",
    "    - statistics"
   ]
  },
  {
   "cell_type": "markdown",
   "metadata": {
    "slideshow": {
     "slide_type": "slide"
    }
   },
   "source": [
    "# Introduction: what is SymPy?\n",
    "\n",
    "- SymPy is a Python library for computer algebra/symbolic computing.\n",
    "- Roughly speaking, this means that you can use it to perform computations in a pen-and-paper manner, getting symbolic expressions rather that numbers as a result.\n",
    "- SymPy is similar to other CAS like Mathematica, Maple, Matlab's Symbolic Math Toolbox or Maxima.\n",
    "- SymPy is designed to be equally usable interactively or programmatically as a part of a larger workflow.\n",
    "- See [this paper](https://peerj.com/articles/cs-103/) or the official [documentation](http://docs.sympy.org/latest/index.html) for more information."
   ]
  },
  {
   "cell_type": "markdown",
   "metadata": {
    "slideshow": {
     "slide_type": "slide"
    }
   },
   "source": [
    "# SymPy basics\n",
    "\n",
    "Here is a simple example to illustrate the difference between \"regular\" computations and symbolic ones.\n",
    "\n",
    "In a standard use case, we define variables and perform manipulations on them to get numerically evaluated results."
   ]
  },
  {
   "cell_type": "code",
   "execution_count": null,
   "metadata": {},
   "outputs": [],
   "source": [
    "x = 2\n",
    "y = 5\n",
    "z = x**2 - y**3\n",
    "z"
   ]
  },
  {
   "cell_type": "markdown",
   "metadata": {},
   "source": [
    "Notice that the third assignment, `z = x**2 - y**3`, binds the variable `z` to the specific, evaluated result, -121 in this case. There is no idea of keeping the expression $x^2-y^3$ as such."
   ]
  },
  {
   "cell_type": "markdown",
   "metadata": {
    "slideshow": {
     "slide_type": "subslide"
    }
   },
   "source": [
    "Here is how the same operations work in symbolic form:"
   ]
  },
  {
   "cell_type": "code",
   "execution_count": null,
   "metadata": {},
   "outputs": [],
   "source": [
    "import sympy as sym\n",
    "x,y = sym.symbols('x y')\n",
    "z = x**2 - y**3\n",
    "z"
   ]
  },
  {
   "cell_type": "markdown",
   "metadata": {},
   "source": [
    "The `symbols` function does just that — create Symbol objects `x` and `y` holding the symbols \"x\" and \"y\". There is nothing to prevent you from defining the objects to represent different symbols but it is confusing and discouraged by convention:"
   ]
  },
  {
   "cell_type": "code",
   "execution_count": null,
   "metadata": {},
   "outputs": [],
   "source": [
    "a,b = sym.symbols(\"X, Y\") # Notice we can separate with commas as well\n",
    "print(a**2+b**4)\n",
    "del a,b"
   ]
  },
  {
   "cell_type": "markdown",
   "metadata": {
    "slideshow": {
     "slide_type": "subslide"
    }
   },
   "source": [
    "If you are disciplined enough to conform to the above convention, you can make use of the `var()` function, which creates Symbol objects with the same name as the arguments:"
   ]
  },
  {
   "cell_type": "code",
   "execution_count": null,
   "metadata": {},
   "outputs": [],
   "source": [
    "sym.var(\"x1 x2 x3\")\n",
    "x1"
   ]
  },
  {
   "cell_type": "markdown",
   "metadata": {
    "slideshow": {
     "slide_type": "slide"
    }
   },
   "source": [
    "Obviously, more complicated expressions can be constructed but these can be difficult to read:"
   ]
  },
  {
   "cell_type": "code",
   "execution_count": null,
   "metadata": {},
   "outputs": [],
   "source": [
    "z = (sym.sqrt(x)+sym.exp(y**2)*sym.cos(x+sym.pi))/(x**(sym.ln(y))+y**5)\n",
    "# Note that SymPy offers symbolic versions of different functions\n",
    "# like sqrt, exp etc.\n",
    "z"
   ]
  },
  {
   "cell_type": "markdown",
   "metadata": {},
   "source": [
    "For that reason, SymPy offers pretty-printing functionality using available engines such as LaTeX or Matplotlib."
   ]
  },
  {
   "cell_type": "code",
   "execution_count": null,
   "metadata": {},
   "outputs": [],
   "source": [
    "sym.init_printing(use_unicode=True)\n",
    "z"
   ]
  },
  {
   "cell_type": "markdown",
   "metadata": {
    "slideshow": {
     "slide_type": "subslide"
    }
   },
   "source": [
    "For the LaTeX fans out there, you can also access the $\\LaTeX$ code representing an expression by using the `latex()` function:"
   ]
  },
  {
   "cell_type": "code",
   "execution_count": null,
   "metadata": {},
   "outputs": [],
   "source": [
    "print(sym.latex(z))"
   ]
  },
  {
   "cell_type": "markdown",
   "metadata": {
    "slideshow": {
     "slide_type": "slide"
    }
   },
   "source": [
    "SymPy is clever enough to try to simplify expressions when you combine them:"
   ]
  },
  {
   "cell_type": "code",
   "execution_count": null,
   "metadata": {},
   "outputs": [],
   "source": [
    "z1 = x**2 - 4*x*y - 5*y**3\n",
    "z2 = 3*x**2 + x*y + 4*y**3"
   ]
  },
  {
   "cell_type": "code",
   "execution_count": null,
   "metadata": {},
   "outputs": [],
   "source": [
    "z2+z1"
   ]
  },
  {
   "cell_type": "markdown",
   "metadata": {},
   "source": [
    "Note that if you want to pretty print several objects in the same cell, you need to import `display` from `IPython.display`."
   ]
  },
  {
   "cell_type": "code",
   "execution_count": null,
   "metadata": {},
   "outputs": [],
   "source": [
    "from IPython.display import display\n",
    "display(z1)\n",
    "display(z2)\n",
    "display(z1+z2)"
   ]
  },
  {
   "cell_type": "markdown",
   "metadata": {
    "slideshow": {
     "slide_type": "slide"
    }
   },
   "source": [
    "Symbols can also be created in \"packaged\" form, i.e. placed in a suitable container:"
   ]
  },
  {
   "cell_type": "code",
   "execution_count": null,
   "metadata": {},
   "outputs": [],
   "source": [
    "SymList = sym.symbols(['a', 'b', 'c', 'd'])\n",
    "display(SymList)\n",
    "display(SymList[1])"
   ]
  },
  {
   "cell_type": "code",
   "execution_count": null,
   "metadata": {},
   "outputs": [],
   "source": [
    "SymSet = sym.symbols({'a', 'b', 'c', 'd'})\n",
    "display(SymSet)\n",
    "sym.symbols('a') in SymSet"
   ]
  },
  {
   "cell_type": "markdown",
   "metadata": {
    "slideshow": {
     "slide_type": "slide"
    }
   },
   "source": [
    "If you need to create many symbols, there is range syntax to reduce typing:"
   ]
  },
  {
   "cell_type": "code",
   "execution_count": null,
   "metadata": {},
   "outputs": [],
   "source": [
    "ST = sym.symbols(\"x1:10\")\n",
    "ST"
   ]
  },
  {
   "cell_type": "code",
   "execution_count": null,
   "metadata": {},
   "outputs": [],
   "source": [
    "ST[0]**2+sym.exp(ST[3])"
   ]
  },
  {
   "cell_type": "code",
   "execution_count": null,
   "metadata": {},
   "outputs": [],
   "source": [
    "ST = sym.symbols(\"a:g\")\n",
    "ST"
   ]
  },
  {
   "cell_type": "code",
   "execution_count": null,
   "metadata": {},
   "outputs": [],
   "source": [
    "# Don't forget to clean up before you leave\n",
    "del SymList, SymSet, ST"
   ]
  },
  {
   "cell_type": "markdown",
   "metadata": {
    "slideshow": {
     "slide_type": "slide"
    }
   },
   "source": [
    "Let's see what we can do with symbols and symbolic expressions.\n",
    "\n",
    "# Substitution\n",
    "\n",
    "It is possible to perform substitutions using the `subs()` method:"
   ]
  },
  {
   "cell_type": "code",
   "execution_count": null,
   "metadata": {},
   "outputs": [],
   "source": [
    "display(z)\n",
    "z.subs(y,x1**2-3)"
   ]
  },
  {
   "cell_type": "markdown",
   "metadata": {
    "slideshow": {
     "slide_type": "subslide"
    }
   },
   "source": [
    "We can also substitute specific numeric values:"
   ]
  },
  {
   "cell_type": "code",
   "execution_count": null,
   "metadata": {},
   "outputs": [],
   "source": [
    "z.subs(x,1)\n",
    "# Note that cos(1) below is not evaluated"
   ]
  },
  {
   "cell_type": "code",
   "execution_count": null,
   "metadata": {},
   "outputs": [],
   "source": [
    "z.subs({x:1,y:0}) # Equivalently: z.subs([(x,1),(y,0)])"
   ]
  },
  {
   "cell_type": "markdown",
   "metadata": {
    "slideshow": {
     "slide_type": "slide"
    }
   },
   "source": [
    "# Evaluation\n",
    "\n",
    "Notice that SymPy will simplify expressions when it can but will not evaluate in general: in the preceding example `cos(1)` remained unevaluated. We can require evaluation to a floating point number by using the `evalf()` method. "
   ]
  },
  {
   "cell_type": "code",
   "execution_count": null,
   "metadata": {},
   "outputs": [],
   "source": [
    "sym.cos(1)"
   ]
  },
  {
   "cell_type": "code",
   "execution_count": null,
   "metadata": {},
   "outputs": [],
   "source": [
    "sym.cos(1).evalf()"
   ]
  },
  {
   "cell_type": "code",
   "execution_count": null,
   "metadata": {},
   "outputs": [],
   "source": [
    "type(sym.cos(1).evalf()) # The type is a special SymPy float"
   ]
  },
  {
   "cell_type": "code",
   "execution_count": null,
   "metadata": {},
   "outputs": [],
   "source": [
    "type(float(sym.cos(1).evalf())) # But it is convertible to a regular float"
   ]
  },
  {
   "cell_type": "markdown",
   "metadata": {
    "slideshow": {
     "slide_type": "subslide"
    }
   },
   "source": [
    "Some more examples:"
   ]
  },
  {
   "cell_type": "code",
   "execution_count": null,
   "metadata": {
    "slideshow": {
     "slide_type": "-"
    }
   },
   "outputs": [],
   "source": [
    "sym.cos(sym.pi/2) # Note the symbolic constant pi"
   ]
  },
  {
   "cell_type": "code",
   "execution_count": null,
   "metadata": {},
   "outputs": [],
   "source": [
    "type(sym.cos(sym.pi/2))"
   ]
  },
  {
   "cell_type": "code",
   "execution_count": null,
   "metadata": {
    "slideshow": {
     "slide_type": "-"
    }
   },
   "outputs": [],
   "source": [
    "sym.sqrt(9)"
   ]
  },
  {
   "cell_type": "code",
   "execution_count": null,
   "metadata": {},
   "outputs": [],
   "source": [
    "sym.sqrt(5)"
   ]
  },
  {
   "cell_type": "code",
   "execution_count": null,
   "metadata": {},
   "outputs": [],
   "source": [
    "sym.sqrt(5).evalf()"
   ]
  },
  {
   "cell_type": "markdown",
   "metadata": {
    "slideshow": {
     "slide_type": "slide"
    }
   },
   "source": [
    "# From strings to expressions\n",
    "\n",
    "A string can be converted into an expression using the `sympify()` function, provided that you are willing to risk an `eval()` call, which is performed internally. \n",
    "\n",
    "**Note the name of the function: it's `sympify` = \"make a SymPy object\", NOT `simplify` = \"make simpler\", which is another SymPy function!**"
   ]
  },
  {
   "cell_type": "code",
   "execution_count": null,
   "metadata": {},
   "outputs": [],
   "source": [
    "sym.sympify(\"a**2 + a*b + b**3\")"
   ]
  },
  {
   "cell_type": "markdown",
   "metadata": {
    "slideshow": {
     "slide_type": "slide"
    }
   },
   "source": [
    "# Evaluating at many points\n",
    "\n",
    "Sometimes you may want to take an expression and evaluate it for an entire array of values. This can be done efficiently with the `lambdify()` function. As the name hints, `lambdify()` produces a lambda function that is usable with a numerical package, usually NumPy."
   ]
  },
  {
   "cell_type": "code",
   "execution_count": null,
   "metadata": {},
   "outputs": [],
   "source": [
    "import numpy as np\n",
    "a = np.arange(-5,5)"
   ]
  },
  {
   "cell_type": "code",
   "execution_count": null,
   "metadata": {},
   "outputs": [],
   "source": [
    "expr = z2.subs(y,sym.exp(x))\n",
    "expr"
   ]
  },
  {
   "cell_type": "code",
   "execution_count": null,
   "metadata": {},
   "outputs": [],
   "source": [
    "# Produce a NumPy-compatible lambda function from expression expr,\n",
    "# treating the expression as a function of x\n",
    "f = sym.lambdify(x,expr,modules=\"numpy\") \n",
    "f(a)"
   ]
  },
  {
   "cell_type": "markdown",
   "metadata": {
    "slideshow": {
     "slide_type": "slide"
    }
   },
   "source": [
    "# Simplification\n",
    "\n",
    "This is performed by the `simplify()` function. Here it is in action:"
   ]
  },
  {
   "cell_type": "code",
   "execution_count": null,
   "metadata": {},
   "outputs": [],
   "source": [
    "expr = (x**2-x-6)/(x-3)\n",
    "display(expr)\n",
    "sym.simplify(expr)"
   ]
  },
  {
   "cell_type": "code",
   "execution_count": null,
   "metadata": {},
   "outputs": [],
   "source": [
    "sym.simplify( sym.factorial(x)/sym.factorial(x-2) )"
   ]
  },
  {
   "cell_type": "markdown",
   "metadata": {
    "slideshow": {
     "slide_type": "subslide"
    }
   },
   "source": [
    "- While simplification is intuitive and obvious in simple cases, there is no universal, mathematically rigorous way to do it in general.\n",
    "- As a result, `simplify()` is implemented to try various heuristics to make an expression \"simple\" according to its internal criteria but:\n",
    "    - it can be slow;\n",
    "    - it is not guaranteed to deliver a result;\n",
    "    - the result may not be what you expect or what can be obtained by pen-and-paper calculations."
   ]
  },
  {
   "cell_type": "markdown",
   "metadata": {
    "slideshow": {
     "slide_type": "subslide"
    }
   },
   "source": [
    "- SimPy has more specialized simplification routines to handle particular cases.\n",
    "- Thus, you are advised to use `simplify()` in cases where you don't exactly know what is happening and are trying to clean up an expression a little."
   ]
  },
  {
   "cell_type": "markdown",
   "metadata": {
    "slideshow": {
     "slide_type": "subslide"
    }
   },
   "source": [
    "Two specialized types of simplification routines are given by the `factor()` and `expand()` functions."
   ]
  },
  {
   "cell_type": "code",
   "execution_count": null,
   "metadata": {},
   "outputs": [],
   "source": [
    "sym.factor( x**3-3*x**2-33*x+35 )"
   ]
  },
  {
   "cell_type": "code",
   "execution_count": null,
   "metadata": {},
   "outputs": [],
   "source": [
    "sym.expand( (x-5)**3 )"
   ]
  },
  {
   "cell_type": "markdown",
   "metadata": {
    "slideshow": {
     "slide_type": "subslide"
    }
   },
   "source": [
    "The `collect()` function groups together common powers of a variable:"
   ]
  },
  {
   "cell_type": "code",
   "execution_count": null,
   "metadata": {},
   "outputs": [],
   "source": [
    "x,y,z = sym.symbols('x y z')\n",
    "expr = x*y + x - 3 + 2*x**2 - z*x**2 + x**3\n",
    "display(expr)\n",
    "sym.collect(expr,x)"
   ]
  },
  {
   "cell_type": "markdown",
   "metadata": {},
   "source": [
    "You can also use the `coeff()` method — whose syntax is `expr.coeff(x, n)` — to extract the coefficient in front of a particular power `n` from expression `expr`."
   ]
  },
  {
   "cell_type": "code",
   "execution_count": null,
   "metadata": {},
   "outputs": [],
   "source": [
    "sym.collect(expr,x).coeff(x,2)"
   ]
  },
  {
   "cell_type": "markdown",
   "metadata": {
    "slideshow": {
     "slide_type": "subslide"
    }
   },
   "source": [
    "The `cancel()` function does what its name suggests:"
   ]
  },
  {
   "cell_type": "code",
   "execution_count": null,
   "metadata": {},
   "outputs": [],
   "source": [
    "sym.cancel((x**3 + 2*x**2 - 5*x - 6)/(x**2 - x - 2))"
   ]
  },
  {
   "cell_type": "markdown",
   "metadata": {},
   "source": [
    "In many cases you can use `factor()` to achieve the same but according to the documentation `cancel()` is more efficient."
   ]
  },
  {
   "cell_type": "markdown",
   "metadata": {
    "slideshow": {
     "slide_type": "subslide"
    }
   },
   "source": [
    "It is possible to specify the type of symbolic variable:"
   ]
  },
  {
   "cell_type": "code",
   "execution_count": null,
   "metadata": {},
   "outputs": [],
   "source": [
    "x, y = sym.symbols('x y', positive=True)\n",
    "a, b = sym.symbols('a b', real=True)"
   ]
  },
  {
   "cell_type": "markdown",
   "metadata": {},
   "source": [
    "And, for example, perform power simplification operations on such variables:"
   ]
  },
  {
   "cell_type": "code",
   "execution_count": null,
   "metadata": {},
   "outputs": [],
   "source": [
    "sym.powsimp(x**a*x**b)"
   ]
  },
  {
   "cell_type": "markdown",
   "metadata": {
    "slideshow": {
     "slide_type": "slide"
    }
   },
   "source": [
    "# Calculus\n",
    "\n",
    "## Limits\n",
    "\n",
    "Limits are calculated using the `limit()` function."
   ]
  },
  {
   "cell_type": "code",
   "execution_count": null,
   "metadata": {},
   "outputs": [],
   "source": [
    "x, y = sym.symbols('x y')\n",
    "a, b = sym.symbols('a b')"
   ]
  },
  {
   "cell_type": "code",
   "execution_count": null,
   "metadata": {},
   "outputs": [],
   "source": [
    "sym.limit((x*y)/sym.sqrt(x),x,0)"
   ]
  },
  {
   "cell_type": "code",
   "execution_count": null,
   "metadata": {},
   "outputs": [],
   "source": [
    "sym.limit((x*y)/sym.sqrt(x),y,5)"
   ]
  },
  {
   "cell_type": "markdown",
   "metadata": {},
   "source": [
    "The special variable `oo` represents infinity:"
   ]
  },
  {
   "cell_type": "code",
   "execution_count": null,
   "metadata": {},
   "outputs": [],
   "source": [
    "sym.limit(x/sym.sqrt(x),x,sym.oo)"
   ]
  },
  {
   "cell_type": "markdown",
   "metadata": {
    "slideshow": {
     "slide_type": "subslide"
    }
   },
   "source": [
    "You can evaluate a one-sided limit by passing `'+'` or `'-'` as another argument:"
   ]
  },
  {
   "cell_type": "code",
   "execution_count": null,
   "metadata": {},
   "outputs": [],
   "source": [
    "sym.limit(1/x, x, 0, '+')"
   ]
  },
  {
   "cell_type": "code",
   "execution_count": null,
   "metadata": {},
   "outputs": [],
   "source": [
    "sym.limit(1/x, x, 0, '-')"
   ]
  },
  {
   "cell_type": "markdown",
   "metadata": {
    "slideshow": {
     "slide_type": "slide"
    }
   },
   "source": [
    "# Calculus\n",
    "\n",
    "## Differentiation\n",
    "\n",
    "Differentiation is performed by means of the `diff()` function."
   ]
  },
  {
   "cell_type": "code",
   "execution_count": null,
   "metadata": {},
   "outputs": [],
   "source": [
    "sym.diff(sym.sqrt(x),x)"
   ]
  },
  {
   "cell_type": "markdown",
   "metadata": {},
   "source": [
    "You can pass either several variables or a variable and a number to compute higher-order derivatives:"
   ]
  },
  {
   "cell_type": "code",
   "execution_count": null,
   "metadata": {},
   "outputs": [],
   "source": [
    "sym.diff(sym.sqrt(x),x,x,x)"
   ]
  },
  {
   "cell_type": "code",
   "execution_count": null,
   "metadata": {},
   "outputs": [],
   "source": [
    "sym.diff(sym.sqrt(x),x,3)"
   ]
  },
  {
   "cell_type": "markdown",
   "metadata": {
    "slideshow": {
     "slide_type": "subslide"
    }
   },
   "source": [
    "You can also evaluate mixed derivatives in the same manner:"
   ]
  },
  {
   "cell_type": "code",
   "execution_count": null,
   "metadata": {},
   "outputs": [],
   "source": [
    "sym.diff(sym.exp(x*sym.cos(y)),x,y)"
   ]
  },
  {
   "cell_type": "markdown",
   "metadata": {
    "slideshow": {
     "slide_type": "slide"
    }
   },
   "source": [
    "# Calculus\n",
    "\n",
    "## Integration\n",
    "\n",
    "The `integrate()` function performs definite or indefinite integration. Passing an expression and a variable computes the indefinite integral (antiderivative):"
   ]
  },
  {
   "cell_type": "code",
   "execution_count": null,
   "metadata": {},
   "outputs": [],
   "source": [
    "sym.integrate(x**3,x)"
   ]
  },
  {
   "cell_type": "code",
   "execution_count": null,
   "metadata": {},
   "outputs": [],
   "source": [
    "sym.integrate(sym.exp(2*y)*x**3,x,y)"
   ]
  },
  {
   "cell_type": "markdown",
   "metadata": {},
   "source": [
    "Notice that an integration constant is not included in the result. If you insist on getting it automatically, the [SymPy tutorial](http://docs.sympy.org/latest/tutorial/) recommends using ODE solution functionality. "
   ]
  },
  {
   "cell_type": "markdown",
   "metadata": {
    "slideshow": {
     "slide_type": "subslide"
    }
   },
   "source": [
    "For definite integrals, pass a tuple of the variable and its limits."
   ]
  },
  {
   "cell_type": "code",
   "execution_count": null,
   "metadata": {},
   "outputs": [],
   "source": [
    "sym.integrate(x**2, (x, 0, 1))"
   ]
  },
  {
   "cell_type": "code",
   "execution_count": null,
   "metadata": {},
   "outputs": [],
   "source": [
    "sym.integrate(1/sym.sqrt(2*sym.pi)*sym.exp(-x**2/2),(x,-sym.oo,sym.oo))"
   ]
  },
  {
   "cell_type": "markdown",
   "metadata": {},
   "source": [
    "The same approach works for several variables:"
   ]
  },
  {
   "cell_type": "code",
   "execution_count": null,
   "metadata": {},
   "outputs": [],
   "source": [
    "sym.integrate(sym.exp(-x**2 - y**2), \n",
    "              (x, -sym.oo, sym.oo), (y, -sym.oo, sym.oo))"
   ]
  },
  {
   "cell_type": "markdown",
   "metadata": {
    "slideshow": {
     "slide_type": "slide"
    }
   },
   "source": [
    "# Linear algebra\n",
    "\n",
    "## Constructing matrices\n",
    "\n",
    "A SymPy matrix is constructed in a manner similar to a NumPy array."
   ]
  },
  {
   "cell_type": "code",
   "execution_count": null,
   "metadata": {},
   "outputs": [],
   "source": [
    "M = sym.Matrix([[1,5,2],\n",
    "                [3,-5,8],\n",
    "                [-7,7,11]])\n",
    "M"
   ]
  },
  {
   "cell_type": "markdown",
   "metadata": {},
   "source": [
    "A column vector is constructed as a matrix by passing an ordinary list."
   ]
  },
  {
   "cell_type": "code",
   "execution_count": null,
   "metadata": {},
   "outputs": [],
   "source": [
    "v = sym.Matrix([2,5,7])\n",
    "v"
   ]
  },
  {
   "cell_type": "markdown",
   "metadata": {
    "slideshow": {
     "slide_type": "subslide"
    }
   },
   "source": [
    "Standard operations then follow naturally:"
   ]
  },
  {
   "cell_type": "code",
   "execution_count": null,
   "metadata": {},
   "outputs": [],
   "source": [
    "M*v"
   ]
  },
  {
   "cell_type": "code",
   "execution_count": null,
   "metadata": {},
   "outputs": [],
   "source": [
    "M**2"
   ]
  },
  {
   "cell_type": "code",
   "execution_count": null,
   "metadata": {},
   "outputs": [],
   "source": [
    "M+M**2"
   ]
  },
  {
   "cell_type": "markdown",
   "metadata": {
    "slideshow": {
     "slide_type": "subslide"
    }
   },
   "source": [
    "Matrix inversion is done by raising to power -1:"
   ]
  },
  {
   "cell_type": "code",
   "execution_count": null,
   "metadata": {},
   "outputs": [],
   "source": [
    "M**(-1)"
   ]
  },
  {
   "cell_type": "markdown",
   "metadata": {},
   "source": [
    "A vector/matrix transpose is obtained just like in NumPy, by using the `T` attribute:"
   ]
  },
  {
   "cell_type": "code",
   "execution_count": null,
   "metadata": {},
   "outputs": [],
   "source": [
    "v.T*M"
   ]
  },
  {
   "cell_type": "markdown",
   "metadata": {
    "slideshow": {
     "slide_type": "subslide"
    }
   },
   "source": [
    "Submatrices and individual elements are accessible with the usual indexing and slicing syntax:"
   ]
  },
  {
   "cell_type": "code",
   "execution_count": null,
   "metadata": {},
   "outputs": [],
   "source": [
    "M[0,1]"
   ]
  },
  {
   "cell_type": "code",
   "execution_count": null,
   "metadata": {},
   "outputs": [],
   "source": [
    "M[0,:]"
   ]
  },
  {
   "cell_type": "code",
   "execution_count": null,
   "metadata": {},
   "outputs": [],
   "source": [
    "M[:,1]"
   ]
  },
  {
   "cell_type": "code",
   "execution_count": null,
   "metadata": {},
   "outputs": [],
   "source": [
    "M[1:,1:]"
   ]
  },
  {
   "cell_type": "markdown",
   "metadata": {
    "slideshow": {
     "slide_type": "subslide"
    }
   },
   "source": [
    "The `eye()`, `ones()`, `zeros()` and `diag()` functions are also available:"
   ]
  },
  {
   "cell_type": "code",
   "execution_count": null,
   "metadata": {},
   "outputs": [],
   "source": [
    "sym.eye(3)"
   ]
  },
  {
   "cell_type": "code",
   "execution_count": null,
   "metadata": {},
   "outputs": [],
   "source": [
    "sym.diag(1,2,3)"
   ]
  },
  {
   "cell_type": "markdown",
   "metadata": {
    "slideshow": {
     "slide_type": "slide"
    }
   },
   "source": [
    "\n",
    "\n",
    "# Linear algebra\n",
    "\n",
    "## Determinants\n",
    "\n",
    "A determinant can be computed using the `det()` method."
   ]
  },
  {
   "cell_type": "code",
   "execution_count": null,
   "metadata": {},
   "outputs": [],
   "source": [
    "M.det()"
   ]
  },
  {
   "cell_type": "markdown",
   "metadata": {},
   "source": [
    "More interestingly, you can create a symbolic matrix and, e.g., compute its determinant."
   ]
  },
  {
   "cell_type": "code",
   "execution_count": null,
   "metadata": {},
   "outputs": [],
   "source": [
    "Ms = sym.Matrix(2,2,[a,b,x,y])\n",
    "display(Ms)\n",
    "Ms.det()"
   ]
  },
  {
   "cell_type": "markdown",
   "metadata": {
    "slideshow": {
     "slide_type": "slide"
    }
   },
   "source": [
    "\n",
    "\n",
    "# Linear algebra\n",
    "\n",
    "## Linear systems\n",
    "\n",
    "A linear system can be solved by means of the `LUsolve()` method of a matrix. The method takes the right-hand side vector of the system."
   ]
  },
  {
   "cell_type": "code",
   "execution_count": null,
   "metadata": {},
   "outputs": [],
   "source": [
    "B = sym.Matrix([187,187,440])\n",
    "X = M.LUsolve(B)\n",
    "X"
   ]
  },
  {
   "cell_type": "code",
   "execution_count": null,
   "metadata": {},
   "outputs": [],
   "source": [
    "M*X"
   ]
  },
  {
   "cell_type": "markdown",
   "metadata": {
    "slideshow": {
     "slide_type": "slide"
    }
   },
   "source": [
    "\n",
    "\n",
    "# Linear algebra\n",
    "\n",
    "## Eigenvectors and eigenvalues\n",
    "\n",
    "These can be obtained using the `eigenvals()` and `eigenvects()` methods."
   ]
  },
  {
   "cell_type": "code",
   "execution_count": null,
   "metadata": {},
   "outputs": [],
   "source": [
    "A = sym.Matrix([[7,-4],[5,-2]])\n",
    "A.eigenvals()"
   ]
  },
  {
   "cell_type": "markdown",
   "metadata": {},
   "source": [
    "In the above output, the keys in the dictionary are the eigenvalues and the values are their algebraic multiplicities (i.e. they show how many times the eigenvalue is repeated)."
   ]
  },
  {
   "cell_type": "code",
   "execution_count": null,
   "metadata": {},
   "outputs": [],
   "source": [
    "A.eigenvects() # Returns eigenvalue, algebraic multiplicity and eigenvectors"
   ]
  },
  {
   "cell_type": "markdown",
   "metadata": {
    "slideshow": {
     "slide_type": "slide"
    }
   },
   "source": [
    "# Solving equations\n",
    "\n",
    "## Algebraic equations\n",
    "\n",
    "A symbolic equation in SymPy is expressed using the `Eq` function."
   ]
  },
  {
   "cell_type": "code",
   "execution_count": null,
   "metadata": {},
   "outputs": [],
   "source": [
    "eq = sym.Eq(2*x+4*y,-x-y**2)\n",
    "eq"
   ]
  },
  {
   "cell_type": "markdown",
   "metadata": {},
   "source": [
    "We can solve it using the `solveset()` function."
   ]
  },
  {
   "cell_type": "code",
   "execution_count": null,
   "metadata": {},
   "outputs": [],
   "source": [
    "sym.solveset(eq,x)"
   ]
  },
  {
   "cell_type": "code",
   "execution_count": null,
   "metadata": {},
   "outputs": [],
   "source": [
    "sym.solveset(eq,y)"
   ]
  },
  {
   "cell_type": "markdown",
   "metadata": {
    "slideshow": {
     "slide_type": "subslide"
    }
   },
   "source": [
    "We can also provide an expression instead of an equality object. SymPy then assumes that the equation is of the form `expression = 0`. You can additionally instruct `solveset` to work in a specific domain (real or complex numbers)."
   ]
  },
  {
   "cell_type": "code",
   "execution_count": null,
   "metadata": {},
   "outputs": [],
   "source": [
    "sym.solveset(x**2+1,x) # Complex numbers assumed by default\n",
    "\n",
    "# Equivalently:\n",
    "# sym.solveset(x**2+1,x,domain=sym.S.Complexes)"
   ]
  },
  {
   "cell_type": "code",
   "execution_count": null,
   "metadata": {},
   "outputs": [],
   "source": [
    "sym.solveset(x**2+1,x,domain=sym.S.Reals)"
   ]
  },
  {
   "cell_type": "markdown",
   "metadata": {
    "slideshow": {
     "slide_type": "subslide"
    }
   },
   "source": [
    "If you need to solve a nonlinear *system* of equations, the manual recommends using `solve()`:"
   ]
  },
  {
   "cell_type": "code",
   "execution_count": null,
   "metadata": {},
   "outputs": [],
   "source": [
    "sym.solve([x*y - 1, x - 2], x, y)"
   ]
  },
  {
   "cell_type": "markdown",
   "metadata": {
    "slideshow": {
     "slide_type": "slide"
    }
   },
   "source": [
    "# Solving equations\n",
    "\n",
    "## Differential equations\n",
    "\n",
    "To solve differential equations, we create symbols that are of type *unknown function*:"
   ]
  },
  {
   "cell_type": "code",
   "execution_count": null,
   "metadata": {},
   "outputs": [],
   "source": [
    "f, g = sym.symbols('f g', cls=sym.Function)"
   ]
  },
  {
   "cell_type": "markdown",
   "metadata": {},
   "source": [
    "We can then pass arguments to these functions. They will not produce anything specific (since we have not specified a functional form) but will be recognized as functions."
   ]
  },
  {
   "cell_type": "code",
   "execution_count": null,
   "metadata": {},
   "outputs": [],
   "source": [
    "f(x)"
   ]
  },
  {
   "cell_type": "code",
   "execution_count": null,
   "metadata": {},
   "outputs": [],
   "source": [
    "g(y)"
   ]
  },
  {
   "cell_type": "markdown",
   "metadata": {
    "slideshow": {
     "slide_type": "subslide"
    }
   },
   "source": [
    "Such objects can be notionally differentiated:"
   ]
  },
  {
   "cell_type": "code",
   "execution_count": null,
   "metadata": {},
   "outputs": [],
   "source": [
    "f(x).diff(x) # Notice that diff() works as a method"
   ]
  },
  {
   "cell_type": "code",
   "execution_count": null,
   "metadata": {},
   "outputs": [],
   "source": [
    "f(x).diff(y)"
   ]
  },
  {
   "cell_type": "markdown",
   "metadata": {},
   "source": [
    "We can then use `dsolve()` to try to find a solution:"
   ]
  },
  {
   "cell_type": "code",
   "execution_count": null,
   "metadata": {},
   "outputs": [],
   "source": [
    "sym.dsolve(f(x).diff(x)-f(x)/x,f(x))"
   ]
  },
  {
   "cell_type": "markdown",
   "metadata": {
    "slideshow": {
     "slide_type": "subslide"
    }
   },
   "source": [
    "Or, as another example:"
   ]
  },
  {
   "cell_type": "code",
   "execution_count": null,
   "metadata": {
    "slideshow": {
     "slide_type": "-"
    }
   },
   "outputs": [],
   "source": [
    "sol = sym.dsolve(f(x).diff(x,2)-6*x,f(x))\n",
    "sol"
   ]
  },
  {
   "cell_type": "markdown",
   "metadata": {},
   "source": [
    "And we can even solve for the constants `C1` and `C2` if we have appropriate boundary conditions:"
   ]
  },
  {
   "cell_type": "code",
   "execution_count": null,
   "metadata": {},
   "outputs": [],
   "source": [
    "C1,C2 = sym.symbols('C1 C2')\n",
    "sym.solve([sol.args[1].subs(x,0)-0,\n",
    "       sol.args[1].subs(x,1)-1],C1,C2)"
   ]
  },
  {
   "cell_type": "markdown",
   "metadata": {
    "slideshow": {
     "slide_type": "slide"
    }
   },
   "source": [
    "# Statistics\n",
    "\n",
    "SymPy has a submodule `stats` that can help with random quantities. You are encouraged to  check out the [docs](http://docs.sympy.org/latest/modules/stats.html) but here are some illustrations to give you an idea.\n",
    "\n",
    "## The normal distribution"
   ]
  },
  {
   "cell_type": "code",
   "execution_count": null,
   "metadata": {},
   "outputs": [],
   "source": [
    "from sympy.stats import Normal, density, E, variance, std\n",
    "mu = sym.symbols(\"mu\")\n",
    "sigma = sym.symbols(\"sigma\", positive=True)\n",
    "z = sym.symbols(\"z\")\n",
    "X = Normal(\"x\", mu, sigma)"
   ]
  },
  {
   "cell_type": "code",
   "execution_count": null,
   "metadata": {},
   "outputs": [],
   "source": [
    "density(X)(z)"
   ]
  },
  {
   "cell_type": "code",
   "execution_count": null,
   "metadata": {},
   "outputs": [],
   "source": [
    "E(X)"
   ]
  },
  {
   "cell_type": "code",
   "execution_count": null,
   "metadata": {},
   "outputs": [],
   "source": [
    "sym.simplify(E(X)) # This is required in older versions of SymPy to clean up the output"
   ]
  },
  {
   "cell_type": "code",
   "execution_count": null,
   "metadata": {
    "slideshow": {
     "slide_type": "subslide"
    }
   },
   "outputs": [],
   "source": [
    "variance(X) # or sym.simplify(variance(X))"
   ]
  },
  {
   "cell_type": "code",
   "execution_count": null,
   "metadata": {
    "slideshow": {
     "slide_type": "-"
    }
   },
   "outputs": [],
   "source": [
    "std(X) # or, if necessary: sym.simplify(std(X))"
   ]
  },
  {
   "cell_type": "markdown",
   "metadata": {
    "slideshow": {
     "slide_type": "slide"
    }
   },
   "source": [
    "## The Poisson distribution"
   ]
  },
  {
   "cell_type": "code",
   "execution_count": null,
   "metadata": {
    "slideshow": {
     "slide_type": "-"
    }
   },
   "outputs": [],
   "source": [
    "from sympy.stats import Poisson\n",
    "rate = sym.symbols(\"lambda\", positive=True)\n",
    "k = sym.symbols(\"k\")\n",
    "X = Poisson(\"x\", rate)"
   ]
  },
  {
   "cell_type": "code",
   "execution_count": null,
   "metadata": {},
   "outputs": [],
   "source": [
    "density(X)(k)"
   ]
  },
  {
   "cell_type": "code",
   "execution_count": null,
   "metadata": {},
   "outputs": [],
   "source": [
    "E(X)"
   ]
  },
  {
   "cell_type": "code",
   "execution_count": null,
   "metadata": {},
   "outputs": [],
   "source": [
    "variance(X) # if you get messy output, try this: sym.simplify(variance(X))"
   ]
  }
 ],
 "metadata": {
  "celltoolbar": "Slideshow",
  "kernelspec": {
   "display_name": "Python 3",
   "language": "python",
   "name": "python3"
  },
  "language_info": {
   "codemirror_mode": {
    "name": "ipython",
    "version": 3
   },
   "file_extension": ".py",
   "mimetype": "text/x-python",
   "name": "python",
   "nbconvert_exporter": "python",
   "pygments_lexer": "ipython3",
   "version": "3.6.7"
  }
 },
 "nbformat": 4,
 "nbformat_minor": 1
}
