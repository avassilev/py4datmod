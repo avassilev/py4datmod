{
 "cells": [
  {
   "cell_type": "markdown",
   "metadata": {
    "slideshow": {
     "slide_type": "slide"
    }
   },
   "source": [
    "<center>\n",
    "    \n",
    "# R406: Applied Economic Modelling with Python\n",
    "\n",
    "</center>\n",
    "\n",
    "<br> <br> \n",
    "\n",
    "<center>\n",
    "\n",
    "## Unconstrained Optimization. Static Optimization with Equality Constraints\n",
    "\n",
    "</center>\n",
    "\n",
    "<br><br> \n",
    "\n",
    "<center>\n",
    "<b> Andrey Vassilev </b>\n",
    "</center>\n",
    "\n",
    "\n",
    " "
   ]
  },
  {
   "cell_type": "markdown",
   "metadata": {
    "slideshow": {
     "slide_type": "slide"
    }
   },
   "source": [
    "# Contents\n",
    "\n",
    "- Finding extrema of functions of one variable\n",
    "- Finding extrema of functions of several variables\n",
    "- Optimization with equality constraints"
   ]
  },
  {
   "cell_type": "code",
   "execution_count": null,
   "metadata": {
    "slideshow": {
     "slide_type": "slide"
    }
   },
   "outputs": [],
   "source": [
    "%matplotlib notebook\n",
    "import numpy as np\n",
    "import scipy as sp\n",
    "import scipy.optimize as spo\n",
    "from mpl_toolkits.mplot3d import Axes3D\n",
    "from matplotlib import cm\n",
    "import matplotlib.pyplot as plt\n",
    "from IPython.display import display, Math, Latex, HTML\n",
    "import sympy as sym\n",
    "sym.init_printing(use_unicode=True)"
   ]
  },
  {
   "cell_type": "markdown",
   "metadata": {
    "slideshow": {
     "slide_type": "slide"
    }
   },
   "source": [
    "# Functions of one variable"
   ]
  },
  {
   "cell_type": "markdown",
   "metadata": {
    "slideshow": {
     "slide_type": "slide"
    }
   },
   "source": [
    "$$ f(x) = x^3 $$"
   ]
  },
  {
   "cell_type": "code",
   "execution_count": null,
   "metadata": {
    "slideshow": {
     "slide_type": "-"
    }
   },
   "outputs": [],
   "source": [
    "X = np.linspace(-2,2,200)\n",
    "Y = X**3\n",
    "f = plt.figure()\n",
    "plt.plot(X,Y)\n",
    "plt.xlabel('$x$',fontsize=15)\n",
    "plt.ylabel('$x^3$',fontsize=15)\n",
    "plt.show()"
   ]
  },
  {
   "cell_type": "markdown",
   "metadata": {
    "slideshow": {
     "slide_type": "slide"
    }
   },
   "source": [
    "Minimize the function\n",
    "$$f(x) = \\ln \\left( 1+ |x|^{2+\\sin x} \\right)$$"
   ]
  },
  {
   "cell_type": "code",
   "execution_count": null,
   "metadata": {
    "slideshow": {
     "slide_type": "subslide"
    }
   },
   "outputs": [],
   "source": [
    "xmin = 3; xmax = 6; npoints = 1000\n",
    "# Sequentially uncomment the following and rerun to see a more complete picture\n",
    "# xmin = -5; xmax = 6; npoints = 1000\n",
    "# xmin = -100; xmax = 100; npoints = 1000\n",
    "\n",
    "X = np.linspace(xmin,xmax,npoints)\n",
    "Y = np.log(1+np.abs(X)**(2+np.sin(X)))\n",
    "f = plt.figure()\n",
    "plt.plot(X,Y)\n",
    "plt.xlabel('$x$',fontsize=15)\n",
    "plt.ylabel('$f(x)$',fontsize=15)\n",
    "plt.show()"
   ]
  },
  {
   "cell_type": "markdown",
   "metadata": {
    "slideshow": {
     "slide_type": "subslide"
    }
   },
   "source": [
    "`scipy.optimize` has a facility for minimizing scalar functions: `minimize_scalar`."
   ]
  },
  {
   "cell_type": "code",
   "execution_count": null,
   "metadata": {},
   "outputs": [],
   "source": [
    "f = lambda x : np.log(1+np.abs(x)**(2+np.sin(x)))\n",
    "sol = spo.minimize_scalar(f)\n",
    "sol"
   ]
  },
  {
   "cell_type": "markdown",
   "metadata": {
    "slideshow": {
     "slide_type": "subslide"
    }
   },
   "source": [
    "The `minimize_scalar` function has a method `bounded` which takes a tuple of two bounds defining an (open) interval to perform the evaluation on."
   ]
  },
  {
   "cell_type": "code",
   "execution_count": null,
   "metadata": {},
   "outputs": [],
   "source": [
    "f = lambda x : np.log(1+np.abs(x)**(2+np.sin(x)))\n",
    "sol = spo.minimize_scalar(f, bounds = (3.0,12.0), method = 'bounded')\n",
    "sol"
   ]
  },
  {
   "cell_type": "markdown",
   "metadata": {},
   "source": [
    "Try to change the upper bound to `14.0` to see how the method misses the minimum `4.566` to arrive at another local minimum yielding a higher value of the objective function."
   ]
  },
  {
   "cell_type": "markdown",
   "metadata": {
    "slideshow": {
     "slide_type": "slide"
    }
   },
   "source": [
    "# Functions of several variables"
   ]
  },
  {
   "cell_type": "markdown",
   "metadata": {
    "slideshow": {
     "slide_type": "slide"
    }
   },
   "source": [
    "$$ f(x,y) = x^2+2y^2-3x+xy $$"
   ]
  },
  {
   "cell_type": "code",
   "execution_count": null,
   "metadata": {
    "slideshow": {
     "slide_type": "slide"
    }
   },
   "outputs": [],
   "source": [
    "\n",
    "x,y = np.meshgrid(np.linspace(-3,6,200),np.linspace(-3,3,200))\n",
    "z = x**2 +2*y**2-3*x+x*y\n",
    "fig = plt.figure()\n",
    "ax = fig.gca(projection='3d')\n",
    "ax.plot_surface(x, y, z, \n",
    "                rstride=5, \n",
    "                cstride=5, \n",
    "                alpha=0.3,\n",
    "                cmap=cm.BuPu)         \n",
    "\n",
    "cset = ax.contourf(x, y, z, \n",
    "                   zdir='z',\n",
    "                   offset=-10,\n",
    "                   cmap=cm.BuPu)   \n",
    "ax.set_xlabel('$x$',fontsize=15)\n",
    "ax.set_xlim(-3, 6)\n",
    "ax.set_ylabel('$y$',fontsize=15)\n",
    "ax.set_ylim(-3, 3)\n",
    "ax.set_zlabel('$f(x,y)$',fontsize=15)\n",
    "ax.set_zlim(-10, 50)\n",
    "\n",
    "ax.view_init(elev=18, azim=-60)           # elevation and angle\n",
    "ax.dist=12   \n",
    "\n",
    "plt.show()"
   ]
  },
  {
   "cell_type": "markdown",
   "metadata": {
    "slideshow": {
     "slide_type": "slide"
    }
   },
   "source": [
    "$$ f(x,y) = x^2 - y^2 $$"
   ]
  },
  {
   "cell_type": "code",
   "execution_count": null,
   "metadata": {
    "scrolled": true,
    "slideshow": {
     "slide_type": "slide"
    }
   },
   "outputs": [],
   "source": [
    "x,y = np.meshgrid(np.linspace(-6,6,200),np.linspace(-6,6,200))\n",
    "z = x**2 - y**2\n",
    "fig = plt.figure()\n",
    "ax = fig.gca(projection='3d')         # set the 3d axes\n",
    "ax.plot_surface(x, y, z, \n",
    "                rstride=5, \n",
    "                cstride=5, \n",
    "                alpha=0.3,            # transparency of the surface \n",
    "                cmap=cm.BuPu)         # colour map\n",
    "\n",
    "cset = ax.contourf(x, y, z, \n",
    "                   zdir='z',          # direction of contour projection\n",
    "                   offset=-70,        # how \"far\" render the contour map\n",
    "                   cmap=cm.BuPu)      # colour map\n",
    "ax.set_xlabel('$x$',fontsize=15)\n",
    "ax.set_xlim(-6, 6)\n",
    "ax.set_ylabel('$y$',fontsize=15)\n",
    "ax.set_ylim(-6, 6)\n",
    "ax.set_zlabel('$f(x,y)$',fontsize=15)\n",
    "ax.set_zlim(-70, 50)\n",
    "\n",
    "ax.view_init(elev=18, azim=-60)           # elevation and angle\n",
    "ax.dist=12\n",
    "\n",
    "plt.show()"
   ]
  },
  {
   "cell_type": "markdown",
   "metadata": {
    "slideshow": {
     "slide_type": "slide"
    }
   },
   "source": [
    "- For functions of more than one variable `scipy.optimize` offers the `minimize` function.\n",
    "- `minimize` requires an objective function to be minimized and an initial guess for the solution.\n",
    "- It can also take other arguments.\n",
    "- The objective function should accept a 1-D Numpy array as its first argument.\n",
    "- The initial guess should also be a 1-D Numpy array."
   ]
  },
  {
   "cell_type": "code",
   "execution_count": null,
   "metadata": {},
   "outputs": [],
   "source": [
    "f = lambda x: x[0]**2 +2*x[1]**2-3*x[0]+x[0]*x[1]\n",
    "initguess = np.array([1.0,1.0])\n",
    "sol = spo.minimize(f,initguess)\n",
    "sol"
   ]
  },
  {
   "cell_type": "markdown",
   "metadata": {
    "slideshow": {
     "slide_type": "slide"
    }
   },
   "source": [
    "# Optimization under equality constraints"
   ]
  },
  {
   "cell_type": "markdown",
   "metadata": {
    "slideshow": {
     "slide_type": "slide"
    }
   },
   "source": [
    "# Symbolic solution example\n",
    "\n",
    "Consider the utility maximization problem\n",
    "$$\\max_{x_1,x_2} x_1^a x_2^b$$\n",
    "s.t.\n",
    "$$p_1 x_1+p_2 x_2 = I.$$"
   ]
  },
  {
   "cell_type": "code",
   "execution_count": null,
   "metadata": {
    "slideshow": {
     "slide_type": "subslide"
    }
   },
   "outputs": [],
   "source": [
    "x1,x2,p1,p2,I,a,b = sym.symbols('x1,x2,p1,p2,I,a,b')\n",
    "lmbda = sym.symbols('lmbda')\n",
    "L = x1**a*x2**b - lmbda*(p1*x1+p2*x2-I)\n",
    "d1 = L.diff(x1)\n",
    "d2 = L.diff(x2)\n",
    "res = sym.solve([d1,d2,p1*x1+p2*x2-I],x1,x2,lmbda)\n",
    "x1sol = res[0][0]\n",
    "x2sol = res[0][1]\n",
    "\n",
    "display(Latex(r\"$x_1=\"+sym.latex(x1sol)+r\"$\"))\n",
    "display(Latex(r\"$x_2=\"+sym.latex(x2sol)+r\"$\"))"
   ]
  },
  {
   "cell_type": "markdown",
   "metadata": {
    "slideshow": {
     "slide_type": "slide"
    }
   },
   "source": [
    "# Numerical solution examples\n",
    "\n",
    "- The function `minimize` from `scipy.optimize` also allows us to solve minimization problems subject to equality and/or inequality constraints. \n",
    "- The general problem solved by `minimize` is the following:\n",
    "$$\\min_{x}f(x)$$ subject to\n",
    "\n",
    "$$g_i(x) \\geq 0,~  i = 1,...,m,$$\n",
    "$$h_j(x)  = 0,~  j = 1,...,p.$$\n",
    "- We shall deal with the case of equality constraints here."
   ]
  },
  {
   "cell_type": "markdown",
   "metadata": {
    "slideshow": {
     "slide_type": "subslide"
    }
   },
   "source": [
    "- Constraints are syntactically defined using a tuple of dictionaries passed via the `constraints` keyword argument.\n",
    "- Each dictionary should have (at least) the structure \n",
    "```\n",
    "{'type' : 'eq', 'fun' : <function>}\n",
    "```\n",
    "- In the case of more than one equality constraint they can be defined in two alternative ways: \n",
    "  - By means of separate dictionaries (one dictionary per constraint with the respective function returning a scalar output)\n",
    "  - By means of one dictionary containing a vector function that encompasses all the constraints\n",
    "- Bounds on the variables are handled separately for convenience via a separate `bounds` keyword argument."
   ]
  },
  {
   "cell_type": "markdown",
   "metadata": {
    "slideshow": {
     "slide_type": "subslide"
    }
   },
   "source": [
    "Maximize the function $$f(x_1,x_2) = x_1x_2$$\n",
    "subject to $$x_1+x_2=6.$$"
   ]
  },
  {
   "cell_type": "code",
   "execution_count": null,
   "metadata": {},
   "outputs": [],
   "source": [
    "fun = lambda x: -x[0]*x[1] # We reverse the sign as we are using minimize\n",
    "cons = ({'type': 'eq', 'fun': lambda x:  x[0] + x[1] - 6},)\n",
    "sol = spo.minimize(fun, x0 = np.array([0,0]), constraints=cons)\n",
    "sol"
   ]
  },
  {
   "cell_type": "markdown",
   "metadata": {
    "slideshow": {
     "slide_type": "subslide"
    }
   },
   "source": [
    "Find the minima and maxima of the function $$f(x_1,x_2) = x_1 -2x_2+2x_3$$\n",
    "subject to $$x_1^2+x_2^2+x_3^2=1.$$"
   ]
  },
  {
   "cell_type": "code",
   "execution_count": null,
   "metadata": {},
   "outputs": [],
   "source": [
    "# Minimization\n",
    "fun = lambda x: x[0]-2*x[1]+2*x[2] \n",
    "cons = ({'type': 'eq', 'fun': lambda x:  x[0]**2 + x[1]**2 + x[2]**2 - 1},)\n",
    "sol = spo.minimize(fun, x0 = np.array([0,0,0]), constraints=cons)\n",
    "sol"
   ]
  },
  {
   "cell_type": "code",
   "execution_count": null,
   "metadata": {},
   "outputs": [],
   "source": [
    "# Maximization\n",
    "fun = lambda x: -(x[0]-2*x[1]+2*x[2]) # We reverse the sign as we are using minimize\n",
    "cons = ({'type': 'eq', 'fun': lambda x:  x[0]**2 + x[1]**2 + x[2]**2 - 1},)\n",
    "sol = spo.minimize(fun, x0 = np.array([0,0,0]), constraints=cons)\n",
    "sol"
   ]
  },
  {
   "cell_type": "markdown",
   "metadata": {
    "slideshow": {
     "slide_type": "slide"
    }
   },
   "source": [
    "Find the minimum of the function $$f(x_1,x_2,x_3) = \\sqrt{x_1^2 +x_2^2+x_3^2}$$\n",
    "subject to $$x_1^2+x_2^2=x_3^2,$$\n",
    "$$x_1-2x_3=3,$$"
   ]
  },
  {
   "cell_type": "code",
   "execution_count": null,
   "metadata": {
    "slideshow": {
     "slide_type": "subslide"
    }
   },
   "outputs": [],
   "source": [
    "fun = lambda x: np.sqrt(x[0]**2 +x[1]**2 + x[2]**2)\n",
    "cons = ({'type': 'eq', 'fun': lambda x:  x[0]**2 + x[1]**2 - x[2]**2},\n",
    "        {'type': 'eq', 'fun': lambda x:  x[0] - 2*x[2] - 3})\n",
    "initguess = np.array([-1,-1,-1])\n",
    "# Try the following initial condition for the solver. \n",
    "# initguess = np.array([0,0,0]) # Is the solution accurate?\n",
    "sol = spo.minimize(fun, x0 = initguess, constraints=cons)\n",
    "sol"
   ]
  },
  {
   "cell_type": "code",
   "execution_count": null,
   "metadata": {
    "slideshow": {
     "slide_type": "subslide"
    }
   },
   "outputs": [],
   "source": [
    "# The same, with the constraints provided in vector form\n",
    "fun = lambda x: np.sqrt(x[0]**2 +x[1]**2 + x[2]**2)\n",
    "cons = ({'type': 'eq', 'fun': lambda x:  np.array([x[0]**2 + x[1]**2 - x[2]**2,\n",
    "                                                   x[0] - 2*x[2] - 3])},)\n",
    "initguess = np.array([-1,-1,-1])\n",
    "sol = spo.minimize(fun, x0 = initguess, constraints=cons)\n",
    "sol"
   ]
  }
 ],
 "metadata": {
  "celltoolbar": "Slideshow",
  "kernelspec": {
   "display_name": "Python 3",
   "language": "python",
   "name": "python3"
  },
  "language_info": {
   "codemirror_mode": {
    "name": "ipython",
    "version": 3
   },
   "file_extension": ".py",
   "mimetype": "text/x-python",
   "name": "python",
   "nbconvert_exporter": "python",
   "pygments_lexer": "ipython3",
   "version": "3.6.7"
  },
  "livereveal": {
   "auto_select": "code",
   "auto_select_fragment": true,
   "scroll": true,
   "start_slideshow_at": "selected"
  }
 },
 "nbformat": 4,
 "nbformat_minor": 1
}
