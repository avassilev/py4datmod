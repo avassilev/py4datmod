{
 "cells": [
  {
   "cell_type": "markdown",
   "metadata": {
    "slideshow": {
     "slide_type": "slide"
    }
   },
   "source": [
    "<center> \n",
    "# R406: Using Python for data analysis and modelling\n",
    "\n",
    "<br> <br> \n",
    "\n",
    "## Lecture 3: Control Flow\n",
    "\n",
    "<br>\n",
    "\n",
    "<center> **Andrey Vassilev**\n",
    "\n",
    "<br> \n",
    "\n",
    "<center> **2016/2017**\n",
    " "
   ]
  },
  {
   "cell_type": "markdown",
   "metadata": {
    "slideshow": {
     "slide_type": "slide"
    }
   },
   "source": [
    "# Outline\n",
    "\n",
    "1. Conditional execution: the `if`, `elif` and `else` statements\n",
    "2. Iteration: `while` loops\n",
    "3. Iteration: `for` loops\n",
    "4. Iterable objects\n",
    "5. The `break` and `continue` statements\n",
    "6. The `else` statement in loops"
   ]
  },
  {
   "cell_type": "markdown",
   "metadata": {
    "slideshow": {
     "slide_type": "slide"
    }
   },
   "source": [
    "# Conditional execution — the basic `if` statement\n",
    "\n",
    "One frequently encountered situation in programming is when a set of statements needs to be executed only if certain conditions are met. Conditional execution takes care of that problem.\n",
    "\n",
    "Conditional execution in Python is handled through the `if` statement. Its most basic form is\n",
    "\n",
    "```if <condition>:\n",
    "    <statement 1>\n",
    "    ...\n",
    "    <statement n>\n",
    "```\n",
    "    \n",
    "Here `<condition>` should ultimately produce a Boolean value and the `<statement>`s are the familiar Python statements. **Note the colon (:) and the fact that the statements are indented!**"
   ]
  },
  {
   "cell_type": "markdown",
   "metadata": {
    "slideshow": {
     "slide_type": "slide"
    }
   },
   "source": [
    "# The role of indentation in Python\n",
    "\n",
    "- Unlike some other languages, where indentation plays a purely formatting role, indentation in Python has syntactic implications. \n",
    "- A block of code is denoted by appropriately indenting it relative to the containing code. \n",
    "- This means that you cannot indent in an arbitrary fashion just for appearance. Instead, indentation should be chosen to reflect the logical structure of your code."
   ]
  },
  {
   "cell_type": "markdown",
   "metadata": {
    "slideshow": {
     "slide_type": "subslide"
    }
   },
   "source": [
    "- By convention, indentation in Python is done by typing four spaces. Good editors will try to automatically replace TAB-s and other whitespace characters in the beginning of a line with spaces but the safest choice would be to do it explicitly.\n",
    "- As mentioned previously, whitespace that is **not** located at the beginning of a line generally does not affect code execution."
   ]
  },
  {
   "cell_type": "markdown",
   "metadata": {
    "slideshow": {
     "slide_type": "slide"
    }
   },
   "source": [
    "# The basic `if` statement in action"
   ]
  },
  {
   "cell_type": "code",
   "execution_count": null,
   "metadata": {
    "collapsed": true
   },
   "outputs": [],
   "source": [
    "x = 5 # try changing it to 0 or -5\n",
    "if x >= 0:\n",
    "    print(\"x is nonnegative\")"
   ]
  },
  {
   "cell_type": "markdown",
   "metadata": {},
   "source": [
    "We can also have more complicated versions:"
   ]
  },
  {
   "cell_type": "code",
   "execution_count": null,
   "metadata": {
    "collapsed": true
   },
   "outputs": [],
   "source": [
    "x = 5\n",
    "if x <= -10 or x >= 15:\n",
    "    x /= 2\n",
    "    print(\"The absolute value of x was too large. I have now halved it!\")\n",
    "print(\"x = %f\"%(x))"
   ]
  },
  {
   "cell_type": "markdown",
   "metadata": {
    "slideshow": {
     "slide_type": "slide"
    }
   },
   "source": [
    "# The `if-else` statement\n",
    "\n",
    "It is also common to execute certain statements in case the Boolean condition fails. This is accomplished by using the syntax\n",
    "\n",
    "\n",
    "```if <condition>:\n",
    "    <statement 1>\n",
    "    ...\n",
    "    <statement n>\n",
    "else:\n",
    "    <statement 1>\n",
    "    ...\n",
    "    <statement m>\n",
    "```\n",
    "\n",
    "Again, note the use of the colon(:) and the indentation."
   ]
  },
  {
   "cell_type": "markdown",
   "metadata": {
    "slideshow": {
     "slide_type": "slide"
    }
   },
   "source": [
    "# The `if-else` statement in action"
   ]
  },
  {
   "cell_type": "code",
   "execution_count": null,
   "metadata": {
    "collapsed": true
   },
   "outputs": [],
   "source": [
    "x = -1 # try changing the value\n",
    "if x >= 0:\n",
    "    print(\"x is nonnegative\")\n",
    "else:\n",
    "    print(\"x is negative\")"
   ]
  },
  {
   "cell_type": "markdown",
   "metadata": {},
   "source": [
    "Again, both complex Boolean conditions and several statements are possible."
   ]
  },
  {
   "cell_type": "markdown",
   "metadata": {
    "slideshow": {
     "slide_type": "slide"
    }
   },
   "source": [
    "# The `if-elif-else` statement\n",
    "\n",
    "The most complex situation is to evaluate several Boolean conditions, executing a case-specific block of statements when a condition is `True`, and execute a final block of statements in case all conditions fail. The `if-elif-else` statement takes care of that:\n",
    "\n",
    "\n",
    "```if <condition 1>:\n",
    "    <statements>\n",
    "elif <condition 2>:\n",
    "    <statements>\n",
    "...\n",
    "elif <condition n>:\n",
    "    <statements>\n",
    "else:\n",
    "    <statements>\n",
    "```\n",
    "\n",
    "**Note:** `elif` is an abbreviated form of `else if`."
   ]
  },
  {
   "cell_type": "markdown",
   "metadata": {
    "slideshow": {
     "slide_type": "slide"
    }
   },
   "source": [
    "# The `if-elif-else` statement in action"
   ]
  },
  {
   "cell_type": "code",
   "execution_count": null,
   "metadata": {
    "collapsed": true
   },
   "outputs": [],
   "source": [
    "x = 100 # try changing the value\n",
    "if x < -5:\n",
    "    print(\"x is smaller than -5\")\n",
    "elif x > 10:\n",
    "    print(\"x is greater than 10\")    \n",
    "else:\n",
    "    print(\"x is between -5 and 10\")"
   ]
  },
  {
   "cell_type": "markdown",
   "metadata": {
    "slideshow": {
     "slide_type": "subslide"
    }
   },
   "source": [
    "With multiple `if-elif` clauses the interpreter will execute the statements corresponding to the **first** Boolean condition that is evaluated as `True` and then will disregard the rest of the conditional structure. Subsequent blocks of statements will **not** be executed even if their Boolean conditions are `True` because they will not be evaluated.\n",
    "\n",
    "Therefore, Boolean conditions in the `if-elif` parts should be mutually exclusive, unless you plan to move in mysterious ways in your code."
   ]
  },
  {
   "cell_type": "code",
   "execution_count": null,
   "metadata": {
    "collapsed": true
   },
   "outputs": [],
   "source": [
    "x = -100\n",
    "if x < -5:\n",
    "    print(\"x is smaller than -5\")\n",
    "elif x < -10:\n",
    "    print(\"x is smaller than -10\")\n",
    "elif x < -50:\n",
    "    print(\"x is smaller than -50\")    \n",
    "else:\n",
    "    print(\"x is something else\")\n",
    "# Try to move the conditional blocks around\n",
    "# to see what will be printed"
   ]
  },
  {
   "cell_type": "markdown",
   "metadata": {
    "slideshow": {
     "slide_type": "slide"
    }
   },
   "source": [
    "# Conditional expressions\n",
    "\n",
    "Python also has a construct known as *conditional expressions* which is based on the `if` statement. Conditional expressions are sometimes called *ternary operators*. They can be used to conditionally assign a value to a variable and have the basic form\n",
    "\n",
    "```variable = <something> if <condition> else <something else>\n",
    "```\n",
    "\n",
    "For example:"
   ]
  },
  {
   "cell_type": "code",
   "execution_count": null,
   "metadata": {
    "collapsed": true
   },
   "outputs": [],
   "source": [
    "x = 10\n",
    "s = \"Integer!\" if isinstance(x,int) else \"Not an integer!\"\n",
    "s"
   ]
  },
  {
   "cell_type": "markdown",
   "metadata": {},
   "source": [
    "Conditional expressiona can also be more complicated:"
   ]
  },
  {
   "cell_type": "code",
   "execution_count": null,
   "metadata": {
    "collapsed": true
   },
   "outputs": [],
   "source": [
    "x = -6.6\n",
    "s = \"positive\" if x > 0 else \"negative\" if x < 0 else \"zero\"\n",
    "print(s)"
   ]
  },
  {
   "cell_type": "markdown",
   "metadata": {
    "slideshow": {
     "slide_type": "slide"
    }
   },
   "source": [
    "# Iteration: `while` loops\n",
    "\n",
    "There are situations where we need to keep repeating certain actions while some condition is `True`. The `while` statement comes to our rescue. It has the form\n",
    "\n",
    "```while <condition>:\n",
    "    <statements>\n",
    "```"
   ]
  },
  {
   "cell_type": "code",
   "execution_count": null,
   "metadata": {
    "collapsed": true
   },
   "outputs": [],
   "source": [
    "i = 0\n",
    "while i < 10:\n",
    "    print(i, end=\" \")\n",
    "    i += 1"
   ]
  }
 ],
 "metadata": {
  "celltoolbar": "Slideshow",
  "kernelspec": {
   "display_name": "Python 3",
   "language": "python",
   "name": "python3"
  },
  "language_info": {
   "codemirror_mode": {
    "name": "ipython",
    "version": 3
   },
   "file_extension": ".py",
   "mimetype": "text/x-python",
   "name": "python",
   "nbconvert_exporter": "python",
   "pygments_lexer": "ipython3",
   "version": "3.5.2"
  }
 },
 "nbformat": 4,
 "nbformat_minor": 1
}
