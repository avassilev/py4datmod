{
 "cells": [
  {
   "cell_type": "markdown",
   "metadata": {
    "slideshow": {
     "slide_type": "slide"
    }
   },
   "source": [
    "<center> \n",
    "# R406: Using Python for data analysis and modelling\n",
    "\n",
    "<br> <br> \n",
    "\n",
    "## Lecture 3: Control Flow\n",
    "\n",
    "<br>\n",
    "\n",
    "<center> **Andrey Vassilev**\n",
    "\n",
    "<br> \n",
    "\n",
    "<center> **2016/2017**\n",
    " "
   ]
  },
  {
   "cell_type": "markdown",
   "metadata": {
    "slideshow": {
     "slide_type": "slide"
    }
   },
   "source": [
    "# Outline\n",
    "\n",
    "1. Conditional execution: the `if`, `elif` and `else` statements\n",
    "2. Iteration: `while` loops\n",
    "3. Iteration: `for` loops\n",
    "4. Iterable objects\n",
    "5. The `break` and `continue` statements\n",
    "6. The `else` statement in loops\n",
    "7. Comprehensions"
   ]
  },
  {
   "cell_type": "markdown",
   "metadata": {
    "slideshow": {
     "slide_type": "slide"
    }
   },
   "source": [
    "# Conditional execution — the basic `if` statement\n",
    "\n",
    "One frequently encountered situation in programming is when a set of statements needs to be executed only if certain conditions are met. Conditional execution takes care of that problem.\n",
    "\n",
    "Conditional execution in Python is handled through the `if` statement. Its most basic form is\n",
    "\n",
    "```if <condition>:\n",
    "    <statement 1>\n",
    "    ...\n",
    "    <statement n>\n",
    "```\n",
    "    \n",
    "Here `<condition>` should ultimately produce a Boolean value and the `<statement>`s are the familiar Python statements. **Note the colon (:) and the fact that the statements are indented!**"
   ]
  },
  {
   "cell_type": "markdown",
   "metadata": {
    "slideshow": {
     "slide_type": "slide"
    }
   },
   "source": [
    "# The role of indentation in Python\n",
    "\n",
    "- Unlike some other languages, where indentation plays a purely formatting role, indentation in Python has syntactic implications. \n",
    "- A block of code is denoted by appropriately indenting it relative to the containing code. \n",
    "- This means that you cannot indent in an arbitrary fashion just for appearance. Instead, indentation should be chosen to reflect the logical structure of your code."
   ]
  },
  {
   "cell_type": "markdown",
   "metadata": {
    "slideshow": {
     "slide_type": "subslide"
    }
   },
   "source": [
    "- By convention, indentation in Python is done by typing four spaces. Good editors will try to automatically replace TAB-s and other whitespace characters in the beginning of a line with spaces but the safest choice would be to do it explicitly.\n",
    "- As mentioned previously, whitespace that is **not** located at the beginning of a line generally does not affect code execution."
   ]
  },
  {
   "cell_type": "markdown",
   "metadata": {
    "slideshow": {
     "slide_type": "slide"
    }
   },
   "source": [
    "# The basic `if` statement in action"
   ]
  },
  {
   "cell_type": "code",
   "execution_count": null,
   "metadata": {
    "collapsed": true
   },
   "outputs": [],
   "source": [
    "x = 5 # try changing it to 0 or -5\n",
    "if x >= 0:\n",
    "    print(\"x is nonnegative\")"
   ]
  },
  {
   "cell_type": "markdown",
   "metadata": {},
   "source": [
    "We can also have more complicated versions:"
   ]
  },
  {
   "cell_type": "code",
   "execution_count": null,
   "metadata": {
    "collapsed": true
   },
   "outputs": [],
   "source": [
    "x = 5\n",
    "if x <= -10 or x >= 15:\n",
    "    x /= 2\n",
    "    print(\"The absolute value of x was too large. I have now halved it!\")\n",
    "print(\"x = %f\"%(x))"
   ]
  },
  {
   "cell_type": "markdown",
   "metadata": {
    "slideshow": {
     "slide_type": "slide"
    }
   },
   "source": [
    "# The `if-else` statement\n",
    "\n",
    "It is also common to execute certain statements in case the Boolean condition fails. This is accomplished by using the syntax\n",
    "\n",
    "\n",
    "```if <condition>:\n",
    "    <statement 1>\n",
    "    ...\n",
    "    <statement n>\n",
    "else:\n",
    "    <statement 1>\n",
    "    ...\n",
    "    <statement m>\n",
    "```\n",
    "\n",
    "Again, note the use of the colon (:) and the indentation."
   ]
  },
  {
   "cell_type": "markdown",
   "metadata": {
    "slideshow": {
     "slide_type": "slide"
    }
   },
   "source": [
    "# The `if-else` statement in action"
   ]
  },
  {
   "cell_type": "code",
   "execution_count": null,
   "metadata": {
    "collapsed": true
   },
   "outputs": [],
   "source": [
    "x = -1 # try changing the value\n",
    "if x >= 0:\n",
    "    print(\"x is nonnegative\")\n",
    "else:\n",
    "    print(\"x is negative\")"
   ]
  },
  {
   "cell_type": "markdown",
   "metadata": {},
   "source": [
    "Once again, both complex Boolean conditions and several statements are possible."
   ]
  },
  {
   "cell_type": "markdown",
   "metadata": {
    "slideshow": {
     "slide_type": "slide"
    }
   },
   "source": [
    "# The `if-elif-else` statement\n",
    "\n",
    "The most complex situation is to evaluate several Boolean conditions, executing a case-specific block of statements when a condition is `True`, and execute a final block of statements in case all conditions fail. The `if-elif-else` statement takes care of that:\n",
    "\n",
    "\n",
    "```if <condition 1>:\n",
    "    <statements>\n",
    "elif <condition 2>:\n",
    "    <statements>\n",
    "...\n",
    "elif <condition n>:\n",
    "    <statements>\n",
    "else:\n",
    "    <statements>\n",
    "```\n",
    "\n",
    "**Note:** `elif` is an abbreviated form of `else if`."
   ]
  },
  {
   "cell_type": "markdown",
   "metadata": {
    "slideshow": {
     "slide_type": "slide"
    }
   },
   "source": [
    "# The `if-elif-else` statement in action"
   ]
  },
  {
   "cell_type": "code",
   "execution_count": null,
   "metadata": {
    "collapsed": true
   },
   "outputs": [],
   "source": [
    "x = 100 # try changing the value\n",
    "if x < -5:\n",
    "    print(\"x is smaller than -5\")\n",
    "elif x > 10:\n",
    "    print(\"x is greater than 10\")    \n",
    "else:\n",
    "    print(\"x is between -5 and 10\")"
   ]
  },
  {
   "cell_type": "markdown",
   "metadata": {
    "slideshow": {
     "slide_type": "subslide"
    }
   },
   "source": [
    "With multiple `if-elif` clauses the interpreter will execute the statements corresponding to the **first** Boolean condition that is evaluated as `True` and then will disregard the rest of the conditional structure. Subsequent blocks of statements will **not** be executed even if their Boolean conditions are `True` because they will not be evaluated.\n",
    "\n",
    "Therefore, Boolean conditions in the `if-elif` parts should be mutually exclusive, unless you plan to move in mysterious ways in your code."
   ]
  },
  {
   "cell_type": "code",
   "execution_count": null,
   "metadata": {
    "collapsed": true
   },
   "outputs": [],
   "source": [
    "x = -100\n",
    "if x < -5:\n",
    "    print(\"x is smaller than -5\")\n",
    "elif x < -10:\n",
    "    print(\"x is smaller than -10\")\n",
    "elif x < -50:\n",
    "    print(\"x is smaller than -50\")    \n",
    "else:\n",
    "    print(\"x is something else\")\n",
    "# Try to move the conditional blocks around\n",
    "# to see what will be printed"
   ]
  },
  {
   "cell_type": "markdown",
   "metadata": {
    "slideshow": {
     "slide_type": "slide"
    }
   },
   "source": [
    "# Conditional expressions\n",
    "\n",
    "Python also has a construct known as *conditional expressions* which is based on the `if` statement. Conditional expressions are sometimes called *ternary operators*. They can be used to conditionally assign a value to a variable and have the basic form\n",
    "\n",
    "```variable = <something> if <condition> else <something else>\n",
    "```\n",
    "\n",
    "For example:"
   ]
  },
  {
   "cell_type": "code",
   "execution_count": null,
   "metadata": {
    "collapsed": true
   },
   "outputs": [],
   "source": [
    "x = 10\n",
    "s = \"Integer!\" if isinstance(x,int) else \"Not an integer!\"\n",
    "s"
   ]
  },
  {
   "cell_type": "markdown",
   "metadata": {
    "slideshow": {
     "slide_type": "subslide"
    }
   },
   "source": [
    "Conditional expressions can also be more complicated:"
   ]
  },
  {
   "cell_type": "code",
   "execution_count": null,
   "metadata": {
    "collapsed": true
   },
   "outputs": [],
   "source": [
    "x = -6.6\n",
    "s = \"positive\" if x > 0 else \"negative\" if x < 0 else \"zero\"\n",
    "print(s)"
   ]
  },
  {
   "cell_type": "markdown",
   "metadata": {
    "slideshow": {
     "slide_type": "slide"
    }
   },
   "source": [
    "# Iteration: `while` loops\n",
    "\n",
    "There are situations where we need to keep repeating certain actions while some condition is `True`. The `while` statement comes to our rescue. It has the form\n",
    "\n",
    "```while <condition>:\n",
    "    <statements>\n",
    "```"
   ]
  },
  {
   "cell_type": "code",
   "execution_count": null,
   "metadata": {
    "collapsed": true
   },
   "outputs": [],
   "source": [
    "i = 0\n",
    "while i < 10:\n",
    "    print(i, end=\" \")\n",
    "    i += 1"
   ]
  },
  {
   "cell_type": "markdown",
   "metadata": {},
   "source": [
    "In this example the `while` loop is constructed to work with a counter (the variable `i`) and perform a predefined number of iterations."
   ]
  },
  {
   "cell_type": "markdown",
   "metadata": {
    "slideshow": {
     "slide_type": "subslide"
    }
   },
   "source": [
    "`while` loops can be used more productively in cases where the number of iterations is not known in advance:"
   ]
  },
  {
   "cell_type": "code",
   "execution_count": null,
   "metadata": {
    "collapsed": true
   },
   "outputs": [],
   "source": [
    "s=\"\"\n",
    "while s != \"end\":\n",
    "    s=input(\"Input s:\")\n",
    "    print(s)"
   ]
  },
  {
   "cell_type": "markdown",
   "metadata": {
    "slideshow": {
     "slide_type": "slide"
    }
   },
   "source": [
    "# Iteration: `for` loops\n",
    "\n",
    "In cases where the number of iterations is known in advance, we can use a `for` loop. It has the form\n",
    "\n",
    "```for <variable> in <sequence>:\n",
    "    <statements>\n",
    "```\n",
    "\n",
    "In the above syntax `<sequence>` is an object like a list or a tuple and the statement iterates over its elements and sequentially assigns the variable the respective value."
   ]
  },
  {
   "cell_type": "code",
   "execution_count": null,
   "metadata": {
    "collapsed": true
   },
   "outputs": [],
   "source": [
    "L = [1,2,\"three\",4.0,\"V\"]\n",
    "for e in L:\n",
    "    print(e, end=\"  \")"
   ]
  },
  {
   "cell_type": "code",
   "execution_count": null,
   "metadata": {
    "collapsed": true
   },
   "outputs": [],
   "source": [
    "T = ('i','ii','iii','iv','v')\n",
    "for e in T:\n",
    "    print(e, end=\"  \")"
   ]
  },
  {
   "cell_type": "markdown",
   "metadata": {
    "slideshow": {
     "slide_type": "subslide"
    }
   },
   "source": [
    "A `for` loop will retrieve the elements of an unordered collection but (predictably) we cannot expect them to always come out in the same order. Here is an example with a `set` object:"
   ]
  },
  {
   "cell_type": "code",
   "execution_count": null,
   "metadata": {
    "collapsed": true
   },
   "outputs": [],
   "source": [
    "aSet = {1,2,6,8,\"11\"}\n",
    "for S in aSet:\n",
    "    print(S, end=\" \")"
   ]
  },
  {
   "cell_type": "markdown",
   "metadata": {
    "slideshow": {
     "slide_type": "subslide"
    }
   },
   "source": [
    "Working with dictionaries is similar but a direct `for` statement will loop over the keys only (in no particular order):"
   ]
  },
  {
   "cell_type": "code",
   "execution_count": null,
   "metadata": {
    "collapsed": true
   },
   "outputs": [],
   "source": [
    "d = {\"one\":1, \"two\":2, \"three\":3}\n",
    "for k in d: \n",
    "    print(k, end=\" \")\n",
    "# You can use d.keys() instead of d\n",
    "# in the above loop"
   ]
  },
  {
   "cell_type": "markdown",
   "metadata": {},
   "source": [
    "Use `d.values()` to loop over the values:"
   ]
  },
  {
   "cell_type": "code",
   "execution_count": null,
   "metadata": {
    "collapsed": true
   },
   "outputs": [],
   "source": [
    "d = {\"one\":1, \"two\":2, \"three\":3}\n",
    "for k in d.values():\n",
    "    print(k, end=\" \")"
   ]
  },
  {
   "cell_type": "markdown",
   "metadata": {
    "slideshow": {
     "slide_type": "subslide"
    }
   },
   "source": [
    "To loop over both keys and values, you can use the `items()` method. Note that you can perform tuple unpacking in the loop:"
   ]
  },
  {
   "cell_type": "code",
   "execution_count": null,
   "metadata": {
    "collapsed": true
   },
   "outputs": [],
   "source": [
    "d = {\"one\":1, \"two\":2, \"three\":3}\n",
    "for k,v in d.items():\n",
    "    print(\"key =\",k,\", value =\",v, end=\" | \")"
   ]
  },
  {
   "cell_type": "markdown",
   "metadata": {
    "slideshow": {
     "slide_type": "slide"
    }
   },
   "source": [
    "# Iterable objects\n",
    "\n",
    "- The definition of a `for` loop we offered used the term \"sequence\" to describe the object we would be iterating over. This description is suggestive but a bit loose (technically, sets and dicts are not sequences). More generally, these sequence-like objects are *iterable objects* or simply *iterables*. \n",
    "- A somewhat tautological definition that is often used is \"An iterable is any object you can iterate over, e.g. by using it in a `for` loop\". This may sound a bit silly but there are good reasons for it."
   ]
  },
  {
   "cell_type": "markdown",
   "metadata": {
    "slideshow": {
     "slide_type": "subslide"
    }
   },
   "source": [
    "- To be more specific, examples of iterables include the familiar lists, tuples, sets and dictionaries, as well as strings, file objects or Numpy arrays (to be introduced later in the course), to name a few.\n",
    "- Most importantly, you can define you own iterable objects. You need to learn some things about object-oriented programming, classes and methods to be able to do that.\n",
    "\n",
    "**Note:** The precise mechanisms at work in a `for` loop are outside the coverage of this course. As a consequence, the above explanations provide some more detail but still do not give the complete picture."
   ]
  },
  {
   "cell_type": "markdown",
   "metadata": {
    "slideshow": {
     "slide_type": "slide"
    }
   },
   "source": [
    "# The `range()` function\n",
    "\n",
    "The `range()` function is used to generate sequences of numbers. It is commonly used in `for` loops, for example as a means to generate explicit indexes. \n",
    "\n",
    "The function's basic syntax is `range(n)`, where `n` is a stopping value. It will generate a sequence of `n` integers from `0` to `n-1`. Here is an example:"
   ]
  },
  {
   "cell_type": "code",
   "execution_count": null,
   "metadata": {
    "collapsed": true
   },
   "outputs": [],
   "source": [
    "for x in range(5):\n",
    "    print(x)"
   ]
  },
  {
   "cell_type": "markdown",
   "metadata": {
    "slideshow": {
     "slide_type": "subslide"
    }
   },
   "source": [
    "Here is how `range()` can be used to loop over a list using explict indexing:"
   ]
  },
  {
   "cell_type": "code",
   "execution_count": null,
   "metadata": {
    "collapsed": true
   },
   "outputs": [],
   "source": [
    "L = [1,2,\"three\",4.0,\"V\"]\n",
    "for i in range(len(L)):\n",
    "    print(L[i], end=\" \")"
   ]
  },
  {
   "cell_type": "markdown",
   "metadata": {
    "slideshow": {
     "slide_type": "subslide"
    }
   },
   "source": [
    "The `range()` function is more flexible: it can take the form `range(start,stop,step)` to generate a sequence from `start` to `(stop-1)`, stepping by `step` elements. "
   ]
  },
  {
   "cell_type": "code",
   "execution_count": null,
   "metadata": {
    "collapsed": true
   },
   "outputs": [],
   "source": [
    "for x in range(5,17,3):\n",
    "    print(x, end=\" \")"
   ]
  },
  {
   "cell_type": "markdown",
   "metadata": {},
   "source": [
    "It can also work \"backwards\":"
   ]
  },
  {
   "cell_type": "code",
   "execution_count": null,
   "metadata": {
    "collapsed": true
   },
   "outputs": [],
   "source": [
    "for x in range(17,5,-3):\n",
    "    print(x, end=\" \")"
   ]
  },
  {
   "cell_type": "markdown",
   "metadata": {},
   "source": [
    "**Note the similarity to slicing!!!**"
   ]
  },
  {
   "cell_type": "markdown",
   "metadata": {
    "slideshow": {
     "slide_type": "slide"
    }
   },
   "source": [
    "# The `break` and `continue` statements\n",
    "\n",
    "- The `break` and `continue` statements provide ways for finer-grained control over loops.\n",
    "- The `break` statement breaks out of a loop entirely.\n",
    "- The `continue` statement skips the remaining part of the current iteration and proceeds to the next one.\n",
    "- These statements work in both `while` and `for` loops."
   ]
  },
  {
   "cell_type": "markdown",
   "metadata": {
    "slideshow": {
     "slide_type": "subslide"
    }
   },
   "source": [
    "Here is how the `break` statement can be combined with `if` to terminate an infinite input-print loop:"
   ]
  },
  {
   "cell_type": "code",
   "execution_count": null,
   "metadata": {
    "collapsed": true
   },
   "outputs": [],
   "source": [
    "while True:\n",
    "    line = input('> ')\n",
    "    if line == 'end':\n",
    "        break\n",
    "    print(line)\n",
    "print('Done!')"
   ]
  },
  {
   "cell_type": "markdown",
   "metadata": {
    "slideshow": {
     "slide_type": "subslide"
    }
   },
   "source": [
    "Similarly, the `continue` statement can be used in the following example to print a sequence of even numbers:"
   ]
  },
  {
   "cell_type": "code",
   "execution_count": null,
   "metadata": {
    "collapsed": true
   },
   "outputs": [],
   "source": [
    "for n in range(20):\n",
    "    # Is n an even number?\n",
    "    if n % 2 == 0:\n",
    "        continue\n",
    "    print(n, end=' ')"
   ]
  },
  {
   "cell_type": "markdown",
   "metadata": {
    "slideshow": {
     "slide_type": "slide"
    }
   },
   "source": [
    "# `else` clauses in `for` and `while` loops\n",
    "\n",
    "It is possible to add an `else` clause to a `for` or `while` loop. This is not a very common operation, yet it may prove useful on occasions.\n",
    "\n",
    "An `else` clause will execute a set of final statements after the loop has completed successfully, i.e. if no `break` statement has been activated. This can be used, for instance, to clean up after the loop has ended.\n",
    "\n",
    "For the above reasons, the vanderPlas book states \n",
    "> The `loop-else` is perhaps one of the more confusingly named statements\n",
    "in Python; I prefer to think of it as a `nobreak` statement: that is, the `else` block is executed only if the loop ends naturally, without encountering a `break` statement."
   ]
  },
  {
   "cell_type": "markdown",
   "metadata": {
    "slideshow": {
     "slide_type": "slide"
    }
   },
   "source": [
    "# `else` clauses in `while` loops"
   ]
  },
  {
   "cell_type": "code",
   "execution_count": null,
   "metadata": {
    "collapsed": true
   },
   "outputs": [],
   "source": [
    "i = 0\n",
    "while i < 10:\n",
    "    print(i, end=\" \")\n",
    "    i += 1\n",
    "else:\n",
    "    del i # Delete the counter\n",
    "\n",
    "# Now try to print the variable i"
   ]
  },
  {
   "cell_type": "markdown",
   "metadata": {
    "slideshow": {
     "slide_type": "slide"
    }
   },
   "source": [
    "# `else` clauses in `for` loops\n",
    "\n",
    "The following implements the *Sieve of Eratosthenes*, an algorithm for finding prime numbers. The `else` statement below only executes if none of the factors divide the given number."
   ]
  },
  {
   "cell_type": "code",
   "execution_count": null,
   "metadata": {
    "collapsed": true
   },
   "outputs": [],
   "source": [
    "L = []\n",
    "nmax = 30\n",
    "for n in range(2, nmax):\n",
    "    for factor in L:\n",
    "        if n % factor == 0:\n",
    "            break\n",
    "    else: # no break\n",
    "        L.append(n)\n",
    "print(L)"
   ]
  },
  {
   "cell_type": "markdown",
   "metadata": {
    "slideshow": {
     "slide_type": "slide"
    }
   },
   "source": [
    "# Comprehensions"
   ]
  }
 ],
 "metadata": {
  "celltoolbar": "Slideshow",
  "kernelspec": {
   "display_name": "Python 3",
   "language": "python",
   "name": "python3"
  },
  "language_info": {
   "codemirror_mode": {
    "name": "ipython",
    "version": 3
   },
   "file_extension": ".py",
   "mimetype": "text/x-python",
   "name": "python",
   "nbconvert_exporter": "python",
   "pygments_lexer": "ipython3",
   "version": "3.5.2"
  }
 },
 "nbformat": 4,
 "nbformat_minor": 1
}
