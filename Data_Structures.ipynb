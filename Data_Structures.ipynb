{
 "cells": [
  {
   "cell_type": "markdown",
   "metadata": {
    "slideshow": {
     "slide_type": "slide"
    }
   },
   "source": [
    "<center>\n",
    "    \n",
    "# R406: Applied Economic Modelling with Python\n",
    "\n",
    "</center>\n",
    "\n",
    "<br> <br> \n",
    "\n",
    "<center>\n",
    "\n",
    "## Basic Data Structures in Python\n",
    "\n",
    "</center>\n",
    "\n",
    "<br><br> \n",
    "\n",
    "<center>\n",
    "<b> Andrey Vassilev </b>\n",
    "</center>\n",
    "\n",
    " "
   ]
  },
  {
   "cell_type": "markdown",
   "metadata": {
    "slideshow": {
     "slide_type": "slide"
    }
   },
   "source": [
    "# Outline\n",
    "\n",
    "1. Basic Python types (some familiar): int, float, complex, bool, str, NoneType\n",
    "2. Lists\n",
    "3. Tuples\n",
    "4. Dictionaries\n",
    "5. Sets"
   ]
  },
  {
   "cell_type": "markdown",
   "metadata": {
    "slideshow": {
     "slide_type": "slide"
    }
   },
   "source": [
    "# Review (and some extensions)\n",
    "\n",
    "Last time we learned about some Python types and the corresponding assignment operations: integer types (`intvar = 5`), floats (`floatvar = 5.0`) and strings (`strvar = \"five\"`).\n",
    "\n",
    "A frequently encountered operation is to update a variable according to some rule (e.g. increment its value by 1).\n",
    "\n",
    "It can be done as follows:"
   ]
  },
  {
   "cell_type": "code",
   "execution_count": null,
   "metadata": {},
   "outputs": [],
   "source": [
    "x = 3\n",
    "print(f\"First x equals {x}.\")\n",
    "x = x+1\n",
    "print(f\"Then x equals {x}.\")"
   ]
  },
  {
   "cell_type": "markdown",
   "metadata": {
    "slideshow": {
     "slide_type": "subslide"
    }
   },
   "source": [
    "The last operation is used often in practice, so Python (like other languages) provides a set of special update operations (augmented assignment operators). The syntax for the preceding example would be \n",
    "\n",
    "`x += 1` \n",
    "\n",
    "Try it out below!"
   ]
  },
  {
   "cell_type": "code",
   "execution_count": null,
   "metadata": {},
   "outputs": [],
   "source": [
    "x += 1\n",
    "print(x)"
   ]
  },
  {
   "cell_type": "markdown",
   "metadata": {
    "slideshow": {
     "slide_type": "subslide"
    }
   },
   "source": [
    "There are similar update operations for the main binary operators:\n",
    "\n",
    "`-=    *=    /=    **=   //=   %=`\n",
    "\n",
    "Take a few minutes to try them out as well. Be sure to check how they work on strings."
   ]
  },
  {
   "cell_type": "code",
   "execution_count": null,
   "metadata": {},
   "outputs": [],
   "source": [
    "# Try them out here"
   ]
  },
  {
   "cell_type": "markdown",
   "metadata": {
    "slideshow": {
     "slide_type": "slide"
    }
   },
   "source": [
    "# Explicit conversion operations\n",
    "\n",
    "There are functions that can explicitly cast a variable to another type.\n",
    "\n",
    "For instance, this converts ints to floats:"
   ]
  },
  {
   "cell_type": "code",
   "execution_count": null,
   "metadata": {},
   "outputs": [],
   "source": [
    "x = 1\n",
    "print(x) # Try also type(x) but \n",
    "         # temporarily comment out the commands below\n",
    "x = float(x)\n",
    "print(x) # Check the type again"
   ]
  },
  {
   "cell_type": "markdown",
   "metadata": {
    "collapsed": true,
    "slideshow": {
     "slide_type": "subslide"
    }
   },
   "source": [
    "This converts ints to strings:"
   ]
  },
  {
   "cell_type": "code",
   "execution_count": null,
   "metadata": {},
   "outputs": [],
   "source": [
    "x = 1\n",
    "print(x) # check the type\n",
    "x = str(x)\n",
    "print(x) # check the type again"
   ]
  },
  {
   "cell_type": "markdown",
   "metadata": {
    "slideshow": {
     "slide_type": "subslide"
    }
   },
   "source": [
    "## Exercise\n",
    "\n",
    "Define a **float** variable and try to add it to the string \"one hundred\" to check that it raises an error. Convert the variable to string and repeat the operation. What is the outcome?"
   ]
  },
  {
   "cell_type": "code",
   "execution_count": null,
   "metadata": {},
   "outputs": [],
   "source": [
    "# Use this cell to perform the exercise\n"
   ]
  },
  {
   "cell_type": "markdown",
   "metadata": {
    "slideshow": {
     "slide_type": "subslide"
    }
   },
   "source": [
    "Strings can be converted to ints or floats under certain conditions:"
   ]
  },
  {
   "cell_type": "code",
   "execution_count": null,
   "metadata": {},
   "outputs": [],
   "source": [
    "y = \"1.1\"\n",
    "z1 = float(y) # Replace the assignment on this line with z1=int(y). \n",
    "# Does it work? After that, try z1 = int(float(y)).\n",
    "# Does the conversion z1 = int(y) work if we assign y = \"1\"? \n",
    "# What if we use y = \"spam\"?\n",
    "print(z1+1)"
   ]
  },
  {
   "cell_type": "markdown",
   "metadata": {
    "slideshow": {
     "slide_type": "slide"
    }
   },
   "source": [
    "# Basic Python types (scalar)\n",
    "\n",
    "There are six basic scalar types in Python:\n",
    "- int\n",
    "- float\n",
    "- str\n",
    "- complex\n",
    "- bool\n",
    "- NoneType\n",
    "\n",
    "We already saw the first three in action, so let's turn to the other three."
   ]
  },
  {
   "cell_type": "markdown",
   "metadata": {
    "slideshow": {
     "slide_type": "slide"
    }
   },
   "source": [
    "# Complex numbers\n",
    "\n",
    "Complex numbers can be defined in two alternative ways:\n",
    "\n",
    "`z = 1.0 + 2.1j`\n",
    "\n",
    "`z = complex(1.0, 2.1)`"
   ]
  },
  {
   "cell_type": "code",
   "execution_count": null,
   "metadata": {},
   "outputs": [],
   "source": [
    "z1 = 1.0 + 2.1j # Try z1 = 1.0 + 2.1 j (with a space)\n",
    "print(z1)"
   ]
  },
  {
   "cell_type": "code",
   "execution_count": null,
   "metadata": {},
   "outputs": [],
   "source": [
    "type(z1)"
   ]
  },
  {
   "cell_type": "code",
   "execution_count": null,
   "metadata": {},
   "outputs": [],
   "source": [
    "z2=complex(3.0,2.0)"
   ]
  },
  {
   "cell_type": "markdown",
   "metadata": {
    "slideshow": {
     "slide_type": "subslide"
    }
   },
   "source": [
    "One can derive the basic characteristics of complex numbers as follows:"
   ]
  },
  {
   "cell_type": "code",
   "execution_count": null,
   "metadata": {},
   "outputs": [],
   "source": [
    "print(f\"The real part of z1 is {z1.real:.2f}.\")\n",
    "print(f\"The imaginary part of z1 is {z1.imag:.2f}.\")\n",
    "print(f\"z2 is {z2} and the complex conjugate of z2 is {z2.conjugate()}.\") \n",
    "# Notice the parentheses after conjugate\n",
    "print(abs(z1), abs(z2))"
   ]
  },
  {
   "cell_type": "markdown",
   "metadata": {
    "slideshow": {
     "slide_type": "subslide"
    }
   },
   "source": [
    "The basic operations on complex numbers go through directly:"
   ]
  },
  {
   "cell_type": "code",
   "execution_count": null,
   "metadata": {},
   "outputs": [],
   "source": [
    "print(z1+z2)\n",
    "print(z1-z2)\n",
    "print(z1*z2)\n",
    "print(z1/z2)"
   ]
  },
  {
   "cell_type": "markdown",
   "metadata": {
    "slideshow": {
     "slide_type": "slide"
    }
   },
   "source": [
    "# NoneType\n",
    "\n",
    "Python also has a special type (`NoneType`) to capture the idea of an absent value. It has only one possible value: `None`.\n",
    "\n",
    "This type is useful for instance as the default return value of a function than is called for side effects."
   ]
  },
  {
   "cell_type": "code",
   "execution_count": null,
   "metadata": {},
   "outputs": [],
   "source": [
    "type(None)"
   ]
  },
  {
   "cell_type": "code",
   "execution_count": null,
   "metadata": {},
   "outputs": [],
   "source": [
    "print_return_value = print(\"abc\") # Catch the return value of print\n",
    "                                  # (if any)\n",
    "print(print_return_value)"
   ]
  },
  {
   "cell_type": "markdown",
   "metadata": {
    "slideshow": {
     "slide_type": "slide"
    }
   },
   "source": [
    "# Booleans\n",
    "\n",
    "The Boolean type has two possible values: `True` and `False`. (Notice that the capitalization matters here, as well as in Python generally.)\n",
    "\n",
    "Boolean values are important because they are returned by *comparison operations* and they are the building block of *logical (Boolean) operations*."
   ]
  },
  {
   "cell_type": "markdown",
   "metadata": {
    "slideshow": {
     "slide_type": "slide"
    }
   },
   "source": [
    "# Comparison operations\n",
    "\n",
    "|Operation | Description                  |\n",
    "|----------| -----------------------------|\n",
    "|a == b    | a equal to b                 |\n",
    "|a != b    | a not equal to b             |\n",
    "|a < b     | a less than b                |\n",
    "|a > b     | a greater than b             |\n",
    "|a <= b    | a less than or equal to b    |\n",
    "|a >= b    | a greater than or equal to b |"
   ]
  },
  {
   "cell_type": "markdown",
   "metadata": {
    "slideshow": {
     "slide_type": "subslide"
    }
   },
   "source": [
    "# Comparison operations in action"
   ]
  },
  {
   "cell_type": "code",
   "execution_count": null,
   "metadata": {},
   "outputs": [],
   "source": [
    "x = 1\n",
    "y = 2\n",
    "z = 1.0\n",
    "print(x==y)\n",
    "print(x==z)\n",
    "print(x>y)\n",
    "print(z>=x)\n",
    "print(z!=y)"
   ]
  },
  {
   "cell_type": "markdown",
   "metadata": {
    "slideshow": {
     "slide_type": "slide"
    }
   },
   "source": [
    "# Logical (Boolean) operations\n",
    "\n",
    "Boolean operations allow us to combine the results of separate comparison operations and evaluate the final outcome (which is also a Boolean value).\n",
    "\n",
    "Boolean operations are **`and`**, **`or`** and **`not`**.\n",
    "\n",
    "| Operation            | Outcome | Operation            | Outcome | Operation       | Outcome |\n",
    "|--------------------- | --------| -------------------- | --------| --------------- | ------- |\n",
    "| True and True   | True    | True or True   | True    | not True  | False   |\n",
    "| True and False  | False   | True or False  | True    | not False | True    |\n",
    "| False and True  | False   | False or True  | True    |                 |         |\n",
    "| False and False | False   | False or False | False   |                 |         |"
   ]
  },
  {
   "cell_type": "markdown",
   "metadata": {
    "slideshow": {
     "slide_type": "subslide"
    }
   },
   "source": [
    "# Boolean operations in action"
   ]
  },
  {
   "cell_type": "code",
   "execution_count": null,
   "metadata": {},
   "outputs": [],
   "source": [
    "x = 1.1;   y = 2.2;       z=1.1\n",
    "# Note that whitespace does not matter in the above statements\n",
    "print(x==z)\n",
    "print(not (x==1.1))\n",
    "print(not x==1.1) # Same as the previous one\n",
    "print(x>0 and x>1)\n",
    "print(y<0 or y>2.0)\n",
    "print(x>0 and not x>1)"
   ]
  },
  {
   "cell_type": "markdown",
   "metadata": {
    "slideshow": {
     "slide_type": "subslide"
    }
   },
   "source": [
    "There exists shortcut notation to express this idea:"
   ]
  },
  {
   "cell_type": "code",
   "execution_count": null,
   "metadata": {},
   "outputs": [],
   "source": [
    "x = 5\n",
    "x>0 and x<10"
   ]
  },
  {
   "cell_type": "markdown",
   "metadata": {},
   "source": [
    "We can write this more compactly as:"
   ]
  },
  {
   "cell_type": "code",
   "execution_count": null,
   "metadata": {},
   "outputs": [],
   "source": [
    "0 < x < 10"
   ]
  },
  {
   "cell_type": "markdown",
   "metadata": {
    "slideshow": {
     "slide_type": "slide"
    }
   },
   "source": [
    "# Type conversion for Booleans\n",
    "\n",
    "The conversion command is `bool()`. Try it in the examples listed below:"
   ]
  },
  {
   "cell_type": "code",
   "execution_count": null,
   "metadata": {},
   "outputs": [],
   "source": [
    "y = 1\n",
    "# y = 0\n",
    "# y = -1.1\n",
    "# y = 0.0\n",
    "# y = 0.001\n",
    "# y = \"spam\"\n",
    "# y = \"eggs\"\n",
    "# y = \"\"\n",
    "# y = None\n",
    "bool(y)"
   ]
  },
  {
   "cell_type": "markdown",
   "metadata": {
    "slideshow": {
     "slide_type": "slide"
    }
   },
   "source": [
    "# Data structures (containers)\n",
    "\n",
    "Data structures provide a way to combine the simple types we saw up to here. (Think of a situation in which you need to store a sequence of results.)\n",
    "\n",
    "The basic data structures we shall look at are:\n",
    "* list\n",
    "* tuple\n",
    "* dict\n",
    "* set"
   ]
  },
  {
   "cell_type": "markdown",
   "metadata": {
    "slideshow": {
     "slide_type": "slide"
    }
   },
   "source": [
    "# Lists\n",
    "\n",
    "Lists are an ordered collection structure.\n",
    "\n",
    "They are defined by using square brackets and separating the elements with commas:"
   ]
  },
  {
   "cell_type": "code",
   "execution_count": null,
   "metadata": {},
   "outputs": [],
   "source": [
    "L1 = [1,2,3]\n",
    "type(L1)"
   ]
  },
  {
   "cell_type": "markdown",
   "metadata": {},
   "source": [
    "Lists can contain different types of elements and can also be heterogeneous:"
   ]
  },
  {
   "cell_type": "code",
   "execution_count": null,
   "metadata": {},
   "outputs": [],
   "source": [
    "L1 = [1.1, 2.2, 3.3]\n",
    "L2 = [\"one\", \"two\", \"three\", \"four\"]\n",
    "L3 = [1, 2.0, \"three\", 4.0 + 0j]\n",
    "L4 = [1, 2, [3 ,4]] # They can even contain other lists\n",
    "L5 = [] # This defines an empty list\n",
    "print(L1) # Print the rest as well"
   ]
  },
  {
   "cell_type": "markdown",
   "metadata": {
    "slideshow": {
     "slide_type": "subslide"
    }
   },
   "source": [
    "# Properties of lists\n",
    "\n",
    "Check the statements below and try changing each of them to see how they work."
   ]
  },
  {
   "cell_type": "code",
   "execution_count": null,
   "metadata": {},
   "outputs": [],
   "source": [
    "L = [5,2,1,3]\n",
    "# len(L) # The len() function returns \n",
    "#        # the list length (=number of elements)\n",
    "# L.append(6) # The append() method adds an element at the end of the list\n",
    "# print(L + [\"one\",\"two\"]) # The + operation performs concatenation\n",
    "# L.sort() # The sort() method sorts the list in-place\n",
    "# L.reverse() # Reverses the list in-place\n",
    "L"
   ]
  },
  {
   "cell_type": "markdown",
   "metadata": {
    "slideshow": {
     "slide_type": "slide"
    }
   },
   "source": [
    "# List indexing\n",
    "\n",
    "List elements can be accessed by referring to the position of the respective element in the list i.e. we can execute commands like \"Get the first element.\" or \"Set the fifth element equal to 5.\" An element is accessed as follows: `L[5]`\n",
    "\n",
    "**Indexing in Python starts from 0!!!**     \n",
    "\n",
    "(If that bothers you, check out https://xkcd.com/163/)"
   ]
  },
  {
   "cell_type": "code",
   "execution_count": null,
   "metadata": {},
   "outputs": [],
   "source": [
    "L = [-1,1,3,6,8]\n",
    "L[0] # The first element"
   ]
  },
  {
   "cell_type": "code",
   "execution_count": null,
   "metadata": {},
   "outputs": [],
   "source": [
    "L[4] # As a consequence, the n-th element is accessed as L[n-1]\n",
    "# Try L[len(L)-1]\n",
    "# Try L[5] to raise an 'index out of range' error"
   ]
  },
  {
   "cell_type": "markdown",
   "metadata": {
    "slideshow": {
     "slide_type": "subslide"
    }
   },
   "source": [
    "You can also set an element of a list:"
   ]
  },
  {
   "cell_type": "code",
   "execution_count": null,
   "metadata": {},
   "outputs": [],
   "source": [
    "L[1] = 2\n",
    "# Try L[0] = \"spam\" and L[3] = None\n",
    "L"
   ]
  },
  {
   "cell_type": "markdown",
   "metadata": {
    "slideshow": {
     "slide_type": "subslide"
    }
   },
   "source": [
    "There is special syntax for referring to the end of the list:\n",
    "- The last element is `L[-1]`\n",
    "- The second-to-last element is `L[-2]`\n",
    "- ... etc."
   ]
  },
  {
   "cell_type": "code",
   "execution_count": null,
   "metadata": {},
   "outputs": [],
   "source": [
    "L[-1]\n",
    "# Try also:\n",
    "# L[-2]\n",
    "# n = 2; print(L[-n]) # You can index by an integer variable\n",
    "# L[-len(L)]\n",
    "# L[-len(L)] = 0"
   ]
  },
  {
   "cell_type": "markdown",
   "metadata": {
    "slideshow": {
     "slide_type": "subslide"
    }
   },
   "source": [
    "It is also possible to delete an element of a list using the `pop()` method and the respective index:"
   ]
  },
  {
   "cell_type": "code",
   "execution_count": null,
   "metadata": {},
   "outputs": [],
   "source": [
    "L = [1,2,3,4,5]\n",
    "L.pop(0)\n",
    "# temp = L.pop(1) # The pop() method deletes \n",
    "                  # and returns the removed value. \n",
    "                  # Try print(temp).\n",
    "# L.pop(-1)"
   ]
  },
  {
   "cell_type": "markdown",
   "metadata": {
    "slideshow": {
     "slide_type": "slide"
    }
   },
   "source": [
    "# List slicing\n",
    "\n",
    "We often need to access a range of elements in a list (e.g. from the second to the fifth element). *List slicing* provides a way to do that.\n",
    "\n",
    "The syntax is of the form L[m:n], where the m-th element is included, while the n-th element is **not**."
   ]
  },
  {
   "cell_type": "code",
   "execution_count": null,
   "metadata": {},
   "outputs": [],
   "source": [
    "L = [-1,1,3,6,8]\n",
    "L[0:3]\n",
    "# L[2:4]\n",
    "# L[2:5] # This works (because the upper bound is not inclusive)... \n",
    "         # ... even though L[5] will raise an error\n",
    "# L[5:2] # This will return an empty list"
   ]
  },
  {
   "cell_type": "markdown",
   "metadata": {
    "slideshow": {
     "slide_type": "subslide"
    }
   },
   "source": [
    "Leaving out the first index defaults to zero:"
   ]
  },
  {
   "cell_type": "code",
   "execution_count": null,
   "metadata": {},
   "outputs": [],
   "source": [
    "L[:3] # Same as L[0:3]"
   ]
  },
  {
   "cell_type": "markdown",
   "metadata": {
    "slideshow": {
     "slide_type": "subslide"
    }
   },
   "source": [
    "Leaving out the second index defaults to the last element:"
   ]
  },
  {
   "cell_type": "code",
   "execution_count": null,
   "metadata": {},
   "outputs": [],
   "source": [
    "L[2:] # Same as L[2:6]\n",
    "# Check whether L[2:-1] yields the same answer. Why?"
   ]
  },
  {
   "cell_type": "markdown",
   "metadata": {
    "slideshow": {
     "slide_type": "subslide"
    }
   },
   "source": [
    "We can also specify a third integer to denote a step size (i.e. skipping by **k** elements):"
   ]
  },
  {
   "cell_type": "code",
   "execution_count": null,
   "metadata": {},
   "outputs": [],
   "source": [
    "L = [1,2,3,4,5,6,7,8,9]\n",
    "L[0:7:2]\n",
    "# L[:7:2] # Same as previous one\n",
    "# L[::3] # Step by three\n",
    "# L[1::2]"
   ]
  },
  {
   "cell_type": "markdown",
   "metadata": {
    "slideshow": {
     "slide_type": "subslide"
    }
   },
   "source": [
    "The step argument can be used to traverse the list backwards or reverse it:"
   ]
  },
  {
   "cell_type": "code",
   "execution_count": null,
   "metadata": {},
   "outputs": [],
   "source": [
    "L = [1,2,3,4,5,6,7,8,9]\n",
    "L[6:2:-1] # Note we start with the higher-valued index\n",
    "# L[2:6:-1] # Similar to the example L[5:2] we saw earlier\n",
    "# L[::-1] # This simply produces a reversed copy of the list\n",
    "# L[::-2]"
   ]
  },
  {
   "cell_type": "markdown",
   "metadata": {
    "slideshow": {
     "slide_type": "subslide"
    }
   },
   "source": [
    "We can also use slicing in assignments:"
   ]
  },
  {
   "cell_type": "code",
   "execution_count": null,
   "metadata": {},
   "outputs": [],
   "source": [
    "L = [1,2,3,4,5,6,7,8,9]\n",
    "L[0:3] = [11,22,33]\n",
    "# L[:3] = [-1,-2,-3]\n",
    "# L[::2] = 666 # Try to set every other element equal to 666. \n",
    "               # What's the error?\n",
    "# L[::2] = [666]*len(L[::2]) # Now try this.\n",
    "# L[5:] = [] # We can also delete a part of a list using a slice.\n",
    "L"
   ]
  },
  {
   "cell_type": "markdown",
   "metadata": {
    "slideshow": {
     "slide_type": "slide"
    }
   },
   "source": [
    "# Mutable and immutable types\n",
    "\n",
    "Python types can be *mutable* or *immutable*. When a mutable object is created, we can change its contents afterwards. As the name suggests, immutable objects cannot be changed once created.\n",
    "\n",
    "Among the Python types mentioned so far, the *immutable* ones are:\n",
    "- the numeric types: int, float, complex\n",
    "- string\n",
    "- tuple\n",
    "\n",
    "The *mutable* types we have seen (or at least heard of) are:\n",
    "- list\n",
    "- dictionary (dict)\n",
    "- set"
   ]
  },
  {
   "cell_type": "markdown",
   "metadata": {
    "slideshow": {
     "slide_type": "subslide"
    }
   },
   "source": [
    "To illustrate (im)mutability in practice, consider the following:"
   ]
  },
  {
   "cell_type": "code",
   "execution_count": null,
   "metadata": {},
   "outputs": [],
   "source": [
    "L = [7,8,9,10,11]\n",
    "print(L[0])\n",
    "print(L[0:4])\n",
    "L[0] = 200\n",
    "print(L)"
   ]
  },
  {
   "cell_type": "code",
   "execution_count": null,
   "metadata": {},
   "outputs": [],
   "source": [
    "S = \"This is an immutable string.\"\n",
    "print(S[0]) # The string can be indexed and sliced just like a list\n",
    "print(S[0:4])\n",
    "# However, uncomment and try to run the line below\n",
    "# S[0] = \"t\""
   ]
  },
  {
   "cell_type": "markdown",
   "metadata": {
    "slideshow": {
     "slide_type": "subslide"
    }
   },
   "source": [
    "Despite the above problem with changing the first letter of `S`, we can still do the following:"
   ]
  },
  {
   "cell_type": "code",
   "execution_count": null,
   "metadata": {},
   "outputs": [],
   "source": [
    "S = \"This is an immutable string.\"\n",
    "print(S)\n",
    "S = \"this is an immutable string.\"\n",
    "print(S)\n",
    "S = \"...but doesn't it change?\"\n",
    "print(S)"
   ]
  },
  {
   "cell_type": "markdown",
   "metadata": {
    "slideshow": {
     "slide_type": "subslide"
    }
   },
   "source": [
    "What's going on? \n",
    "\n",
    "We appear to be unable to change a part of the string, yet we can change it as a whole..."
   ]
  },
  {
   "cell_type": "markdown",
   "metadata": {
    "slideshow": {
     "slide_type": "slide"
    }
   },
   "source": [
    "# Variables as pointers\n",
    "\n",
    "- The behaviour observed in the string example is due to a specificity of Python variables. \n",
    "- Unlike other languages, a variable in Python is not a fixed container for a predefined kind of data but a pointer that can dynamically be redirected to point to various types of objects. \n",
    "- For this reason the following is legitimate:"
   ]
  },
  {
   "cell_type": "code",
   "execution_count": null,
   "metadata": {},
   "outputs": [],
   "source": [
    "x = 1\n",
    "x = [1,2,3]\n",
    "x = \"A random string\"\n",
    "# Good luck pulling this trick in C or Java"
   ]
  },
  {
   "cell_type": "markdown",
   "metadata": {
    "slideshow": {
     "slide_type": "subslide"
    }
   },
   "source": [
    "In the last example, the integer `1` and the string `\"A random string\"` are immutable, while the list `[1,2,3]` is mutable. The variable `x` can be changed to point to any of these without a problem. A problem will arise if we try to modify the string `\"A random string\"` itself.\n",
    "\n",
    "Now it is easy to see that in the previous example we were not modifying any strings but sequentially reassigning `S` to point to different strings!"
   ]
  },
  {
   "cell_type": "markdown",
   "metadata": {
    "slideshow": {
     "slide_type": "subslide"
    }
   },
   "source": [
    "The discussion of variables as pointers might seem technical and of little practical relevance. However, a sound understanding of the nature of Python variables is crucial to avoid making hard-to-detect mistakes in your code.\n",
    "\n",
    "Here is an example of what may go wrong:"
   ]
  },
  {
   "cell_type": "code",
   "execution_count": null,
   "metadata": {
    "slideshow": {
     "slide_type": "-"
    }
   },
   "outputs": [],
   "source": [
    "x = [1,2]\n",
    "y = x\n",
    "x.append(3)\n",
    "y.append(4)\n",
    "print(x)\n",
    "print(y)"
   ]
  },
  {
   "cell_type": "markdown",
   "metadata": {
    "slideshow": {
     "slide_type": "subslide"
    }
   },
   "source": [
    "And here is how we can get around this behaviour by creating an explicit copy of the object:"
   ]
  },
  {
   "cell_type": "code",
   "execution_count": null,
   "metadata": {
    "slideshow": {
     "slide_type": "-"
    }
   },
   "outputs": [],
   "source": [
    "x = [1,2]\n",
    "y = x.copy()\n",
    "x.append(3)\n",
    "y.append(4)\n",
    "print(x)\n",
    "print(y)"
   ]
  },
  {
   "cell_type": "markdown",
   "metadata": {
    "slideshow": {
     "slide_type": "slide"
    }
   },
   "source": [
    "# Identity operations\n",
    "\n",
    "Building on the idea of variables as pointers, we can use the **identity operations** in Python to establish whether two variables are identical or merely their contents is the same.\n",
    "\n",
    "The identity operations in Python are:\n",
    "* **`is`**\n",
    "* **`is not`**\n",
    "\n",
    "**Note:** The Python documentation lists these as comparison operations. We conform to the VanderPlas book taxonomy."
   ]
  },
  {
   "cell_type": "code",
   "execution_count": null,
   "metadata": {},
   "outputs": [],
   "source": [
    "x = [1,2]\n",
    "y = x\n",
    "z = [1,2]\n",
    "print(x is y)\n",
    "print(x is z)\n",
    "print(x is not z) # x and z are not identical...\n",
    "print(x==y)\n",
    "print(x==z) # ... yet their contents is the same"
   ]
  },
  {
   "cell_type": "markdown",
   "metadata": {
    "slideshow": {
     "slide_type": "slide"
    }
   },
   "source": [
    "# Tuples\n",
    "\n",
    "Tuples can loosely be thought of as an immutable version of lists. They are commonly defined by using parentheses instead of square brackets.\n",
    "\n",
    "Tuples can be indexed and sliced just like lists. The `len()` function works the same way."
   ]
  },
  {
   "cell_type": "code",
   "execution_count": null,
   "metadata": {},
   "outputs": [],
   "source": [
    "t = (\"one\",\"two\",\"three\",\"four\")\n",
    "print(len(t))\n",
    "print(t[0])\n",
    "print(t[-1])\n",
    "print(t[:2])\n",
    "# t[0]=\"uno\" # This doesn't work as tuples are immutable"
   ]
  },
  {
   "cell_type": "markdown",
   "metadata": {
    "slideshow": {
     "slide_type": "subslide"
    }
   },
   "source": [
    "Tuples can also be created without parentheses, except for creating an empty tuple:"
   ]
  },
  {
   "cell_type": "code",
   "execution_count": null,
   "metadata": {},
   "outputs": [],
   "source": [
    "t = \"one\",\"two\",\"three\",\"four\"\n",
    "print(t)\n",
    "type(t)\n",
    "# t=() # Here the parentheses are required"
   ]
  },
  {
   "cell_type": "markdown",
   "metadata": {},
   "source": [
    "One-element tuples are created with a final comma (inside the parentheses if they are used):"
   ]
  },
  {
   "cell_type": "code",
   "execution_count": null,
   "metadata": {},
   "outputs": [],
   "source": [
    "t = (1,)\n",
    "print(t); type(t)\n",
    "# Be careful! The line below also creates a tuple:\n",
    "# t = 2,"
   ]
  },
  {
   "cell_type": "markdown",
   "metadata": {
    "slideshow": {
     "slide_type": "subslide"
    }
   },
   "source": [
    "Tuples are commonly used when a function needs to return multiple values.\n",
    "\n",
    "As an example, the method `as_integer_ratio()` of a float returns a tuple:"
   ]
  },
  {
   "cell_type": "code",
   "execution_count": null,
   "metadata": {},
   "outputs": [],
   "source": [
    "x = 1/8\n",
    "print(x)\n",
    "x.as_integer_ratio()"
   ]
  },
  {
   "cell_type": "markdown",
   "metadata": {},
   "source": [
    "Tuples have a convenient feature that is known as **tuple unpacking**:"
   ]
  },
  {
   "cell_type": "code",
   "execution_count": null,
   "metadata": {},
   "outputs": [],
   "source": [
    "num,denom = x.as_integer_ratio()\n",
    "print(f\"num = {num}\"); print(f\"denom = {denom}\")\n",
    "# a,b,c = (\"A\",\"B\",\"C\")\n",
    "# Incidentally, unpacking works on lists as well"
   ]
  },
  {
   "cell_type": "markdown",
   "metadata": {
    "slideshow": {
     "slide_type": "slide"
    }
   },
   "source": [
    "# Dictionaries (dicts)\n",
    "\n",
    "Sometimes the indexing of lists (by the integer index) is not convenient enough and more flexible indexing facilities are desirable. Dictionaries cater for that need.\n",
    "\n",
    "Dicts have **keys** that map to **values**. They are defined as comma-separated `key:value` pairs enclosed in curly braces. "
   ]
  },
  {
   "cell_type": "code",
   "execution_count": null,
   "metadata": {},
   "outputs": [],
   "source": [
    "numbers = {'one':1, 'two':2, 'three':3}\n",
    "type(numbers)"
   ]
  },
  {
   "cell_type": "markdown",
   "metadata": {},
   "source": [
    "Dicts are unordered (in principle, with a caveat for Python), mutable and their elements can be accessed via the respective keys:"
   ]
  },
  {
   "cell_type": "code",
   "execution_count": null,
   "metadata": {},
   "outputs": [],
   "source": [
    "numbers['three']"
   ]
  },
  {
   "cell_type": "code",
   "execution_count": null,
   "metadata": {},
   "outputs": [],
   "source": [
    "# This adds a new key-value pair to the dict\n",
    "numbers[\"four\"] = 4\n",
    "numbers"
   ]
  },
  {
   "cell_type": "markdown",
   "metadata": {
    "slideshow": {
     "slide_type": "subslide"
    }
   },
   "source": [
    "The following illustrates that dicts are unordered (we cannot access their elements by position):"
   ]
  },
  {
   "cell_type": "code",
   "execution_count": null,
   "metadata": {},
   "outputs": [],
   "source": [
    "numbers[0]"
   ]
  },
  {
   "cell_type": "markdown",
   "metadata": {},
   "source": [
    "Do not confuse with the following key definitions, where we happen to choose the keys to be integers:"
   ]
  },
  {
   "cell_type": "code",
   "execution_count": null,
   "metadata": {},
   "outputs": [],
   "source": [
    "nums = {0:\"zero\",1:\"uno\",3:\"trois\"}\n",
    "print(nums[0])\n",
    "print(nums)\n",
    "nums[-200] = -200 # This will throw an 'index out of range' \n",
    "                  # error for a three-element list\n",
    "print(nums[-200])\n",
    "nums[\"five\"] = 5.0 # Notice that keys and values \n",
    "                   # do not have to be of the same type\n",
    "print(nums[\"five\"])"
   ]
  },
  {
   "cell_type": "markdown",
   "metadata": {
    "slideshow": {
     "slide_type": "subslide"
    }
   },
   "source": [
    "The dict keys can be accessed like this (note that it is an object of type `dict_keys`):"
   ]
  },
  {
   "cell_type": "code",
   "execution_count": null,
   "metadata": {},
   "outputs": [],
   "source": [
    "nums.keys()"
   ]
  },
  {
   "cell_type": "markdown",
   "metadata": {
    "slideshow": {
     "slide_type": "-"
    }
   },
   "source": [
    "The dict values can be accessed like this (an object of type `dict_values`):"
   ]
  },
  {
   "cell_type": "code",
   "execution_count": null,
   "metadata": {},
   "outputs": [],
   "source": [
    "nums.values()"
   ]
  },
  {
   "cell_type": "markdown",
   "metadata": {},
   "source": [
    "These are not useable yet but keep them in mind, they'll come in handy later."
   ]
  },
  {
   "cell_type": "markdown",
   "metadata": {
    "slideshow": {
     "slide_type": "subslide"
    }
   },
   "source": [
    "An empty dict can be created in the following manner:"
   ]
  },
  {
   "cell_type": "code",
   "execution_count": null,
   "metadata": {},
   "outputs": [],
   "source": [
    "d={}\n",
    "type(d)"
   ]
  },
  {
   "cell_type": "markdown",
   "metadata": {},
   "source": [
    "Dict keys are required to be immutable objects:"
   ]
  },
  {
   "cell_type": "code",
   "execution_count": null,
   "metadata": {},
   "outputs": [],
   "source": [
    "d = {}\n",
    "d[\"name\"] = \"John\"\n",
    "d[(1,2)] = 666 # A tuple (immutable) can serve as a dict key\n",
    "print(d.keys())\n",
    "# Now uncomment and try this one with a mutable object as key:\n",
    "# d[[3,4]] = 777\n",
    "# As well as this one, just to be sure:\n",
    "# d[{\"another\":\"attempt\"}] = \"FAIL\""
   ]
  },
  {
   "cell_type": "markdown",
   "metadata": {
    "slideshow": {
     "slide_type": "slide"
    }
   },
   "source": [
    "# Sets\n",
    "\n",
    "- Sets are unordered collections of unique items. They correspond to the usual idea known from mathematics.\n",
    "- Sets are defined like lists and tuples (i.e. using commas to separate the elements) but with curly braces.\n",
    "- The last convention means that we can visually distinguish sets from dicts by checking whether they contain key-value pairs or not."
   ]
  },
  {
   "cell_type": "code",
   "execution_count": null,
   "metadata": {},
   "outputs": [],
   "source": [
    "primes = {2, 3, 5, 7}\n",
    "odds = {1, 3, 5, 7, 9}\n",
    "type(primes)\n",
    "# Try primes[0]"
   ]
  },
  {
   "cell_type": "markdown",
   "metadata": {
    "slideshow": {
     "slide_type": "slide"
    }
   },
   "source": [
    " # Set operations\n",
    " \n",
    " The set operations in Python are the usual set operation from mathematics. They can equivalently be invoked in operator form or using methods."
   ]
  },
  {
   "cell_type": "code",
   "execution_count": null,
   "metadata": {},
   "outputs": [],
   "source": [
    "# SET UNION (= items appearing in either)\n",
    "print(primes | odds) # with an operator\n",
    "print(primes.union(odds)) # with a method"
   ]
  },
  {
   "cell_type": "code",
   "execution_count": null,
   "metadata": {},
   "outputs": [],
   "source": [
    "# SET INTERSECTION (= items appearing in both)\n",
    "print(primes & odds) \n",
    "print(primes.intersection(odds)) "
   ]
  },
  {
   "cell_type": "code",
   "execution_count": null,
   "metadata": {
    "slideshow": {
     "slide_type": "subslide"
    }
   },
   "outputs": [],
   "source": [
    "# SET DIFFERENCE (= items appearing in primes but not in odds)\n",
    "print(primes - odds) \n",
    "print(primes.difference(odds))\n",
    "# Try changing the order of the sets to see \n",
    "# if the operation works symetrically"
   ]
  },
  {
   "cell_type": "code",
   "execution_count": null,
   "metadata": {
    "slideshow": {
     "slide_type": "-"
    }
   },
   "outputs": [],
   "source": [
    "# SYMMETRIC DIFFERENCE (= items appearing in only one set)\n",
    "print(primes ^ odds)\n",
    "print(primes.symmetric_difference(odds))"
   ]
  },
  {
   "cell_type": "markdown",
   "metadata": {
    "slideshow": {
     "slide_type": "slide"
    }
   },
   "source": [
    "## Sets are mutable\n",
    "\n",
    "We can add elements using `add()` and remove them using `remove()`:"
   ]
  },
  {
   "cell_type": "code",
   "execution_count": null,
   "metadata": {},
   "outputs": [],
   "source": [
    "a = {2,3}\n",
    "print(a)\n",
    "a.add(1)\n",
    "print(a)\n",
    "a.remove(3)\n",
    "print(a)"
   ]
  },
  {
   "cell_type": "markdown",
   "metadata": {
    "slideshow": {
     "slide_type": "subslide"
    }
   },
   "source": [
    "Here is how we can obtain the empty set $\\emptyset$:"
   ]
  },
  {
   "cell_type": "code",
   "execution_count": null,
   "metadata": {},
   "outputs": [],
   "source": [
    "a = {1,2}\n",
    "b = {3,4}\n",
    "a & b"
   ]
  },
  {
   "cell_type": "markdown",
   "metadata": {},
   "source": [
    "The form of this output suggests that there may be alternative ways to define (and convert) sets. (Indeed, given that an assignment like `x={}` creates an empty dict, there must be other ways for sets, as well as other types.)"
   ]
  },
  {
   "cell_type": "markdown",
   "metadata": {
    "slideshow": {
     "slide_type": "slide"
    }
   },
   "source": [
    "# More on type definitions and conversions\n",
    "\n",
    "- A list can also be created using the function `list()`\n",
    "- A tuple can also be created using the function `tuple()`\n",
    "- A dict can also be created using the function `dict()`\n",
    "- A set can also be created using the function `set()`\n",
    "\n",
    "These functions can be used to create empty instances or to perform type conversions (as long as you do not get carried away)."
   ]
  },
  {
   "cell_type": "markdown",
   "metadata": {
    "slideshow": {
     "slide_type": "slide"
    }
   },
   "source": [
    "# More on type definitions and conversions"
   ]
  },
  {
   "cell_type": "code",
   "execution_count": null,
   "metadata": {},
   "outputs": [],
   "source": [
    "# This is how we create empty instances\n",
    "x = list()  # an empty list\n",
    "y = tuple() # an empty tuple\n",
    "# etc."
   ]
  },
  {
   "cell_type": "code",
   "execution_count": null,
   "metadata": {},
   "outputs": [],
   "source": [
    "x = [1,2,3]\n",
    "s_x = set(x)\n",
    "t_x = tuple(x)\n",
    "print(s_x, t_x)"
   ]
  },
  {
   "cell_type": "code",
   "execution_count": null,
   "metadata": {
    "slideshow": {
     "slide_type": "subslide"
    }
   },
   "outputs": [],
   "source": [
    "# This will fail\n",
    "d_x = dict(x)"
   ]
  },
  {
   "cell_type": "code",
   "execution_count": null,
   "metadata": {},
   "outputs": [],
   "source": [
    "# However, this works:\n",
    "di = dict(x=1,y=2,z=3)\n",
    "di"
   ]
  },
  {
   "cell_type": "code",
   "execution_count": null,
   "metadata": {
    "slideshow": {
     "slide_type": "subslide"
    }
   },
   "outputs": [],
   "source": [
    "# We can also performs other conversions\n",
    "S = {1,2,3,5}\n",
    "L = list(S)\n",
    "print(L)\n",
    "T = tuple(S)\n",
    "print(T)"
   ]
  },
  {
   "cell_type": "code",
   "execution_count": null,
   "metadata": {
    "slideshow": {
     "slide_type": "subslide"
    }
   },
   "outputs": [],
   "source": [
    "# Note the following:\n",
    "di = dict(x=1,y=2,z=3)\n",
    "L = list(di) # Python <3.6: returns the keys in random order \n",
    "             # but we are (more) likely to be interested in the values\n",
    "# Python >= 3.6: The insertion order is preserved\n",
    "print(L)\n",
    "# It is better to be explicit (Python <3.6: the random order problem will persist):\n",
    "Lk = list(di.keys()); print(\"Lk =\",Lk)\n",
    "Lv = list(di.values()); print(\"Lv =\",Lv)"
   ]
  },
  {
   "cell_type": "markdown",
   "metadata": {
    "slideshow": {
     "slide_type": "slide"
    }
   },
   "source": [
    "# Using sets to get unique elements\n",
    "\n",
    "Sets can be used to extract unique elements as follows:"
   ]
  },
  {
   "cell_type": "code",
   "execution_count": null,
   "metadata": {},
   "outputs": [],
   "source": [
    "L = [1,2,1,3,4,5,3,7,8]\n",
    "Lnew = list(set(L))\n",
    "print(Lnew)\n",
    "# Or, perhaps:\n",
    "# Lnew.sort()\n",
    "# print(Lnew)"
   ]
  },
  {
   "cell_type": "markdown",
   "metadata": {
    "slideshow": {
     "slide_type": "slide"
    }
   },
   "source": [
    "# Memebership operations\n",
    "\n",
    "We can check for membership using the operations:\n",
    "- **`in`**\n",
    "- **`not in`**\n",
    "\n",
    "It is done like this:"
   ]
  },
  {
   "cell_type": "code",
   "execution_count": null,
   "metadata": {},
   "outputs": [],
   "source": [
    "L = [1,2,1,3,4,5,3,7,8] # Try to see how it works for other types\n",
    "2 in L"
   ]
  },
  {
   "cell_type": "code",
   "execution_count": null,
   "metadata": {},
   "outputs": [],
   "source": [
    "100 in L"
   ]
  },
  {
   "cell_type": "code",
   "execution_count": null,
   "metadata": {},
   "outputs": [],
   "source": [
    "100 not in L"
   ]
  }
 ],
 "metadata": {
  "celltoolbar": "Slideshow",
  "kernelspec": {
   "display_name": "Python 3 (ipykernel)",
   "language": "python",
   "name": "python3"
  },
  "language_info": {
   "codemirror_mode": {
    "name": "ipython",
    "version": 3
   },
   "file_extension": ".py",
   "mimetype": "text/x-python",
   "name": "python",
   "nbconvert_exporter": "python",
   "pygments_lexer": "ipython3",
   "version": "3.8.8"
  }
 },
 "nbformat": 4,
 "nbformat_minor": 1
}
