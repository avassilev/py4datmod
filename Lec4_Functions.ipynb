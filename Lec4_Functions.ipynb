{
 "cells": [
  {
   "cell_type": "markdown",
   "metadata": {
    "slideshow": {
     "slide_type": "slide"
    }
   },
   "source": [
    "<center> \n",
    "# R406: Using Python for data analysis and modelling\n",
    "\n",
    "<br> <br> \n",
    "\n",
    "## Lecture 4: Functions\n",
    "\n",
    "<br>\n",
    "\n",
    "<center> **Andrey Vassilev**\n",
    "\n",
    "<br> \n",
    "\n",
    "<center> **2016/2017**\n",
    " "
   ]
  },
  {
   "cell_type": "markdown",
   "metadata": {
    "slideshow": {
     "slide_type": "slide"
    }
   },
   "source": [
    "# Outline\n",
    "\n",
    "1. Calling functions: basic function calls, keyword arguments (flexible arguments), default values\n",
    "2. Defining functions\n",
    " - local variables and scoping\n",
    " - return value(s)\n",
    "3. Anonymous (lambda) functions\n",
    "4. Accessing other people's work: modules and packages"
   ]
  },
  {
   "cell_type": "markdown",
   "metadata": {
    "slideshow": {
     "slide_type": "slide"
    }
   },
   "source": [
    "# Basics of Python functions\n",
    "\n",
    "- A function is a group of operations that has a name. Functions can have *arguments* (i.e. inputs for the function's operations) and *return values* (i.e. the result of the operations).\n",
    "- Functions are useful for many reasons but, as a minimum, they allow us to reuse code and they facilitate the structuring and understanding of our programs."
   ]
  },
  {
   "cell_type": "markdown",
   "metadata": {
    "slideshow": {
     "slide_type": "subslide"
    }
   },
   "source": [
    "- Like most programming languages, a function in Python is called via its name followed by the arguments in parentheses.\n",
    "- The familiar `len()` function is one example: it takes as an argument the object whose length is to be computed and returns the number of elements of the object."
   ]
  },
  {
   "cell_type": "code",
   "execution_count": null,
   "metadata": {
    "collapsed": true
   },
   "outputs": [],
   "source": [
    "x = \"abracadabra\"\n",
    "# x = {\"x\":1,\"y\":2}\n",
    "len(x)"
   ]
  },
  {
   "cell_type": "markdown",
   "metadata": {
    "slideshow": {
     "slide_type": "subslide"
    }
   },
   "source": [
    "Functions can take more than one argument, as we have seen with the `print()` function.\n",
    "\n",
    "As another example, lists have an `insert()` method -- the precise syntax is `L.insert(i,e)` -- which inserts the element `e` at position `i`."
   ]
  },
  {
   "cell_type": "code",
   "execution_count": null,
   "metadata": {
    "collapsed": true
   },
   "outputs": [],
   "source": [
    "x = [1,2,3]\n",
    "x.insert(2,22)\n",
    "x"
   ]
  },
  {
   "cell_type": "markdown",
   "metadata": {
    "slideshow": {
     "slide_type": "subslide"
    }
   },
   "source": [
    "- Some functions are called because of their return value: in the statement `x = int(2.546)` we want to take the integer result of the conversion (obtained by calling the `int()` function) and assign it to the variable `x`.\n",
    "- Other functions are called because of their (side) effects: the `print()` function is called in order to display its arguments, while the value it returns (`None`) is almost never used."
   ]
  },
  {
   "cell_type": "markdown",
   "metadata": {
    "slideshow": {
     "slide_type": "slide"
    }
   },
   "source": [
    "# More on function arguments\n",
    "\n",
    "A function typically expects a certain number of arguments and complains when they are not provided:"
   ]
  },
  {
   "cell_type": "code",
   "execution_count": null,
   "metadata": {
    "collapsed": true
   },
   "outputs": [],
   "source": [
    "complex(1,2,3)"
   ]
  },
  {
   "cell_type": "code",
   "execution_count": null,
   "metadata": {
    "collapsed": true
   },
   "outputs": [],
   "source": [
    "len()"
   ]
  },
  {
   "cell_type": "markdown",
   "metadata": {
    "slideshow": {
     "slide_type": "subslide"
    }
   },
   "source": [
    "Yet, some functions are more flexible with respect to their arguments. For instance, we know that the `print()` function can take one or more arguments:"
   ]
  },
  {
   "cell_type": "code",
   "execution_count": null,
   "metadata": {
    "collapsed": true
   },
   "outputs": [],
   "source": [
    "print(1)\n",
    "print(\"x =\",1,\"and y =\",2.0)"
   ]
  },
  {
   "cell_type": "markdown",
   "metadata": {
    "slideshow": {
     "slide_type": "subslide"
    }
   },
   "source": [
    "### Default values\n",
    "\n",
    "Moreover, there are functions that implicitly assume a value for some of their arguments when these values are not explicitly supplied. "
   ]
  },
  {
   "cell_type": "code",
   "execution_count": null,
   "metadata": {
    "collapsed": true
   },
   "outputs": [],
   "source": [
    "x = complex() # zeros assumed for both real \n",
    "              # and imaginary parts\n",
    "print(x)\n",
    "x = complex(5.5) # zero assumed for imaginary part\n",
    "print(x)"
   ]
  },
  {
   "cell_type": "markdown",
   "metadata": {
    "slideshow": {
     "slide_type": "subslide"
    }
   },
   "source": [
    "As another example of a default value, `print()` has an argument `end`, which by default is set to the newline character `\\n`. Using the default form (in which we can omit the respective argument and it will assume the default value), we would print a column of values:"
   ]
  },
  {
   "cell_type": "code",
   "execution_count": null,
   "metadata": {
    "collapsed": true
   },
   "outputs": [],
   "source": [
    "for i in range(3):\n",
    "    print(i)"
   ]
  },
  {
   "cell_type": "markdown",
   "metadata": {},
   "source": [
    "If we replace the default argument, we can obtain a row of values:"
   ]
  },
  {
   "cell_type": "code",
   "execution_count": null,
   "metadata": {
    "collapsed": true
   },
   "outputs": [],
   "source": [
    "for i in range(3):\n",
    "    print(i,end=\" \")"
   ]
  },
  {
   "cell_type": "markdown",
   "metadata": {
    "slideshow": {
     "slide_type": "slide"
    }
   },
   "source": [
    "# Defining functions\n",
    "\n",
    "Functions in Python are defined using the following syntax:\n",
    "\n",
    "```def <functionname>(<arguments>):\n",
    "    <statements>\n",
    "```\n",
    "\n",
    "Here is an example of a simple function:"
   ]
  },
  {
   "cell_type": "code",
   "execution_count": null,
   "metadata": {
    "collapsed": true
   },
   "outputs": [],
   "source": [
    "def cubed(x):\n",
    "    print(x**3)\n",
    "\n",
    "y = 3.14\n",
    "cubed(y)"
   ]
  },
  {
   "cell_type": "markdown",
   "metadata": {
    "slideshow": {
     "slide_type": "slide"
    }
   },
   "source": [
    "# Return values\n",
    "\n",
    "The `cubed()` function from the previous example prints the argument raised to the power of 3 but we cannot use the result. To be able to use the results of computations performed in a function, these results must be *returned*. Unsurprisingly, this is done using the `return` statement."
   ]
  },
  {
   "cell_type": "code",
   "execution_count": null,
   "metadata": {
    "collapsed": true
   },
   "outputs": [],
   "source": [
    "def cubed(x):\n",
    "    return x**3\n",
    "\n",
    "x = cubed(5)\n",
    "y = cubed(3)\n",
    "z = x*y\n",
    "z"
   ]
  }
 ],
 "metadata": {
  "celltoolbar": "Slideshow",
  "kernelspec": {
   "display_name": "Python 3",
   "language": "python",
   "name": "python3"
  },
  "language_info": {
   "codemirror_mode": {
    "name": "ipython",
    "version": 3
   },
   "file_extension": ".py",
   "mimetype": "text/x-python",
   "name": "python",
   "nbconvert_exporter": "python",
   "pygments_lexer": "ipython3",
   "version": "3.5.2"
  }
 },
 "nbformat": 4,
 "nbformat_minor": 1
}
