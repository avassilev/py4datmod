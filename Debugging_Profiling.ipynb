{
 "cells": [
  {
   "cell_type": "markdown",
   "metadata": {
    "slideshow": {
     "slide_type": "slide"
    }
   },
   "source": [
    "<center> \n",
    "# R406: Using Python for data analysis and modelling\n",
    "\n",
    "<br> <br> \n",
    "\n",
    "## <center> Debugging, profiling and miscellaneous IPython tricks\n",
    "\n",
    "<br>\n",
    "\n",
    "<center> **Andrey Vassilev**\n",
    "\n",
    "<br> \n",
    "\n",
    "\n",
    " "
   ]
  },
  {
   "cell_type": "markdown",
   "metadata": {
    "slideshow": {
     "slide_type": "slide"
    }
   },
   "source": [
    "# Outline\n",
    "\n",
    "1. Useful IPython stuff\n",
    "2. Debugging\n",
    "3. Profiling"
   ]
  },
  {
   "cell_type": "markdown",
   "metadata": {
    "slideshow": {
     "slide_type": "slide"
    }
   },
   "source": [
    "# Overview of some (perhaps cool) IPython tricks\n",
    "\n",
    "**Disclaimer: These are mostly oriented toward using IPython in the Jupyter notebook. There may be some differences when using IPython as the kernel in an IDE such as Spyder.**\n",
    "\n",
    "- Help\n",
    "- Input and Output history\n",
    "- Magic commands\n",
    "- Shell commands"
   ]
  },
  {
   "cell_type": "markdown",
   "metadata": {
    "slideshow": {
     "slide_type": "slide"
    }
   },
   "source": [
    "# Getting help\n",
    "\n",
    "You can get help on a command using `help()` or the `?` shortcut."
   ]
  },
  {
   "cell_type": "code",
   "execution_count": null,
   "metadata": {
    "collapsed": true
   },
   "outputs": [],
   "source": [
    "help(sum)"
   ]
  },
  {
   "cell_type": "code",
   "execution_count": null,
   "metadata": {
    "collapsed": true
   },
   "outputs": [],
   "source": [
    "L = [2,3,4]\n",
    "sum(L)"
   ]
  },
  {
   "cell_type": "code",
   "execution_count": null,
   "metadata": {
    "collapsed": true
   },
   "outputs": [],
   "source": [
    "sum?"
   ]
  },
  {
   "cell_type": "markdown",
   "metadata": {},
   "source": [
    "This also works for objects and methods bound to specific objects:"
   ]
  },
  {
   "cell_type": "code",
   "execution_count": null,
   "metadata": {
    "collapsed": true
   },
   "outputs": [],
   "source": [
    "L?"
   ]
  },
  {
   "cell_type": "code",
   "execution_count": null,
   "metadata": {
    "collapsed": true
   },
   "outputs": [],
   "source": [
    "L.reverse?"
   ]
  },
  {
   "cell_type": "markdown",
   "metadata": {
    "slideshow": {
     "slide_type": "subslide"
    }
   },
   "source": [
    "If you are interested in such details, using `??` can fetch the source code of a function (unless it is a compiled one):"
   ]
  },
  {
   "cell_type": "code",
   "execution_count": null,
   "metadata": {
    "collapsed": true
   },
   "outputs": [],
   "source": [
    "def square(a):\n",
    "    \"\"\"Return the square of a.\"\"\"\n",
    "    return a ** 2\n",
    "\n",
    "square??"
   ]
  },
  {
   "cell_type": "markdown",
   "metadata": {
    "slideshow": {
     "slide_type": "slide"
    }
   },
   "source": [
    "# Input and Output history\n",
    "\n",
    "In IPython there exist three variables, named `_`, `__` and `___`, which are automatically kept up to date to store the last three outputs:"
   ]
  },
  {
   "cell_type": "code",
   "execution_count": null,
   "metadata": {
    "collapsed": true
   },
   "outputs": [],
   "source": [
    "5+5"
   ]
  },
  {
   "cell_type": "code",
   "execution_count": null,
   "metadata": {
    "collapsed": true
   },
   "outputs": [],
   "source": [
    "6+6"
   ]
  },
  {
   "cell_type": "code",
   "execution_count": null,
   "metadata": {
    "collapsed": true
   },
   "outputs": [],
   "source": [
    "7+7"
   ]
  },
  {
   "cell_type": "code",
   "execution_count": null,
   "metadata": {
    "collapsed": true
   },
   "outputs": [],
   "source": [
    "print(_)\n",
    "print(__)\n",
    "print(___)"
   ]
  },
  {
   "cell_type": "markdown",
   "metadata": {
    "slideshow": {
     "slide_type": "subslide"
    }
   },
   "source": [
    "You can also access a list of the commands executed in the notebook via the `In` object:"
   ]
  },
  {
   "cell_type": "code",
   "execution_count": null,
   "metadata": {
    "collapsed": true
   },
   "outputs": [],
   "source": [
    "In"
   ]
  },
  {
   "cell_type": "code",
   "execution_count": null,
   "metadata": {
    "collapsed": true
   },
   "outputs": [],
   "source": [
    "In[1]"
   ]
  },
  {
   "cell_type": "markdown",
   "metadata": {
    "slideshow": {
     "slide_type": "subslide"
    }
   },
   "source": [
    "The output is available as a dictionary in the `Out` object:"
   ]
  },
  {
   "cell_type": "code",
   "execution_count": null,
   "metadata": {
    "collapsed": true
   },
   "outputs": [],
   "source": [
    "Out"
   ]
  },
  {
   "cell_type": "code",
   "execution_count": null,
   "metadata": {
    "collapsed": true
   },
   "outputs": [],
   "source": [
    "type(Out)"
   ]
  },
  {
   "cell_type": "code",
   "execution_count": null,
   "metadata": {
    "collapsed": true
   },
   "outputs": [],
   "source": [
    "Out[2]"
   ]
  },
  {
   "cell_type": "code",
   "execution_count": null,
   "metadata": {
    "collapsed": true
   },
   "outputs": [],
   "source": [
    "_2 # Shortcut for Out[2]"
   ]
  },
  {
   "cell_type": "markdown",
   "metadata": {
    "slideshow": {
     "slide_type": "subslide"
    }
   },
   "source": [
    "If you want to execute a particular command again, you can do something like:"
   ]
  },
  {
   "cell_type": "code",
   "execution_count": null,
   "metadata": {
    "collapsed": true
   },
   "outputs": [],
   "source": [
    "exec(In[6]) # This executes a particular string"
   ]
  },
  {
   "cell_type": "markdown",
   "metadata": {},
   "source": [
    "**I would strongly discourage you from using the above trick and the `exec()` function in general: it is unsafe and can easily inject and run arbitrary code in your programs!**"
   ]
  },
  {
   "cell_type": "markdown",
   "metadata": {
    "slideshow": {
     "slide_type": "slide"
    }
   },
   "source": [
    "# Magic commands\n",
    "\n",
    "IPython (and, by extension, Jupyter with the IPython kernel) has a number of commands known as *magic* commands or simply *magics*. These are defined using the prefix `%` for single-line commands or `%%` for entire cells."
   ]
  },
  {
   "cell_type": "code",
   "execution_count": null,
   "metadata": {
    "collapsed": true
   },
   "outputs": [],
   "source": [
    "%lsmagic # Lists available magics"
   ]
  },
  {
   "cell_type": "markdown",
   "metadata": {},
   "source": [
    "You can get help on these as well:"
   ]
  },
  {
   "cell_type": "code",
   "execution_count": null,
   "metadata": {
    "collapsed": true
   },
   "outputs": [],
   "source": [
    "%whos?"
   ]
  },
  {
   "cell_type": "markdown",
   "metadata": {
    "slideshow": {
     "slide_type": "subslide"
    }
   },
   "source": [
    "Some line magics that may prove useful are:  \n",
    "\n",
    "`%run filename.py`  \n",
    "(will run the respective Python file)  \n",
    "\n",
    "`%cls`  \n",
    "(clears the cell's output)\n",
    "\n",
    "`%pwd`  \n",
    "(prints the current working directory path)\n",
    "\n",
    "`%ls`  \n",
    "(prints the contents of the current working directory)\n",
    "\n",
    "`%who`, `%who_ls`, `%whos`  \n",
    "(different variants of seeing the contents of the workspace)\n",
    "\n",
    "`%reset`  \n",
    "(resets the interpreter, clearing all variables etc.)"
   ]
  },
  {
   "cell_type": "markdown",
   "metadata": {
    "slideshow": {
     "slide_type": "subslide"
    }
   },
   "source": [
    "Cell magics allow us to run entire cells with specific content:\n",
    "\n",
    "`%%latex`  \n",
    "(will show the cell as LaTeX)"
   ]
  },
  {
   "cell_type": "code",
   "execution_count": 4,
   "metadata": {},
   "outputs": [
    {
     "data": {
      "text/latex": [
       "\\[\\mathcal{L}=E_s\\sum_{t=0}^\\infty \\beta^t\n",
       "\\left\\{ F(x_{s+t},u_{s+t}) + \\lambda'_{s+t}\n",
       "(f_{s+t}(x_{s+t},u_{s+t},\\epsilon_{s+t})-x_{s+t+1}) \\right\\}\\]"
      ],
      "text/plain": [
       "<IPython.core.display.Latex object>"
      ]
     },
     "metadata": {},
     "output_type": "display_data"
    }
   ],
   "source": [
    "%%latex\n",
    "\\[\\mathcal{L}=E_s\\sum_{t=0}^\\infty \\beta^t\n",
    "\\left\\{ F(x_{s+t},u_{s+t}) + \\lambda'_{s+t}\n",
    "(f_{s+t}(x_{s+t},u_{s+t},\\epsilon_{s+t})-x_{s+t+1}) \\right\\}\\]"
   ]
  },
  {
   "cell_type": "markdown",
   "metadata": {},
   "source": [
    "`%%writefile`  \n",
    "(writes the content of the cell to a file)"
   ]
  },
  {
   "cell_type": "code",
   "execution_count": null,
   "metadata": {
    "collapsed": true
   },
   "outputs": [],
   "source": [
    "%%writefile blabla.txt\n",
    "This is some garbage text.\n",
    "That will be saved to a file."
   ]
  },
  {
   "cell_type": "markdown",
   "metadata": {
    "slideshow": {
     "slide_type": "slide"
    }
   },
   "source": [
    "# Shell commands\n",
    "\n",
    "These provide access to operating system utilities from IPython, thus saving the need to go to a command window (like a DOS box, bash etc.).\n",
    "\n",
    "This means you can use, for example, DOS commands in a Jupyter cell simply by prepending the command with an exclamation mark."
   ]
  },
  {
   "cell_type": "code",
   "execution_count": null,
   "metadata": {
    "collapsed": true
   },
   "outputs": [],
   "source": [
    "!dir # list the contents of the current directory"
   ]
  },
  {
   "cell_type": "code",
   "execution_count": null,
   "metadata": {
    "collapsed": true
   },
   "outputs": [],
   "source": [
    "!ver # print the OS version"
   ]
  },
  {
   "cell_type": "markdown",
   "metadata": {
    "slideshow": {
     "slide_type": "subslide"
    }
   },
   "source": [
    "You can also assign the output to a Python variable."
   ]
  },
  {
   "cell_type": "code",
   "execution_count": null,
   "metadata": {
    "collapsed": true
   },
   "outputs": [],
   "source": [
    "var = !ver\n",
    "var"
   ]
  },
  {
   "cell_type": "markdown",
   "metadata": {
    "slideshow": {
     "slide_type": "slide"
    }
   },
   "source": [
    "# Debugging\n",
    "\n",
    "Debugging is the process of finding and correcting errors in your code. This is one of the most frustrating and frequently performed activities when writing programs.\n",
    "\n",
    "The first thing one should do when an error is raised is to read the error message. (This advice is not a joke: novice programmers are often startled by the error output and do not try hard enough to decipher what the interpreter is telling them.)"
   ]
  },
  {
   "cell_type": "markdown",
   "metadata": {
    "slideshow": {
     "slide_type": "slide"
    }
   },
   "source": [
    "You can control the level of detail (verbosity) of the error messages using the magic command `%xmode`, which takes one of three arguments: `Plain`, `Context` or `Verbose`."
   ]
  },
  {
   "cell_type": "code",
   "execution_count": null,
   "metadata": {
    "collapsed": true
   },
   "outputs": [],
   "source": [
    "f1 = lambda a, b: a / b\n",
    "\n",
    "def f2(x):\n",
    "    a = x\n",
    "    b = x - 5\n",
    "    return f1(a, b)"
   ]
  },
  {
   "cell_type": "code",
   "execution_count": null,
   "metadata": {
    "collapsed": true,
    "slideshow": {
     "slide_type": "subslide"
    }
   },
   "outputs": [],
   "source": [
    "%xmode Context\n",
    "f2(5)"
   ]
  },
  {
   "cell_type": "code",
   "execution_count": null,
   "metadata": {
    "collapsed": true,
    "slideshow": {
     "slide_type": "subslide"
    }
   },
   "outputs": [],
   "source": [
    "%xmode Plain\n",
    "f2(5)"
   ]
  },
  {
   "cell_type": "code",
   "execution_count": null,
   "metadata": {
    "collapsed": true,
    "slideshow": {
     "slide_type": "subslide"
    }
   },
   "outputs": [],
   "source": [
    "%xmode Verbose\n",
    "f2(5)"
   ]
  },
  {
   "cell_type": "markdown",
   "metadata": {
    "slideshow": {
     "slide_type": "subslide"
    }
   },
   "source": [
    "Restore reporting mode to `Context`:"
   ]
  },
  {
   "cell_type": "code",
   "execution_count": null,
   "metadata": {
    "collapsed": true,
    "slideshow": {
     "slide_type": "-"
    }
   },
   "outputs": [],
   "source": [
    "%xmode Context"
   ]
  },
  {
   "cell_type": "markdown",
   "metadata": {
    "slideshow": {
     "slide_type": "slide"
    }
   },
   "source": [
    "## Using a debugger\n",
    "\n",
    "- It is rare to be able to figure out the problem only from the error message, unless the situation is quite simple or you are extremely sharp. \n",
    "- More typically you will need to inspect the state of your code at the moment an error occurs. \n",
    "- This means that you want to check things like what objects existed when the error occurred and what their values (states) were.\n",
    "- A proper *debugger* will come to the rescue. It is a program that helps you perform the above tasks.\n",
    "\n",
    "**Note:** Using a debugger is a much more elegant way of tracing errors compared to the popular practice of sprinkling your code with `print` statements."
   ]
  },
  {
   "cell_type": "markdown",
   "metadata": {
    "slideshow": {
     "slide_type": "slide"
    }
   },
   "source": [
    "IPython's debugger is called `ipdb`. It can be invoked with the magic `%debug`.\n",
    "\n",
    "Once inside the debugger, you see a debug command prompt `ipdb>`. There are special commands available to help trace the errors.\n",
    "\n",
    "For example, `p <var>` will print the variable `<var>`, `q` will quit the debugger, `h` will print help on commands, `c` will quit the debugger and continue in the program, `n` will execute the next step in the code etc."
   ]
  },
  {
   "cell_type": "code",
   "execution_count": null,
   "metadata": {
    "collapsed": true,
    "slideshow": {
     "slide_type": "subslide"
    }
   },
   "outputs": [],
   "source": [
    "f2(5)"
   ]
  },
  {
   "cell_type": "code",
   "execution_count": null,
   "metadata": {
    "collapsed": true,
    "slideshow": {
     "slide_type": "subslide"
    }
   },
   "outputs": [],
   "source": [
    "%debug"
   ]
  },
  {
   "cell_type": "markdown",
   "metadata": {
    "slideshow": {
     "slide_type": "subslide"
    }
   },
   "source": [
    "More complicated debugging is best carried out in Spyder (or another IDE). We can use the cell magic below to create the file `cw.py` and then turn to Spyder. There, we can conveniently step through the code, set breakpoints etc."
   ]
  },
  {
   "cell_type": "code",
   "execution_count": null,
   "metadata": {},
   "outputs": [],
   "source": [
    "%%writefile cw.py\n",
    "x = [1,2,3,2,5]\n",
    "def ComputeWeights(x):\n",
    "    S = sum(x)\n",
    "    Wt = [i//S for i in x] # note the mistake in using // instead of /\n",
    "    return Wt\n",
    "\n",
    "print(ComputeWeights(x))"
   ]
  },
  {
   "cell_type": "markdown",
   "metadata": {
    "slideshow": {
     "slide_type": "slide"
    }
   },
   "source": [
    "# Error handling and exceptions\n",
    "\n",
    "- In many cases we are not interested or able to establish the source of an error interactively via the debugging mechanisms. \n",
    "- Instead, we want to handle the error programmatically, if it occurs at all.\n",
    "- This is done with the `try...except` statement."
   ]
  },
  {
   "cell_type": "code",
   "execution_count": null,
   "metadata": {
    "collapsed": true
   },
   "outputs": [],
   "source": [
    "# Run this several times and input 5, -5 and aaa\n",
    "from math import sqrt\n",
    "inp = input(\"Input number: \")\n",
    "try:\n",
    "    result = sqrt(float(inp))\n",
    "    print(\"The square root of %s is %f\"%(inp,result))\n",
    "except:\n",
    "    print(\"There was a problem computing the square root of %s\"%(inp))"
   ]
  },
  {
   "cell_type": "markdown",
   "metadata": {
    "slideshow": {
     "slide_type": "subslide"
    }
   },
   "source": [
    "- It is recommended to handle the exceptions explicitly depending on the type of error. \n",
    "- In the previous piece of code an error could occur because we were trying to convert a string consisting of letters to a float or because we were trying to take the square root of a negative number. \n",
    "- These obviously require different treatments."
   ]
  },
  {
   "cell_type": "code",
   "execution_count": null,
   "metadata": {
    "collapsed": true,
    "slideshow": {
     "slide_type": "subslide"
    }
   },
   "outputs": [],
   "source": [
    "from math import sqrt\n",
    "import sys\n",
    "try:\n",
    "    del result # Remove residual results if they exist\n",
    "except NameError:\n",
    "    pass # do nothing\n",
    "inp = input(\"Input number: \")\n",
    "try:\n",
    "    try:\n",
    "        try:\n",
    "            num = float(inp)\n",
    "        except ValueError:\n",
    "            print(\"Are you sure you inputted a number?\")\n",
    "            sys.exit() # We need this to avoid falling through\n",
    "                       # to the next exception. Comment it out \n",
    "                       # to see what happens when you input 'aaa'\n",
    "        result = sqrt(num)\n",
    "        print(\"The square root of %f is %f\"%(num,result))\n",
    "    except ValueError:\n",
    "        print(\"Your number is negative!\")\n",
    "except SystemExit:\n",
    "    pass # This serves to ensure a silent System exit"
   ]
  },
  {
   "cell_type": "markdown",
   "metadata": {
    "slideshow": {
     "slide_type": "subslide"
    }
   },
   "source": [
    "The full syntax of the `try...except` construct is the following:"
   ]
  },
  {
   "cell_type": "code",
   "execution_count": null,
   "metadata": {
    "collapsed": true
   },
   "outputs": [],
   "source": [
    "try:\n",
    "    print(\"try something here\")\n",
    "except:\n",
    "    print(\"this happens only if it fails\")\n",
    "else:\n",
    "    print(\"this happens only if it succeeds\")\n",
    "finally:\n",
    "    print(\"this happens no matter what (usually used to clean up)\")"
   ]
  },
  {
   "cell_type": "markdown",
   "metadata": {
    "slideshow": {
     "slide_type": "subslide"
    }
   },
   "source": [
    "We can also raise our own exceptions. This is done using the `raise` statement. We usually raise a predefined type of exception, perhaps with our own error message."
   ]
  },
  {
   "cell_type": "code",
   "execution_count": null,
   "metadata": {
    "collapsed": true
   },
   "outputs": [],
   "source": [
    "def divXY(x,y):\n",
    "    if y == 0:\n",
    "        raise ValueError(\"Are you kidding? You can't divide by zero!\")\n",
    "    else: \n",
    "        return x/y"
   ]
  },
  {
   "cell_type": "code",
   "execution_count": null,
   "metadata": {
    "collapsed": true
   },
   "outputs": [],
   "source": [
    "divXY(2,0)"
   ]
  },
  {
   "cell_type": "markdown",
   "metadata": {
    "slideshow": {
     "slide_type": "slide"
    }
   },
   "source": [
    "# Profiling\n",
    "\n",
    "Profiling serves to time the execution of you code and identify bottlenecks.\n",
    "\n",
    "Probably the easiest way to profile your code in IPython is to use the `%time` or `%timeit` magics."
   ]
  },
  {
   "cell_type": "code",
   "execution_count": null,
   "metadata": {
    "collapsed": true
   },
   "outputs": [],
   "source": [
    "# This times a one-line statement, executing it once\n",
    "%time L = [i for i in range(1000000)]"
   ]
  },
  {
   "cell_type": "code",
   "execution_count": null,
   "metadata": {
    "collapsed": true
   },
   "outputs": [],
   "source": [
    "%%time\n",
    "# This times an entire cell, executing it once\n",
    "\n",
    "S = [str(i) for i in range(1000000)]\n",
    "L = [i for i in range(1000000)]\n",
    "del S,L"
   ]
  },
  {
   "cell_type": "code",
   "execution_count": null,
   "metadata": {
    "collapsed": true,
    "slideshow": {
     "slide_type": "subslide"
    }
   },
   "outputs": [],
   "source": [
    "# This times a one-line statement, executing it multiple times\n",
    "%timeit L = [i for i in range(1000000)]"
   ]
  },
  {
   "cell_type": "code",
   "execution_count": null,
   "metadata": {
    "collapsed": true
   },
   "outputs": [],
   "source": [
    "%%timeit\n",
    "# This times an entire cell, executing it multiple times\n",
    "\n",
    "S = [str(i) for i in range(1000000)]\n",
    "L = [i for i in range(1000000)]\n",
    "del S,L"
   ]
  },
  {
   "cell_type": "markdown",
   "metadata": {
    "slideshow": {
     "slide_type": "slide"
    }
   },
   "source": [
    "## `%prun` and `%%prun`\n",
    "\n",
    "More complicated profiling tasks can be performed using the `%prun` and `%%prun` magics."
   ]
  },
  {
   "cell_type": "code",
   "execution_count": null,
   "metadata": {
    "collapsed": true
   },
   "outputs": [],
   "source": [
    "%prun S = [str(i) for i in range(1000000)]"
   ]
  },
  {
   "cell_type": "code",
   "execution_count": null,
   "metadata": {
    "collapsed": true
   },
   "outputs": [],
   "source": [
    "%%prun\n",
    "def sum_of_lists(N):\n",
    "    total = 0\n",
    "    for i in range(5):\n",
    "        L = [j ^ (j >> i) for j in range(N)]\n",
    "        total += sum(L)\n",
    "    return total\n",
    "\n",
    "sum_of_lists(1000000)"
   ]
  },
  {
   "cell_type": "markdown",
   "metadata": {
    "slideshow": {
     "slide_type": "subslide"
    }
   },
   "source": [
    "Additional profiling functionalities are available through external packages. Read up on `line_profiler` and `memory_profiler` if you are interested in learning more. *Python Data Science Handbook* has some information on them."
   ]
  }
 ],
 "metadata": {
  "celltoolbar": "Slideshow",
  "kernelspec": {
   "display_name": "Python 3",
   "language": "python",
   "name": "python3"
  },
  "language_info": {
   "codemirror_mode": {
    "name": "ipython",
    "version": 3
   },
   "file_extension": ".py",
   "mimetype": "text/x-python",
   "name": "python",
   "nbconvert_exporter": "python",
   "pygments_lexer": "ipython3",
   "version": "3.6.3"
  }
 },
 "nbformat": 4,
 "nbformat_minor": 1
}
