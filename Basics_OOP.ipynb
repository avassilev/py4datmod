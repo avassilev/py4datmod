{
 "cells": [
  {
   "cell_type": "markdown",
   "metadata": {
    "slideshow": {
     "slide_type": "slide"
    }
   },
   "source": [
    "<center>\n",
    "    \n",
    "# R406: Applied Economic Modelling with Python\n",
    "\n",
    "</center>\n",
    "\n",
    "<br> <br> \n",
    "\n",
    "<center>\n",
    "\n",
    "## Basics of object-oriented programming\n",
    "\n",
    "</center>\n",
    "\n",
    "<br><br> \n",
    "\n",
    "<center>\n",
    "\n",
    "## Andrey Vassilev\n",
    "\n",
    "</center>\n"
   ]
  },
  {
   "cell_type": "markdown",
   "metadata": {
    "slideshow": {
     "slide_type": "slide"
    }
   },
   "source": [
    "# Outline\n",
    "\n",
    "1. Fundamental ideas\n",
    "2. We already know it: a review of familiar examples of objects in Python\n",
    "3. Building our own: defining new classes and instantiation"
   ]
  },
  {
   "cell_type": "markdown",
   "metadata": {
    "slideshow": {
     "slide_type": "slide"
    }
   },
   "source": [
    "# The concept of an object\n",
    "\n",
    "- We already know about various data types and functions.\n",
    "- We can construct our own data structures (e.g. a list of dictionaries) and separately write functions to manipulate them.\n",
    "- However, in many situations it is natural to think of an entity we are trying to model as composed of *data* **plus** specific *actions* that can be performed to change this data."
   ]
  },
  {
   "cell_type": "markdown",
   "metadata": {
    "slideshow": {
     "slide_type": "subslide"
    }
   },
   "source": [
    "- For instance, a firm can be characterized by data such as the number of its employees, the stock of machinery and equipment it owns and the amount of orders it gets. Actions it can take can include hiring or laying off workers, buying new machines or fulfilling and rejecting orders.\n",
    "- A bank account can be associated with data such as the amount available, the interest rate and possibly the term of the deposit. Operations that can be performed with an account include depositing money, withdrawing money or computing the interest accrued.\n",
    "- These are examples of entities that can be modelled as *objects* — entities combining specific data and actions to manipulate the data."
   ]
  },
  {
   "cell_type": "markdown",
   "metadata": {
    "slideshow": {
     "slide_type": "slide"
    }
   },
   "source": [
    "# Classes and instances\n",
    "\n",
    "- In object-oriented programming (OOP) an important distinction is that between classes and specific instances (objects).\n",
    "- A class can be thought of as a blueprint describing the entity being modelled, e.g. what characteristics of a firm we want to take on board and what actions are of interest to us.\n",
    "- An instance (also called an object) is a specific realization of a class. There can be many instances of a given class. These instances can differ in the values of the data they hold, just like checking accounts can differ between different holders."
   ]
  },
  {
   "cell_type": "markdown",
   "metadata": {
    "slideshow": {
     "slide_type": "subslide"
    }
   },
   "source": [
    "- The data of a class is implemented via data structures and the actions are implemented via appropriately defined functions in the respective programming language. (**Note:** Not all programming languages support the OOP paradigm.)\n",
    "- The data structures and the functions of a class are collectively known as *attributes*.\n",
    "  - The data are referred to as *data attributes*.\n",
    "  - The functions are referred to as *methods*.\n",
    "- However, sometimes data attributes are called simply \"attributes\" and we talk about \"attributes and methods\"."
   ]
  },
  {
   "cell_type": "markdown",
   "metadata": {
    "slideshow": {
     "slide_type": "slide"
    }
   },
   "source": [
    "# Familiar objects and methods\n",
    "\n",
    "- Actually, Python implements an *everything-is-an-object* approach, so all the things we have seen so far are examples of objects.\n",
    "- Here is an object of class `complex`:"
   ]
  },
  {
   "cell_type": "code",
   "execution_count": null,
   "metadata": {},
   "outputs": [],
   "source": [
    "x = complex(1,-1)\n",
    "print(type(x))"
   ]
  },
  {
   "cell_type": "markdown",
   "metadata": {
    "slideshow": {
     "slide_type": "subslide"
    }
   },
   "source": [
    "- Let's access some of its data attributes..."
   ]
  },
  {
   "cell_type": "code",
   "execution_count": null,
   "metadata": {},
   "outputs": [],
   "source": [
    "x.real"
   ]
  },
  {
   "cell_type": "code",
   "execution_count": null,
   "metadata": {},
   "outputs": [],
   "source": [
    "x.imag"
   ]
  },
  {
   "cell_type": "markdown",
   "metadata": {},
   "source": [
    "- ... as well as methods..."
   ]
  },
  {
   "cell_type": "code",
   "execution_count": null,
   "metadata": {},
   "outputs": [],
   "source": [
    "x.conjugate()"
   ]
  },
  {
   "cell_type": "markdown",
   "metadata": {
    "slideshow": {
     "slide_type": "subslide"
    }
   },
   "source": [
    "As another example, in the case of a dictionary we can do:"
   ]
  },
  {
   "cell_type": "code",
   "execution_count": null,
   "metadata": {},
   "outputs": [],
   "source": [
    "y = {1:'a',2:'b'}\n",
    "y.__doc__"
   ]
  },
  {
   "cell_type": "code",
   "execution_count": null,
   "metadata": {
    "slideshow": {
     "slide_type": "-"
    }
   },
   "outputs": [],
   "source": [
    "y.keys()"
   ]
  },
  {
   "cell_type": "markdown",
   "metadata": {
    "slideshow": {
     "slide_type": "slide"
    }
   },
   "source": [
    "A quick way to check the attributes of a class in Python is:"
   ]
  },
  {
   "cell_type": "code",
   "execution_count": null,
   "metadata": {},
   "outputs": [],
   "source": [
    "dir(complex)"
   ]
  },
  {
   "cell_type": "code",
   "execution_count": null,
   "metadata": {},
   "outputs": [],
   "source": [
    "dir(dict)"
   ]
  },
  {
   "cell_type": "markdown",
   "metadata": {},
   "source": [
    "A more sophisticated way of doing such things would be to use the `inspect` module. It gives more information and can thus be more difficult to decipher."
   ]
  },
  {
   "cell_type": "code",
   "execution_count": null,
   "metadata": {},
   "outputs": [],
   "source": [
    "import inspect\n",
    "inspect.getmembers(x)"
   ]
  },
  {
   "cell_type": "markdown",
   "metadata": {
    "slideshow": {
     "slide_type": "slide"
    }
   },
   "source": [
    "Thus, the general syntax for accessing attributes is  \n",
    "`obj_name.data`\n",
    "\n",
    "`obj_name.method()`\n",
    "\n",
    "Methods can obviously receive different arguments, like `L.append(5)`."
   ]
  },
  {
   "cell_type": "markdown",
   "metadata": {
    "slideshow": {
     "slide_type": "slide"
    }
   },
   "source": [
    "# Creating our own classes\n",
    "\n",
    "- A class can be created using the `class` keyword. \n",
    "- Instances of the class are created by invoking the class name using function notation. In most cases this will in turn call a special (constructor) method named `__init__()`.\n",
    "- By convention the first argument passed to `__init__()` is called `self`. This provides a mechanism for an object to refer to it*self*, effectively allowing individualized values for each instance of the class.\n",
    "- We'll look at an example (taken from the [Quantitative Economics](https://python-programming.quantecon.org/python_oop.html) website) to make things more specific."
   ]
  },
  {
   "cell_type": "markdown",
   "metadata": {
    "slideshow": {
     "slide_type": "slide"
    }
   },
   "source": [
    "## Modelling consumer decisions\n",
    "\n",
    "- We want to create a basic model of a consumer.\n",
    "- The consumer is characterized by his wealth (a data attribute).\n",
    "- The wealth can be increased through the consumer's earnings (implemented via a method called `earn()`).\n",
    "- The wealth can be reduced (to a lower bound of zero) through the consumer's spending decisions (implemented via a method called `spend()`)."
   ]
  },
  {
   "cell_type": "code",
   "execution_count": null,
   "metadata": {
    "slideshow": {
     "slide_type": "slide"
    }
   },
   "outputs": [],
   "source": [
    "class Consumer:\n",
    "    \n",
    "    def __init__(self, w):\n",
    "        \"Initialize consumer with w dollars of wealth\"\n",
    "        self.wealth = w\n",
    "        \n",
    "    def earn(self, y):\n",
    "        \"The consumer earns y dollars\" \n",
    "        self.wealth += y\n",
    "        \n",
    "    def spend(self, x):\n",
    "        \"The consumer spends x dollars if feasible\"\n",
    "        new_wealth = self.wealth - x\n",
    "        if new_wealth < 0:\n",
    "            print(\"Insufficent funds\")\n",
    "        else:\n",
    "            self.wealth = new_wealth"
   ]
  },
  {
   "cell_type": "markdown",
   "metadata": {
    "slideshow": {
     "slide_type": "slide"
    }
   },
   "source": [
    "Let us create and manipulate several instances of the `Consumer` class."
   ]
  },
  {
   "cell_type": "code",
   "execution_count": null,
   "metadata": {},
   "outputs": [],
   "source": [
    "C1 = Consumer(10)  # this calls __init__ with w = 10\n",
    "C2 = Consumer(100) # this calls __init__ with w = 100"
   ]
  },
  {
   "cell_type": "code",
   "execution_count": null,
   "metadata": {},
   "outputs": [],
   "source": [
    "# Inspect the data attributes of our objects\n",
    "print(\"C1.wealth = \",C1.wealth)\n",
    "print(\"C2.wealth = \",C2.wealth)"
   ]
  },
  {
   "cell_type": "markdown",
   "metadata": {
    "slideshow": {
     "slide_type": "subslide"
    }
   },
   "source": [
    "Now suppose both consumers purchase goods amounting to 5 units."
   ]
  },
  {
   "cell_type": "code",
   "execution_count": null,
   "metadata": {},
   "outputs": [],
   "source": [
    "C1.spend(5)\n",
    "C2.spend(5)\n",
    "print(\"C1.wealth = \",C1.wealth)\n",
    "print(\"C2.wealth = \",C2.wealth)"
   ]
  },
  {
   "cell_type": "markdown",
   "metadata": {
    "slideshow": {
     "slide_type": "subslide"
    }
   },
   "source": [
    "Then they decide that they have to do some work to replenish their wealth. The first consumer gets a low-paying job and earns 7 units. The second consumer is luckier and earns 15."
   ]
  },
  {
   "cell_type": "code",
   "execution_count": null,
   "metadata": {},
   "outputs": [],
   "source": [
    "C1.earn(7)\n",
    "C2.earn(15)\n",
    "print(\"C1.wealth = \",C1.wealth)\n",
    "print(\"C2.wealth = \",C2.wealth)"
   ]
  },
  {
   "cell_type": "markdown",
   "metadata": {
    "slideshow": {
     "slide_type": "subslide"
    }
   },
   "source": [
    "Feeling rich, our second consumer decides that some home repairs are in order and hires the first one to do the job. They agree to a payment of 9 units."
   ]
  },
  {
   "cell_type": "code",
   "execution_count": null,
   "metadata": {},
   "outputs": [],
   "source": [
    "TransactionValue = 9\n",
    "C1.earn(TransactionValue)\n",
    "C2.spend(TransactionValue)\n",
    "print(\"C1.wealth = \",C1.wealth)\n",
    "print(\"C2.wealth = \",C2.wealth)"
   ]
  },
  {
   "cell_type": "markdown",
   "metadata": {
    "slideshow": {
     "slide_type": "slide"
    }
   },
   "source": [
    "We can get even fancier than that. It is possible to create a list of elements of type `Consumer`:"
   ]
  },
  {
   "cell_type": "code",
   "execution_count": null,
   "metadata": {},
   "outputs": [],
   "source": [
    "Cons = [Consumer(w0) for w0 in range(11,21)]\n",
    "for i in range(len(Cons)):\n",
    "    print(f\"The wealth of consumer {i} is {Cons[i].wealth:.2f} units.\")"
   ]
  },
  {
   "cell_type": "markdown",
   "metadata": {
    "slideshow": {
     "slide_type": "subslide"
    }
   },
   "source": [
    "And our consumers are fortunate enough to receive a monetary transfer from the government:"
   ]
  },
  {
   "cell_type": "code",
   "execution_count": null,
   "metadata": {},
   "outputs": [],
   "source": [
    "GovTransfer = 5\n",
    "for cons in Cons:\n",
    "    cons.earn(GovTransfer)\n",
    "\n",
    "for i in range(len(Cons)):\n",
    "    print(f\"The wealth of consumer {i} is {Cons[i].wealth:.2f} units.\")"
   ]
  },
  {
   "cell_type": "markdown",
   "metadata": {
    "slideshow": {
     "slide_type": "slide"
    }
   },
   "source": [
    "# More information\n",
    "\n",
    "- The above barely scratches the surface of classes and OOP in Python.\n",
    "- You can get more details from the *Think Python* book or the [OOP](http://lectures.quantecon.org/py/python_oop.html) lecture on the Quantitative Economics website.\n",
    "- Hans Petter Langtangen's book *A Primer on Scientific Programming with Python* also contains good examples and explanations of classes and OOP.\n",
    "- Or you might get even more curious and read the Python [tutorial on classes](https://docs.python.org/3/tutorial/classes.html)."
   ]
  }
 ],
 "metadata": {
  "celltoolbar": "Slideshow",
  "kernelspec": {
   "display_name": "Python 3 (ipykernel)",
   "language": "python",
   "name": "python3"
  },
  "language_info": {
   "codemirror_mode": {
    "name": "ipython",
    "version": 3
   },
   "file_extension": ".py",
   "mimetype": "text/x-python",
   "name": "python",
   "nbconvert_exporter": "python",
   "pygments_lexer": "ipython3",
   "version": "3.12.3"
  }
 },
 "nbformat": 4,
 "nbformat_minor": 4
}
