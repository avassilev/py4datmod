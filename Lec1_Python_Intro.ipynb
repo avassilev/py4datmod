{
 "cells": [
  {
   "cell_type": "markdown",
   "metadata": {
    "slideshow": {
     "slide_type": "slide"
    }
   },
   "source": [
    "<center> \n",
    "# R406: Using Python for data analysis and modelling\n",
    "\n",
    "<br> <br> \n",
    "\n",
    "## Lecture 1: Introduction to Python and the Python ecosystem for scientific computing. Variables, expressions and statements.\n",
    "\n",
    "<br>\n",
    "\n",
    "<center> **Andrey Vassilev**\n",
    "\n",
    "<br> \n",
    "\n",
    "<center> **2016/2017**\n",
    " "
   ]
  },
  {
   "cell_type": "markdown",
   "metadata": {
    "slideshow": {
     "slide_type": "slide"
    }
   },
   "source": [
    "# Outline\n",
    "\n",
    "1. Housekeeping and ground rules\n",
    "2. What is Python and why should we care about it?\n",
    "3. The Python ecosystem for scientific computing\n",
    "4. A first look at Python\n",
    "5. Variables, expressions and oh my\n",
    "\n"
   ]
  },
  {
   "cell_type": "markdown",
   "metadata": {
    "slideshow": {
     "slide_type": "slide"
    }
   },
   "source": [
    "# Housekeeping and ground rules\n",
    "\n",
    "- What the course is about\n",
    "- Teacher intro"
   ]
  },
  {
   "cell_type": "markdown",
   "metadata": {
    "slideshow": {
     "slide_type": "subslide"
    }
   },
   "source": [
    "# Housekeeping and ground rules\n",
    "\n",
    "- What the course is about\n",
    "- Teacher intro\n",
    "- The audience - technical skills, computing experience"
   ]
  },
  {
   "cell_type": "markdown",
   "metadata": {
    "slideshow": {
     "slide_type": "subslide"
    }
   },
   "source": [
    "# Housekeeping and ground rules\n",
    "\n",
    "- What the course is about\n",
    "- Teacher intro\n",
    "- The audience - technical skills, computing experience\n",
    "  * How many have used an OS different from MS Windows?\n",
    "  * How many have written code before?\n",
    "  * Python specifically?"
   ]
  },
  {
   "cell_type": "markdown",
   "metadata": {
    "slideshow": {
     "slide_type": "subslide"
    }
   },
   "source": [
    "# Housekeeping and ground rules\n",
    "\n",
    "- What the course is about\n",
    "- Teacher intro\n",
    "- The audience - technical skills, computing experience\n",
    "  * How many have used an OS different from MS Windows?\n",
    "  * How many have written code before?\n",
    "  * Python specifically?\n",
    "- Technical requirements - Python install etc.\n",
    "- Grading"
   ]
  }
 ],
 "metadata": {
  "celltoolbar": "Slideshow",
  "kernelspec": {
   "display_name": "Python 3",
   "language": "python",
   "name": "python3"
  },
  "language_info": {
   "codemirror_mode": {
    "name": "ipython",
    "version": 3
   },
   "file_extension": ".py",
   "mimetype": "text/x-python",
   "name": "python",
   "nbconvert_exporter": "python",
   "pygments_lexer": "ipython3",
   "version": "3.5.2"
  }
 },
 "nbformat": 4,
 "nbformat_minor": 1
}
