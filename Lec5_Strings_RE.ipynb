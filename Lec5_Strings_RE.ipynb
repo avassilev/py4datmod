{
 "cells": [
  {
   "cell_type": "markdown",
   "metadata": {
    "slideshow": {
     "slide_type": "slide"
    }
   },
   "source": [
    "<center> \n",
    "# R406: Using Python for data analysis and modelling\n",
    "\n",
    "<br> <br> \n",
    "\n",
    "## Lecture 5: Strings and regular expressions\n",
    "\n",
    "<br>\n",
    "\n",
    "<center> **Andrey Vassilev**\n",
    "\n",
    "<br> \n",
    "\n",
    "<center> **2016/2017**\n",
    " "
   ]
  },
  {
   "cell_type": "markdown",
   "metadata": {
    "slideshow": {
     "slide_type": "slide"
    }
   },
   "source": [
    "# Outline\n",
    "\n",
    "1. Strings and string manipulation\n",
    "2. Regular expressions"
   ]
  },
  {
   "cell_type": "markdown",
   "metadata": {
    "slideshow": {
     "slide_type": "slide"
    }
   },
   "source": [
    "# A one-minute review of strings\n",
    "\n",
    "Strings in Python can be defined using single or double quotes:"
   ]
  },
  {
   "cell_type": "code",
   "execution_count": null,
   "metadata": {
    "collapsed": true
   },
   "outputs": [],
   "source": [
    "s1 = 'String One'\n",
    "s2 = \"string two\""
   ]
  },
  {
   "cell_type": "markdown",
   "metadata": {},
   "source": [
    "Multiline strings are defined as follows:"
   ]
  },
  {
   "cell_type": "code",
   "execution_count": null,
   "metadata": {
    "collapsed": true
   },
   "outputs": [],
   "source": [
    "s3 = '''Multi\n",
    "line\n",
    "string'''\n",
    "s4 = \"\"\"Multi\n",
    "line\n",
    "string\"\"\"\n",
    "s3 == s4 # The quotes chosen don't matter"
   ]
  },
  {
   "cell_type": "code",
   "execution_count": null,
   "metadata": {
    "collapsed": true
   },
   "outputs": [],
   "source": [
    "print(s3) # Note the way this string prints"
   ]
  },
  {
   "cell_type": "markdown",
   "metadata": {
    "slideshow": {
     "slide_type": "slide"
    }
   },
   "source": [
    "# A one-minute review of strings\n",
    "\n",
    "Strings can be indexed and sliced:"
   ]
  },
  {
   "cell_type": "code",
   "execution_count": null,
   "metadata": {
    "collapsed": true
   },
   "outputs": [],
   "source": [
    "print(s1[2])\n",
    "s1[0:6]"
   ]
  },
  {
   "cell_type": "markdown",
   "metadata": {},
   "source": [
    "We can iterate over a string:"
   ]
  },
  {
   "cell_type": "code",
   "execution_count": null,
   "metadata": {
    "collapsed": true
   },
   "outputs": [],
   "source": [
    "for l in s1:\n",
    "    print(l, end = \"  \")"
   ]
  },
  {
   "cell_type": "markdown",
   "metadata": {},
   "source": [
    "Strings are immutable: `s2[0]=3` will raise an error."
   ]
  },
  {
   "cell_type": "markdown",
   "metadata": {
    "slideshow": {
     "slide_type": "slide"
    }
   },
   "source": [
    "# Case manipulation\n",
    "\n",
    "The following are self-explanatory. Note that they return copies of the original string (unsurprisingly for an immutable object). Try them out!"
   ]
  },
  {
   "cell_type": "code",
   "execution_count": null,
   "metadata": {
    "collapsed": true
   },
   "outputs": [],
   "source": [
    "s1.upper() # Convert to uppercase"
   ]
  },
  {
   "cell_type": "code",
   "execution_count": null,
   "metadata": {
    "collapsed": true
   },
   "outputs": [],
   "source": [
    "s1.lower() # Convert to lowercase"
   ]
  },
  {
   "cell_type": "code",
   "execution_count": null,
   "metadata": {
    "collapsed": true
   },
   "outputs": [],
   "source": [
    "print(s2)\n",
    "print(s2.title()) # Convert to titlecase"
   ]
  },
  {
   "cell_type": "code",
   "execution_count": null,
   "metadata": {
    "collapsed": true
   },
   "outputs": [],
   "source": [
    "s2.capitalize() # Capitalize (make first letter capital)"
   ]
  },
  {
   "cell_type": "code",
   "execution_count": null,
   "metadata": {
    "collapsed": true
   },
   "outputs": [],
   "source": [
    "print(s1)\n",
    "print(s1.swapcase()) # Change the case"
   ]
  },
  {
   "cell_type": "markdown",
   "metadata": {
    "slideshow": {
     "slide_type": "slide"
    }
   },
   "source": [
    "# Adding and removing spaces\n",
    "\n",
    "&nbsp;\n",
    "\n",
    "## Removing whitespace\n",
    "\n",
    "Leading and trailing whitespace can be removed by using the `strip()` method."
   ]
  },
  {
   "cell_type": "code",
   "execution_count": null,
   "metadata": {
    "collapsed": true
   },
   "outputs": [],
   "source": [
    "s = \"    some text            \"\n",
    "s.strip()"
   ]
  },
  {
   "cell_type": "markdown",
   "metadata": {
    "slideshow": {
     "slide_type": "subslide"
    }
   },
   "source": [
    "Removing only leading or only trailing whitespace can be accomplished with `lstrip()` and `rstrip()`."
   ]
  },
  {
   "cell_type": "code",
   "execution_count": null,
   "metadata": {
    "collapsed": true
   },
   "outputs": [],
   "source": [
    "s.lstrip()"
   ]
  },
  {
   "cell_type": "code",
   "execution_count": null,
   "metadata": {
    "collapsed": true
   },
   "outputs": [],
   "source": [
    "s.rstrip()"
   ]
  },
  {
   "cell_type": "markdown",
   "metadata": {
    "slideshow": {
     "slide_type": "subslide"
    }
   },
   "source": [
    "The `strip()` method and its variations also accept as argument a specific character to be stripped."
   ]
  },
  {
   "cell_type": "code",
   "execution_count": null,
   "metadata": {
    "collapsed": true
   },
   "outputs": [],
   "source": [
    "s = \"++++++pure text+++++\"\n",
    "s.strip(\"+\")"
   ]
  },
  {
   "cell_type": "code",
   "execution_count": null,
   "metadata": {
    "collapsed": true
   },
   "outputs": [],
   "source": [
    "s.rstrip(\"+\")"
   ]
  },
  {
   "cell_type": "markdown",
   "metadata": {
    "slideshow": {
     "slide_type": "slide"
    }
   },
   "source": [
    "## Adding space\n",
    "\n",
    "These operations serve primarily a formatting purpose. For example, the `center()` function inserts additional whitespace to center a string, producing an appropriately padded (longer) string."
   ]
  },
  {
   "cell_type": "code",
   "execution_count": null,
   "metadata": {
    "collapsed": true
   },
   "outputs": [],
   "source": [
    "s = \"small piece of text\"\n",
    "s.center(30) # The argument is the overall length \n",
    "             # of the resulting string"
   ]
  },
  {
   "cell_type": "markdown",
   "metadata": {},
   "source": [
    "We can also specify the padding character:"
   ]
  },
  {
   "cell_type": "code",
   "execution_count": null,
   "metadata": {
    "collapsed": true
   },
   "outputs": [],
   "source": [
    "s.center(30,\"^\")"
   ]
  },
  {
   "cell_type": "markdown",
   "metadata": {
    "slideshow": {
     "slide_type": "subslide"
    }
   },
   "source": [
    "The `ljust()` and `rjust()` methods perform the respective justifications by means of appropriate one-sided padding. They work similarly to `center()`."
   ]
  },
  {
   "cell_type": "code",
   "execution_count": null,
   "metadata": {
    "collapsed": true
   },
   "outputs": [],
   "source": [
    "s.ljust(40)"
   ]
  },
  {
   "cell_type": "code",
   "execution_count": null,
   "metadata": {
    "collapsed": true
   },
   "outputs": [],
   "source": [
    "# You can also specify the string directly\n",
    "# instead of defining a variable\n",
    "\"Python is sooo cool\".rjust(25,\"☯\")"
   ]
  },
  {
   "cell_type": "markdown",
   "metadata": {
    "slideshow": {
     "slide_type": "subslide"
    }
   },
   "source": [
    "There is also a special zero-fill method `zfill()` which pads with zeros from the left (i.e. it right-justifies text):"
   ]
  },
  {
   "cell_type": "code",
   "execution_count": null,
   "metadata": {
    "collapsed": true
   },
   "outputs": [],
   "source": [
    "x = 777\n",
    "str(x).zfill(10)"
   ]
  },
  {
   "cell_type": "markdown",
   "metadata": {
    "slideshow": {
     "slide_type": "slide"
    }
   },
   "source": [
    "# Finding and replacing text\n",
    "\n",
    "&nbsp;\n",
    "\n",
    "## Finding text\n",
    "\n",
    "We can find the first occurrence of a substring by using the methods `find()` and `index()`. The search is performed from the left. Both methods return the position where the substring is found."
   ]
  },
  {
   "cell_type": "code",
   "execution_count": null,
   "metadata": {
    "collapsed": true
   },
   "outputs": [],
   "source": [
    "s = \"A yellow python is prettier than a black python.\"\n",
    "s.find(\"python\")"
   ]
  },
  {
   "cell_type": "code",
   "execution_count": null,
   "metadata": {
    "collapsed": true
   },
   "outputs": [],
   "source": [
    "s.index(\"python\")"
   ]
  },
  {
   "cell_type": "markdown",
   "metadata": {
    "slideshow": {
     "slide_type": "subslide"
    }
   },
   "source": [
    "The difference between the two methods is how they handle the case when the substring is not found: `find()` returns -1, while `index()` throws ~~a tantrum~~ an error."
   ]
  },
  {
   "cell_type": "code",
   "execution_count": null,
   "metadata": {
    "collapsed": true
   },
   "outputs": [],
   "source": [
    "s.find(\"anaconda\")"
   ]
  },
  {
   "cell_type": "code",
   "execution_count": null,
   "metadata": {
    "collapsed": true
   },
   "outputs": [],
   "source": [
    "s.index(\"anaconda\")"
   ]
  },
  {
   "cell_type": "markdown",
   "metadata": {
    "slideshow": {
     "slide_type": "subslide"
    }
   },
   "source": [
    "Finding a string by performing the search **from the end** can be done with the methods `rfind()` and `rindex()`."
   ]
  },
  {
   "cell_type": "code",
   "execution_count": null,
   "metadata": {
    "collapsed": true
   },
   "outputs": [],
   "source": [
    "s.rfind(\"python\")"
   ]
  },
  {
   "cell_type": "markdown",
   "metadata": {
    "slideshow": {
     "slide_type": "subslide"
    }
   },
   "source": [
    "The `find()` and `index()` methods can optionally take a second and third argument specifying a starting position and an end position in the string which will confine the search to the respective range."
   ]
  },
  {
   "cell_type": "code",
   "execution_count": null,
   "metadata": {
    "collapsed": true
   },
   "outputs": [],
   "source": [
    "s.find(\"python\", 15)"
   ]
  },
  {
   "cell_type": "code",
   "execution_count": null,
   "metadata": {
    "collapsed": true
   },
   "outputs": [],
   "source": [
    "s.find(\"python\", 15, 30)"
   ]
  },
  {
   "cell_type": "markdown",
   "metadata": {
    "slideshow": {
     "slide_type": "subslide"
    }
   },
   "source": [
    "There are also methods that check whether a string begins or ends with a specific substring. These are called `startswith()` and `endswith()`, respectively. They return Boolean values."
   ]
  },
  {
   "cell_type": "code",
   "execution_count": null,
   "metadata": {
    "collapsed": true
   },
   "outputs": [],
   "source": [
    "s.startswith(\"A blue\")"
   ]
  },
  {
   "cell_type": "code",
   "execution_count": null,
   "metadata": {
    "collapsed": true
   },
   "outputs": [],
   "source": [
    "s.endswith(\"python.\")"
   ]
  },
  {
   "cell_type": "markdown",
   "metadata": {
    "slideshow": {
     "slide_type": "slide"
    }
   },
   "source": [
    "## Replacing text\n",
    "\n",
    "**Once again, these operations do not modify the original string but return a new string containing the changes!**\n",
    "\n",
    "We can replace a substring with another one using the `replace()` method. The syntax is ```s.replace(\"old\", \"new\")\n",
    "```"
   ]
  },
  {
   "cell_type": "code",
   "execution_count": null,
   "metadata": {
    "collapsed": true
   },
   "outputs": [],
   "source": [
    "s.replace(\"python\", \"anaconda\")"
   ]
  },
  {
   "cell_type": "markdown",
   "metadata": {
    "slideshow": {
     "slide_type": "slide"
    }
   },
   "source": [
    "# Splitting strings\n",
    "\n",
    "One can break a string into substrings using different methods.\n",
    "\n",
    "The `partition()` method finds the first occurrence of a target substring and returns a tuple in the following manner:"
   ]
  },
  {
   "cell_type": "code",
   "execution_count": null,
   "metadata": {
    "collapsed": true
   },
   "outputs": [],
   "source": [
    "s.partition(\"python\")"
   ]
  },
  {
   "cell_type": "markdown",
   "metadata": {},
   "source": [
    "There is also a `rpartition()`method which performs the same operation from the end:"
   ]
  },
  {
   "cell_type": "code",
   "execution_count": null,
   "metadata": {
    "collapsed": true
   },
   "outputs": [],
   "source": [
    "s.rpartition(\"python\")"
   ]
  },
  {
   "cell_type": "markdown",
   "metadata": {
    "slideshow": {
     "slide_type": "subslide"
    }
   },
   "source": [
    "The `split()` method splits a string on whitespace symbols or on a specially provided character and returns a list of the resulting substrings. Note that the splitting symbol is not included in the result."
   ]
  },
  {
   "cell_type": "code",
   "execution_count": null,
   "metadata": {
    "collapsed": true
   },
   "outputs": [],
   "source": [
    "s.split()"
   ]
  },
  {
   "cell_type": "code",
   "execution_count": null,
   "metadata": {
    "collapsed": true
   },
   "outputs": [],
   "source": [
    "s.split(\"y\")"
   ]
  },
  {
   "cell_type": "markdown",
   "metadata": {
    "slideshow": {
     "slide_type": "subslide"
    }
   },
   "source": [
    "A multiline string can be split into the constituent lines using the method `splitlines()`. It splits on the newline character."
   ]
  },
  {
   "cell_type": "code",
   "execution_count": null,
   "metadata": {
    "collapsed": true
   },
   "outputs": [],
   "source": [
    "Zen = \"\"\"In the face of ambiguity, refuse the temptation to guess.\n",
    "There should be one-- and preferably only one --obvious way to do it.\n",
    "Although that way may not be obvious at first unless you're Dutch.\"\"\"\n",
    "\n",
    "Zen.splitlines() # Try passing True as an argument\n",
    "                 # to include newline characters in the result"
   ]
  },
  {
   "cell_type": "markdown",
   "metadata": {
    "slideshow": {
     "slide_type": "slide"
    }
   },
   "source": [
    "# Joining strings\n",
    "\n",
    "Strings are joined using the `join()` method. The method takes an iterable of strings and concatenates them using a concatenating string:"
   ]
  },
  {
   "cell_type": "code",
   "execution_count": null,
   "metadata": {
    "collapsed": true
   },
   "outputs": [],
   "source": [
    "concatstring = \" \"\n",
    "iterstring = (\"A\",\"fine\",\"day\")\n",
    "# concatstring = \" - ahem - \"\n",
    "concatstring.join(iterstring)"
   ]
  },
  {
   "cell_type": "markdown",
   "metadata": {
    "slideshow": {
     "slide_type": "subslide"
    }
   },
   "source": [
    "The `join()` method can be used to produce a multiline string from an iterable of strings. This is done using the newline character \"\\n\" as the concatenating string.\n",
    "\n",
    "**Note:** See [here](https://docs.python.org/3/library/stdtypes.html#str.splitlines) for a table of line boundary characters."
   ]
  },
  {
   "cell_type": "code",
   "execution_count": null,
   "metadata": {
    "collapsed": true
   },
   "outputs": [],
   "source": [
    "lines = [\"Gaudeamus igitur.\", \n",
    "         \"Iuvenes dum sumus.\",\n",
    "         \"Post iucundam iuventutem.\", \n",
    "         \"Post molestam senectutem.\"]\n",
    "result = \"\\n\".join(lines)\n",
    "result"
   ]
  },
  {
   "cell_type": "markdown",
   "metadata": {
    "slideshow": {
     "slide_type": "slide"
    }
   },
   "source": [
    "# Miscellaneous string methods\n",
    "\n",
    "\n",
    "The `count()` method counts the number of occurrences of a substring in a given string. "
   ]
  },
  {
   "cell_type": "code",
   "execution_count": null,
   "metadata": {
    "collapsed": true
   },
   "outputs": [],
   "source": [
    "RB = \"\"\"Gin a body meet a body\n",
    "Comin thro' the rye,\n",
    "Gin a body kiss a body,\n",
    "Need a body cry?\"\"\"\n",
    "\n",
    "RB.count(\"body\")"
   ]
  },
  {
   "cell_type": "markdown",
   "metadata": {},
   "source": [
    "It also has an extended syntax giving starting and ending positions for the search, similar to `find()` and `index()`:"
   ]
  },
  {
   "cell_type": "code",
   "execution_count": null,
   "metadata": {
    "collapsed": true
   },
   "outputs": [],
   "source": [
    "RB.count(\"body\",23,67)"
   ]
  },
  {
   "cell_type": "markdown",
   "metadata": {
    "slideshow": {
     "slide_type": "subslide"
    }
   },
   "source": [
    "The `in` operator checks whether one string is part of another:"
   ]
  },
  {
   "cell_type": "code",
   "execution_count": null,
   "metadata": {
    "collapsed": true
   },
   "outputs": [],
   "source": [
    "\"body\" in RB"
   ]
  },
  {
   "cell_type": "code",
   "execution_count": null,
   "metadata": {
    "collapsed": true
   },
   "outputs": [],
   "source": [
    "\"somebody\" in RB"
   ]
  },
  {
   "cell_type": "markdown",
   "metadata": {
    "slideshow": {
     "slide_type": "subslide"
    }
   },
   "source": [
    "There is a variety of methods that perform different checks on strings and return Boolean values.  \n",
    "\n",
    "For instance the `isalnum()` method checks whether a string consists of letters and numbers only."
   ]
  },
  {
   "cell_type": "code",
   "execution_count": null,
   "metadata": {
    "collapsed": true
   },
   "outputs": [],
   "source": [
    "print(\"abc\".isalnum())\n",
    "print(\"123\".isalnum())\n",
    "print(\"a1B3\".isalnum())\n",
    "print(\"\".isalnum()) # empty string is not\n",
    "print(\"ab1@\".isalnum())\n",
    "print(\"45.2\".isalnum())"
   ]
  },
  {
   "cell_type": "markdown",
   "metadata": {
    "slideshow": {
     "slide_type": "subslide"
    }
   },
   "source": [
    "The `isdigit()` method checks whether the string consists of digits only. "
   ]
  },
  {
   "cell_type": "code",
   "execution_count": null,
   "metadata": {
    "collapsed": true
   },
   "outputs": [],
   "source": [
    "print(\"123\".isdigit())\n",
    "print(\"abc\".isdigit())\n",
    "print(\"123.5\".isdigit())\n",
    "print(\"000556\".isdigit())\n",
    "print(\"VI\".isdigit())"
   ]
  },
  {
   "cell_type": "markdown",
   "metadata": {
    "slideshow": {
     "slide_type": "subslide"
    }
   },
   "source": [
    "The list of methods goes on. Check out [this part](https://docs.python.org/3/library/stdtypes.html#string-methods) of the Python documentation for more info."
   ]
  },
  {
   "cell_type": "markdown",
   "metadata": {
    "slideshow": {
     "slide_type": "slide"
    }
   },
   "source": [
    "# Regular expressions\n",
    "\n",
    "- Regular expressions are a way to describe a pattern we want to discover in a string.\n",
    "- A rudimentary form of a regular expression can be seen in a command line instruction such as **```dir *.ipynb\n",
    "``` **, which requires the operating system to list all `ipynb` files in a given location.\n",
    "- Regular expressions can be thought of as a mechanism to greatly enrich the simple string search and manipulation methods we saw earlier.\n",
    "- Access to regular expression functionality in Python is gained via the `re` module."
   ]
  },
  {
   "cell_type": "markdown",
   "metadata": {
    "slideshow": {
     "slide_type": "slide"
    }
   },
   "source": [
    "# Basics of regular expressions\n",
    "\n",
    "In very general terms, working with REs can be outlined as follows:\n",
    "1. Describe the pattern of interest, using special conventions.\n",
    "  - A pattern can be something like:  \n",
    "    *Find the sequence \"ID\" or \"id\", followed by the symbols \"#\" or \"№\", followed by exactly 9 digits.*\n",
    "2. Apply an operation to a string using the constructed pattern.\n",
    "  - An operation can be something like finding the pattern in the string, counting instances of the pattern or replacing it with something."
   ]
  },
  {
   "cell_type": "markdown",
   "metadata": {
    "slideshow": {
     "slide_type": "subslide"
    }
   },
   "source": [
    "**A disclaimer and a few pointers:**  \n",
    "- Regular expressions are a huge topic with many intricacies. \n",
    "- Here we'll only try to get the big picture and work out a few basic things to get us started.\n",
    "- To get deeper into the topic, try the [documentation](https://docs.python.org/3/library/re.html) for the `re` module, the [HOWTO](https://docs.python.org/3.5/howto/regex.html) (in essence an introductory tutorial) on regular expressions or the numerous resources on the WWW.\n",
    "- In particular, the book *Mastering Regular Expressions* by Jeffrey Friedl is often cited as an authoritative reference on the subject. However, recent editions do not cover Python."
   ]
  },
  {
   "cell_type": "markdown",
   "metadata": {
    "slideshow": {
     "slide_type": "slide"
    }
   },
   "source": [
    "# Implementing regular expressions in Python\n",
    "\n",
    "0. Import the `re` module.\n",
    "1. Construct the RE as a string using the special conventions. \n",
    "2. Compile the RE string to a pattern object\n",
    "3. Use the pattern object to apply different operations (methods) to other strings.\n",
    "  - These \"other\" strings will be the ones containing the actual information we are processing, e.g. lines read from a file.\n",
    "  - The operations can be chained (= applied in succession)."
   ]
  },
  {
   "cell_type": "markdown",
   "metadata": {
    "slideshow": {
     "slide_type": "slide"
    }
   },
   "source": [
    "# Pattern construction rules\n",
    "\n",
    "First things first:"
   ]
  },
  {
   "cell_type": "code",
   "execution_count": null,
   "metadata": {
    "collapsed": true
   },
   "outputs": [],
   "source": [
    "%reset\n",
    "import re"
   ]
  },
  {
   "cell_type": "markdown",
   "metadata": {},
   "source": [
    "- Some people call these rules a \"mini-language\". This is an indication that they can be hard to decipher when combined. \n",
    "- We'll cover only a few basic ones to get the main ideas."
   ]
  },
  {
   "cell_type": "markdown",
   "metadata": {
    "slideshow": {
     "slide_type": "subslide"
    }
   },
   "source": [
    "- A string can be matched literally, e.g. find the word \"happy\" in another string.\n",
    "- This is simple and can obviously be accomplished more economically by the methods covered previously.\n",
    "- We'll use it to illustrate the creation of the pattern object, the match object and the use of some of the methods."
   ]
  },
  {
   "cell_type": "code",
   "execution_count": null,
   "metadata": {
    "collapsed": true,
    "slideshow": {
     "slide_type": "subslide"
    }
   },
   "outputs": [],
   "source": [
    "text = \"The Ring, which Gollum referred to as 'my precious' or 'precious', extended his life far beyond natural limits.\"\n",
    "p = re.compile(\"precious\") # p is a pattern object\n",
    "m = p.search(text) # m is a match object\n",
    "x,y = m.start(),m.end() # starting and ending positions \n",
    "                        # of first match\n",
    "print(text[x:]) \n",
    "print(text[y:])\n",
    "l = p.findall(text) # find all matches and return them in a list\n",
    "# The result is trivial in this case\n",
    "l"
   ]
  },
  {
   "cell_type": "markdown",
   "metadata": {
    "slideshow": {
     "slide_type": "subslide"
    }
   },
   "source": [
    "If no match is found the match object will be `None`. Typically we check for this situation explicitly. For example, the method `match()` will check if the pattern matches at the beginning of the string (unlike `search()`, which works through the string). It won't find anything in the previous example."
   ]
  },
  {
   "cell_type": "code",
   "execution_count": null,
   "metadata": {
    "collapsed": true
   },
   "outputs": [],
   "source": [
    "m = p.match(text)\n",
    "if m:\n",
    "    print(m)\n",
    "else:\n",
    "    print(\"No match!\")"
   ]
  },
  {
   "cell_type": "markdown",
   "metadata": {
    "slideshow": {
     "slide_type": "slide"
    }
   },
   "source": [
    "We can also perform more complex matches using special notation.\n",
    "- The `[]` construct is used to define a character class, i.e. a group of characters we want to match. For example, `[abc]` matches `a`, `b` or `c`.\n",
    "- The character `^` in the beginning of a character class means negation. Thus, `[^abc]` matches anything except `a`, `b` or `c`."
   ]
  },
  {
   "cell_type": "code",
   "execution_count": null,
   "metadata": {
    "collapsed": true,
    "slideshow": {
     "slide_type": "subslide"
    }
   },
   "outputs": [],
   "source": [
    "text = \"A bee can see a zee from afar\"\n",
    "p = re.compile(\"[bs]ee\")\n",
    "# p = re.compile(\"[^bs]ee\")\n",
    "itr = p.finditer(text) # Produces an iterable object\n",
    "for e in itr:\n",
    "    print(\"The word '%s' can be found at position %d.\"%(e.group(), e.start()))"
   ]
  },
  {
   "cell_type": "markdown",
   "metadata": {
    "slideshow": {
     "slide_type": "subslide"
    }
   },
   "source": [
    "- `.`  In the default mode, this matches any character except a newline.\n",
    "- `?`  Causes the resulting RE to match 0 or 1 repetitions of the preceding RE. `ab?` will match either 'a' or 'ab'.\n",
    "- `*`  Causes the resulting RE to match 0 or more repetitions of the preceding RE, as many repetitions as are possible. `ab*` will match 'a', 'ab', or 'a' followed by any number of 'b's.\n",
    "- `+`  Causes the resulting RE to match 1 or more repetitions of the preceding RE. `ab+` will match 'a' followed by any non-zero number of 'b's; it will not match just 'a'."
   ]
  },
  {
   "cell_type": "markdown",
   "metadata": {
    "slideshow": {
     "slide_type": "subslide"
    }
   },
   "source": [
    "- Grouping can be done using `()` to enforce a different scope of an operator and capture the result.\n",
    "- The `|` symbol has the meaning of \"or\"."
   ]
  },
  {
   "cell_type": "code",
   "execution_count": null,
   "metadata": {
    "collapsed": true,
    "slideshow": {
     "slide_type": "subslide"
    }
   },
   "outputs": [],
   "source": [
    "text = \"\"\"112 blue bottles hanging on the wall,\n",
    "10 green bottles hanging on the wall,\n",
    "9 red bottles hanging on the wall,\n",
    "1 green bottle hanging on the wall.\"\"\"\n",
    "p = re.compile(\"([0-9]+ (?:blue|green) bottle[s]?)\")\n",
    "# Here (?:blue|green) is a non-capturing group\n",
    "# The simpler (blue|green) will capture these matches separately\n",
    "\n",
    "# Try also:\n",
    "# p = re.compile(\"[0-9]+.*bottle[s]?\")\n",
    "L = p.findall(text)\n",
    "L"
   ]
  },
  {
   "cell_type": "markdown",
   "metadata": {
    "slideshow": {
     "slide_type": "subslide"
    }
   },
   "source": [
    "- `\\d` Matches any decimal digit; this is equivalent to the class `[0-9]`.\n",
    "- `\\D` Matches any non-digit character; this is equivalent to the class `[^0-9]`.\n",
    "- `\\s` Matches any whitespace character; this is equivalent to the class `[ \\t\\n\\r\\f\\v]`.\n",
    "- `\\S` Matches any non-whitespace character; this is equivalent to the class `[^ \\t\\n\\r\\f\\v]`."
   ]
  },
  {
   "cell_type": "markdown",
   "metadata": {
    "slideshow": {
     "slide_type": "subslide"
    }
   },
   "source": [
    "- `\\w` Matches any alphanumeric character; this is equivalent to the class `[a-zA-Z0-9_]`.\n",
    "- `\\W` Matches any non-alphanumeric character; this is equivalent to the class `[^a-zA-Z0-9_]`.\n",
    "\n",
    "These sequences can be included inside a character class.\n",
    "\n",
    "Because of specificities of the parsing of REs related to the use of the backslash `\\`, it is recommended to use the so-called *raw strings* to describe the pattern. Here is the difference:"
   ]
  },
  {
   "cell_type": "code",
   "execution_count": null,
   "metadata": {
    "collapsed": true
   },
   "outputs": [],
   "source": [
    "print(\"this is a regular \\n string\")\n",
    "print(r\"this is a raw \\n string\")"
   ]
  },
  {
   "cell_type": "markdown",
   "metadata": {
    "slideshow": {
     "slide_type": "subslide"
    }
   },
   "source": [
    "- `{m}` Specifies that exactly `m` copies of the previous RE should be matched; fewer matches cause the entire RE not to match. For example, `a{6}` will match exactly six 'a' characters, but not five.\n",
    "- `{m,n}` Causes the resulting RE to match from `m` to `n` repetitions of the preceding RE, attempting to match as many repetitions as possible. For example, `a{3,5}` will match from 3 to 5 'a' characters. Omitting `m` specifies a lower bound of zero, and omitting `n` specifies an infinite upper bound. As an example, `a{4,}b` will match 'aaaab' or a thousand 'a' characters followed by 'b', but not 'aaab'."
   ]
  },
  {
   "cell_type": "markdown",
   "metadata": {
    "slideshow": {
     "slide_type": "slide"
    }
   },
   "source": [
    "# Example: extracting Sofia car licence plates\n",
    "\n",
    "- We have a piece of text containing multiple identifiers (car licence plate numbers, dates, ID numbers).\n",
    "- We are interested in extracting the licence plate numbers for cars registered in Sofia.\n",
    "- We know that Sofia plate numbers can take three possible forms: `CooooXX`, `CAooooXX` and `CBooooXX`, where `o` stands for a digit and `X` stands for an uppercase letter.\n",
    "- (Please don't rush in with counterexamples of other possible forms of Sofia car plates ☺)"
   ]
  },
  {
   "cell_type": "code",
   "execution_count": null,
   "metadata": {
    "collapsed": true,
    "slideshow": {
     "slide_type": "slide"
    }
   },
   "outputs": [],
   "source": [
    "plates = \"\"\"A police officer with badge number PO31254 wrote \n",
    "speeding tickets for vehicles with licence plates \n",
    "CA6542HP, 234GH856, C1234AA and B4455TK. Another officer, \n",
    "holding badge numbered CA98765 and born on 11.11.1970, \n",
    "wrote tickets for vehicles CO7391KK, CA3571ET, T1213MA and CB6534EH.\"\"\"\n",
    "p = re.compile(r\"C[AB]?\\d{4}[A-Z]{2}\")\n",
    "L = p.findall(plates)\n",
    "L"
   ]
  }
 ],
 "metadata": {
  "celltoolbar": "Slideshow",
  "kernelspec": {
   "display_name": "Python 3",
   "language": "python",
   "name": "python3"
  },
  "language_info": {
   "codemirror_mode": {
    "name": "ipython",
    "version": 3
   },
   "file_extension": ".py",
   "mimetype": "text/x-python",
   "name": "python",
   "nbconvert_exporter": "python",
   "pygments_lexer": "ipython3",
   "version": "3.5.2"
  }
 },
 "nbformat": 4,
 "nbformat_minor": 1
}
