{
 "cells": [
  {
   "cell_type": "markdown",
   "metadata": {
    "slideshow": {
     "slide_type": "slide"
    }
   },
   "source": [
    "<center>\n",
    "    \n",
    "# R406: Applied Economic Modelling with Python\n",
    "\n",
    "</center>\n",
    "\n",
    "<br> <br> \n",
    "\n",
    "<center>\n",
    "\n",
    "## Introduction to Python and the Python ecosystem for scientific computing. Variables, expressions and statements.\n",
    "\n",
    "</center>\n",
    "\n",
    "<br><br> \n",
    "\n",
    "<center>\n",
    "<b> Andrey Vassilev </b>\n",
    "</center>\n",
    "\n"
   ]
  },
  {
   "cell_type": "markdown",
   "metadata": {
    "slideshow": {
     "slide_type": "slide"
    }
   },
   "source": [
    "# Outline\n",
    "\n",
    "1. Housekeeping and ground rules\n",
    "2. What is Python and why should we care about it?\n",
    "3. The Python ecosystem for scientific computing\n",
    "4. A first look at Python\n",
    "5. Variables, expressions and other animals"
   ]
  },
  {
   "cell_type": "markdown",
   "metadata": {
    "slideshow": {
     "slide_type": "slide"
    }
   },
   "source": [
    "# Housekeeping and ground rules\n",
    "\n",
    "- What the course is about\n",
    "- Teacher intro"
   ]
  },
  {
   "cell_type": "markdown",
   "metadata": {
    "slideshow": {
     "slide_type": "subslide"
    }
   },
   "source": [
    "# Housekeeping and ground rules\n",
    "\n",
    "- What the course is about\n",
    "- Teacher intro\n",
    "- The audience - technical skills, computing experience"
   ]
  },
  {
   "cell_type": "markdown",
   "metadata": {
    "slideshow": {
     "slide_type": "subslide"
    }
   },
   "source": [
    "# Housekeeping and ground rules\n",
    "\n",
    "- What the course is about\n",
    "- Teacher intro\n",
    "- The audience - technical skills, computing experience\n",
    "  * How many have used an OS different from MS Windows?\n",
    "  * How many have written code before?\n",
    "  * Python specifically?"
   ]
  },
  {
   "cell_type": "markdown",
   "metadata": {
    "slideshow": {
     "slide_type": "subslide"
    }
   },
   "source": [
    "# Housekeeping and ground rules\n",
    "\n",
    "- What the course is about\n",
    "- Teacher intro\n",
    "- The audience - technical skills, computing experience\n",
    "  * How many have used an OS different from MS Windows?\n",
    "  * How many have written code before?\n",
    "  * Python specifically?\n",
    "- Technical requirements - Python install etc.\n",
    "- Grading"
   ]
  },
  {
   "cell_type": "markdown",
   "metadata": {
    "slideshow": {
     "slide_type": "slide"
    }
   },
   "source": [
    "# Getting ready to take off\n",
    "\n",
    "- In the current version of the course we'll be using Python 3.8 or 3.9. The easiest way to get most of the things needed is by using a scientific Python distribution such as Anaconda or WinPython (under MS Windows, if you have limited user privileges on your machine). If you are using Mac OS or Linux, Anaconda is your best bet.\n",
    "- To install Anaconda, go to https://www.anaconda.com/products/individual, then download the appropriate installer and proceed as usual.\n",
    "- To \"install\" WinPython, go to http://winpython.github.io/ and follow either the Sourceforge or Github links, then download the respective *.exe* file. There are minimal and full versions, go with the full one (largest file)."
   ]
  },
  {
   "cell_type": "markdown",
   "metadata": {
    "slideshow": {
     "slide_type": "slide"
    }
   },
   "source": [
    "# Getting ready to take off\n",
    "\n",
    "- Most of the materials for the AEMP course come in the form of Jupyter Notebooks — a special type of interactive document that mixes executable code, richly-formatted text and visualizations.\n",
    "- To get the most out of the course, it is recommended to have a copy of the current notebook open locally and experiment with the different assignments as we progress.\n",
    "- The notebooks and supplementary files are available at https://github.com/avassilev/py4datmod. Download as *raw* files if you do it directly from Github.\n",
    "- We can agree on additional modes of transmission for the course materials, if necessary."
   ]
  },
  {
   "cell_type": "markdown",
   "metadata": {
    "slideshow": {
     "slide_type": "slide"
    }
   },
   "source": [
    "# Getting ready to take off\n",
    "\n",
    "Supplementary readings that go into more detail:\n",
    "- [A Whirlwind Tour of Python](https://jakevdp.github.io/WhirlwindTourOfPython/) by Jake VanderPlas\n",
    "- [Think Python 2e](https://greenteapress.com/wp/think-python-2e/) by Allen Downey\n",
    "- [Python Data Science Handbook](https://github.com/jakevdp/PythonDataScienceHandbook) by Jake VanderPlas"
   ]
  },
  {
   "cell_type": "markdown",
   "metadata": {
    "slideshow": {
     "slide_type": "slide"
    }
   },
   "source": [
    "# Using Anaconda\n",
    "\n",
    "- Starting Jupyter:\n",
    "  - (Windows) Go to the Start menu, find Anaconda and run Jupyter Notebook from the submenu\n",
    "  - (Linux) Open a terminal and enter the command `jupyter notebook`\n",
    "- Your browser will open and a Jupyter tab will be visible\n",
    "- Browse to the location of your .ipynb files and click the one you will be using"
   ]
  },
  {
   "cell_type": "markdown",
   "metadata": {
    "slideshow": {
     "slide_type": "slide"
    }
   },
   "source": [
    "# Using WinPython\n",
    "\n",
    "- Go to your WinPython folder\n",
    "- You will see a subfolder named _notebooks_\n",
    "- Copy the respective .ipynb file to the subfolder\n",
    "- Find `Jupyter Notebook.exe` in the main WinPython folder and start it\n",
    "- Your browser will open and a Jupyter tab will be visible\n",
    "- In the Jupyter tab, find the name of the file you copied to the _notebooks_ folder and click it"
   ]
  },
  {
   "cell_type": "markdown",
   "metadata": {
    "slideshow": {
     "slide_type": "slide"
    }
   },
   "source": [
    "# A hint on seeing the notebooks as regular slides\n",
    "\n",
    "- The notebooks can be rendered like slides using **RISE**, a Reveal.js - Jupyter/IPython Slideshow Extension\n",
    "- Check out https://rise.readthedocs.io for more info and specifically https://rise.readthedocs.io/en/stable/installation.html for installation instructions. (These are relevant if you are using Anaconda. Recent WinPython versions come with RISE preinstalled.)\n",
    "- You should now be able to use `Alt+r` to enter and exit presentation mode"
   ]
  },
  {
   "cell_type": "markdown",
   "metadata": {
    "slideshow": {
     "slide_type": "slide"
    }
   },
   "source": [
    "# What is Python and why should we care about it?\n",
    "\n",
    "A selection of quotes from the gurus Thomas Sargent and John Stachurski:\n",
    "\n",
    "> Python is a general purpose programming language conceived in 1989 by Dutch programmer Guido van Rossum\n",
    "\n",
    "> Python is free and open source\n",
    "\n",
    "> Python is supported by a vast collection of standard and external software libraries\n",
    "\n"
   ]
  },
  {
   "cell_type": "markdown",
   "metadata": {
    "slideshow": {
     "slide_type": "subslide"
    }
   },
   "source": [
    "# What is Python and why should we care about it?\n",
    "\n",
    "A selection of quotes from the gurus Thomas Sargent and John Stachurski:\n",
    "\n",
    "> Python has experienced rapid adoption in the last decade, and is now one of the most popular programming languages\n",
    "\n",
    "> Interpreted rather than compiled\n",
    "\n",
    "> Over the last decade, Python has become one of the core languages of scientific computing"
   ]
  },
  {
   "cell_type": "markdown",
   "metadata": {
    "slideshow": {
     "slide_type": "slide"
    }
   },
   "source": [
    "# The Python ecosystem for scientific computing\n",
    "\n",
    "Python comes with an excellent set of facilities for scientific computing, modelling and data analysis:\n",
    "\n",
    "- Matrix and array processing capabilities\n",
    "- User-friendly and efficient numerical routines such as routines for numerical integration, optimization, distributions and random number generation\n",
    "- High-end graphical capabilities\n",
    "  - Matplotlib\n",
    "  - Bokeh\n",
    "  - plotnine (ggplot2 clone)\n",
    "  - Altair"
   ]
  },
  {
   "cell_type": "markdown",
   "metadata": {
    "slideshow": {
     "slide_type": "subslide"
    }
   },
   "source": [
    "# The Python ecosystem for scientific computing\n",
    "\n",
    "Python comes with an excellent set of facilities for scientific computing, modelling and data analysis:\n",
    "\n",
    "- Symbolic algebra\n",
    "- Data processing\n",
    "- Statistics and machine learning\n",
    "- Parallel computing\n",
    "- Facilities for interactive exploratory analysis and reproducible research"
   ]
  },
  {
   "cell_type": "markdown",
   "metadata": {
    "slideshow": {
     "slide_type": "slide"
    }
   },
   "source": [
    "# A first look at Python\n",
    "\n",
    "There are various ways to interact with Python:\n",
    "- Directly through the interpreter\n",
    "  - This is possible but a rather bare-bones experience\n"
   ]
  },
  {
   "cell_type": "markdown",
   "metadata": {
    "slideshow": {
     "slide_type": "slide"
    }
   },
   "source": [
    "# A first look at Python\n",
    "\n",
    "There are various ways to interact with Python:\n",
    "- Using an Integrated Development Environment (IDE)\n",
    "  - Anaconda and Winpython come with Spyder (we'll use it occasionally)\n",
    "  - Other choices exist (Atom, PyCharm, Visual Studio Code)\n"
   ]
  },
  {
   "cell_type": "markdown",
   "metadata": {
    "slideshow": {
     "slide_type": "slide"
    }
   },
   "source": [
    "# A first look at Python\n",
    "\n",
    "There are various ways to interact with Python:\n",
    "- Using the Jupyter Notebook with the IPython kernel\n",
    " - Works in the browser\n",
    " - Supports graphical output, LaTeX code and interactive widgets\n",
    " - Permits the combination of executable code and explanatory/documenting text\n",
    "   - The end-result is practically an interactive, executable document\n",
    " - This will be our primary tool"
   ]
  },
  {
   "cell_type": "markdown",
   "metadata": {
    "slideshow": {
     "slide_type": "slide"
    }
   },
   "source": [
    "# A first look at Python\n",
    "\n",
    "One of the easiest ways to try out Python is to see how it works as a simple calculator.\n",
    "\n",
    "This requires minimal knowledge to get started."
   ]
  },
  {
   "cell_type": "code",
   "execution_count": null,
   "metadata": {},
   "outputs": [],
   "source": [
    "# This is a Python comment\n",
    "# Addition in Python is done in the usual manner \n",
    "# (hopefully familiar from your R classes)\n",
    "2+10"
   ]
  },
  {
   "cell_type": "code",
   "execution_count": null,
   "metadata": {},
   "outputs": [],
   "source": [
    "# So is subtraction\n",
    "20-50"
   ]
  },
  {
   "cell_type": "code",
   "execution_count": null,
   "metadata": {},
   "outputs": [],
   "source": [
    "# ...multiplication...\n",
    "5*5"
   ]
  },
  {
   "cell_type": "code",
   "execution_count": null,
   "metadata": {},
   "outputs": [],
   "source": [
    "# ...and division\n",
    "3/5"
   ]
  },
  {
   "cell_type": "markdown",
   "metadata": {
    "slideshow": {
     "slide_type": "subslide"
    }
   },
   "source": [
    "Take a few minutes to play with the above cells by editing them (press `Enter` to start editing and `Esc` to exit edit mode) and evaluate the results (press `Ctrl + Enter`)\n",
    "\n",
    "These examples include only integer values. Try changing some of the numbers to floats, i.e. 2.1 or 3.14 or even 5.0.\n",
    "\n",
    "What happens when a computation involves a float and an integer?"
   ]
  },
  {
   "cell_type": "markdown",
   "metadata": {
    "slideshow": {
     "slide_type": "slide"
    }
   },
   "source": [
    "# More complex operations\n",
    "\n"
   ]
  },
  {
   "cell_type": "code",
   "execution_count": null,
   "metadata": {},
   "outputs": [],
   "source": [
    "# exponentiation\n",
    "3**2\n",
    "# try 2**0 or 4**3"
   ]
  },
  {
   "cell_type": "code",
   "execution_count": null,
   "metadata": {},
   "outputs": [],
   "source": [
    "# floor division (returns integer part of division operation)\n",
    "5//2\n",
    "# try 4//2 or 4//1 or 0//3"
   ]
  },
  {
   "cell_type": "code",
   "execution_count": null,
   "metadata": {},
   "outputs": [],
   "source": [
    "# modulus (returns remainder of division operation)\n",
    "5%2\n",
    "# try the floor division examples with the modulus operation"
   ]
  },
  {
   "cell_type": "markdown",
   "metadata": {
    "slideshow": {
     "slide_type": "slide"
    }
   },
   "source": [
    "# Variables, expressions and statements\n",
    "\n",
    "A variable in Python is a name that refers to a value, e.g. x=5\n",
    "\n",
    "Variable names are required to conform to certain conventions:\n",
    "- Variable names can be formed by using a mix of lowercase and uppercase letters and numbers.\n",
    "- They cannot begin with a number.\n",
    "- They cannot contain certain symbols such as *, &, %, @, # etc. (experiment at your leisure to see what's allowed).\n",
    "- They can contain the underscore symbol _\n",
    "- They cannot be Python keywords"
   ]
  },
  {
   "cell_type": "raw",
   "metadata": {
    "slideshow": {
     "slide_type": "subslide"
    }
   },
   "source": [
    "Python 3 keywords:\n",
    "\n",
    "False      await      else       import     pass\n",
    "\n",
    "None       break      except     in         raise\n",
    "\n",
    "True       class      finally    is         return\n",
    "\n",
    "and        continue   for        lambda     try\n",
    "\n",
    "as         def        from       nonlocal   while\n",
    "\n",
    "assert     del        global     not        with\n",
    "\n",
    "async      elif       if         or         yield"
   ]
  },
  {
   "cell_type": "markdown",
   "metadata": {
    "slideshow": {
     "slide_type": "subslide"
    }
   },
   "source": [
    "Two popular conventions for writing variable names are:\n",
    "- **camel case**: ConsumptionPerCapita, AdjointVariable\n",
    "- **snake case**: consumption_per_head, costate_variable\n",
    "\n",
    "Downey's book says\n",
    "> It is legal to use uppercase letters, but it is conventional to use only lower case for variables names.\n",
    "\n",
    "If you are interested in learning more about Python style conventions, then check out the Python style guide:\n",
    "https://www.python.org/dev/peps/pep-0008/"
   ]
  },
  {
   "cell_type": "markdown",
   "metadata": {
    "slideshow": {
     "slide_type": "slide"
    }
   },
   "source": [
    "# Defining variables"
   ]
  },
  {
   "cell_type": "code",
   "execution_count": null,
   "metadata": {},
   "outputs": [],
   "source": [
    "x=5"
   ]
  },
  {
   "cell_type": "markdown",
   "metadata": {},
   "source": [
    "However, you see no result...\n",
    "\n",
    "Therefore, you check explicitly:"
   ]
  },
  {
   "cell_type": "code",
   "execution_count": null,
   "metadata": {},
   "outputs": [],
   "source": [
    "print(x)"
   ]
  },
  {
   "cell_type": "markdown",
   "metadata": {},
   "source": [
    "Try out the following: \n",
    "- Define several new variables: camel case, snake case\n",
    "- What happens if you try to define a variable starting with a number like `1x=5`? With a character like # or $?\n",
    "- How does the assignment `except = 3.1415` work (or fail)?"
   ]
  },
  {
   "cell_type": "markdown",
   "metadata": {
    "slideshow": {
     "slide_type": "subslide"
    }
   },
   "source": [
    "- Try reassigning a variable and print it in each case: \n",
    " - `coolvar = 1`\n",
    " - `coolvar = 2.71`\n",
    " - `coolvar = \"I love Python\"`\n"
   ]
  },
  {
   "cell_type": "code",
   "execution_count": null,
   "metadata": {},
   "outputs": [],
   "source": [
    "coolvar = 1\n",
    "print(coolvar)"
   ]
  },
  {
   "cell_type": "markdown",
   "metadata": {},
   "source": [
    "- The variable type changed from integer to float to string. Were there any problems?\n",
    "- You can check the variable type by using the `type` command: repeat the above assignments and verify that the type changes."
   ]
  },
  {
   "cell_type": "code",
   "execution_count": null,
   "metadata": {},
   "outputs": [],
   "source": [
    "type(coolvar)"
   ]
  },
  {
   "cell_type": "markdown",
   "metadata": {
    "slideshow": {
     "slide_type": "slide"
    }
   },
   "source": [
    "# Expressions\n",
    "\n",
    "From Downey's book:\n",
    "\n",
    "> An expression is a combination of values, variables, and operators. A value all by itself is considered an expression, and so is a variable."
   ]
  },
  {
   "cell_type": "code",
   "execution_count": null,
   "metadata": {},
   "outputs": [],
   "source": [
    "666 # a value, which is a trivial expression"
   ]
  },
  {
   "cell_type": "code",
   "execution_count": null,
   "metadata": {},
   "outputs": [],
   "source": [
    "x=22\n",
    "x # this expression simply displays the respective variable"
   ]
  },
  {
   "cell_type": "code",
   "execution_count": null,
   "metadata": {},
   "outputs": [],
   "source": [
    "# Below you'll see the results of more fruitful expressions\n",
    "x-12"
   ]
  },
  {
   "cell_type": "code",
   "execution_count": null,
   "metadata": {},
   "outputs": [],
   "source": [
    "y=3.5\n",
    "x+y"
   ]
  },
  {
   "cell_type": "markdown",
   "metadata": {
    "slideshow": {
     "slide_type": "slide"
    }
   },
   "source": [
    "# A first look at string operations\n",
    "\n",
    "The following are examples of string variable definitions:"
   ]
  },
  {
   "cell_type": "code",
   "execution_count": null,
   "metadata": {},
   "outputs": [],
   "source": [
    "s1 = 'string1'\n",
    "s2 = \"STRING2\"\n",
    "s3 = '''Multiline strings \n",
    "can be constructed by means of\n",
    "triple single quotes'''\n",
    "s4 = \"\"\"Multiline strings \n",
    "can also be constructed by means of\n",
    "triple double quotes\"\"\""
   ]
  },
  {
   "cell_type": "code",
   "execution_count": null,
   "metadata": {},
   "outputs": [],
   "source": [
    "print(s1) # Print the rest as well to see how they work"
   ]
  },
  {
   "cell_type": "markdown",
   "metadata": {
    "slideshow": {
     "slide_type": "subslide"
    }
   },
   "source": [
    "Strings can be subjected to some \"arithmetic-like\" operations:\n",
    "- The `+` operation concatenates\n",
    "- The `*` operation replicates"
   ]
  },
  {
   "cell_type": "code",
   "execution_count": null,
   "metadata": {},
   "outputs": [],
   "source": [
    "s1 + s2\n",
    "# s1 + \" \" + s2"
   ]
  },
  {
   "cell_type": "code",
   "execution_count": null,
   "metadata": {},
   "outputs": [],
   "source": [
    "3*s1\n",
    "# s2*4"
   ]
  },
  {
   "cell_type": "markdown",
   "metadata": {
    "slideshow": {
     "slide_type": "slide"
    }
   },
   "source": [
    "# Order of operations\n",
    "\n",
    "The order of operations in Python is the following (in decreasing order of precedence):\n",
    "1. Parentheses\n",
    "2. Exponentiation\n",
    "3. Multiplication and division\n",
    "4. Addition and subtraction"
   ]
  },
  {
   "cell_type": "code",
   "execution_count": null,
   "metadata": {},
   "outputs": [],
   "source": [
    "(3+5)/2\n",
    "# Compare with 3+5/2\n",
    "# Try (2+3)**2 and 2+3**2"
   ]
  },
  {
   "cell_type": "markdown",
   "metadata": {
    "slideshow": {
     "slide_type": "subslide"
    }
   },
   "source": [
    "The same is valid for strings:"
   ]
  },
  {
   "cell_type": "code",
   "execution_count": null,
   "metadata": {},
   "outputs": [],
   "source": [
    "print((s1+s2)*2)\n",
    "print(s1+s2*2)"
   ]
  },
  {
   "cell_type": "markdown",
   "metadata": {
    "slideshow": {
     "slide_type": "slide"
    }
   },
   "source": [
    "# An aside on the print function\n",
    "\n",
    "The `print` command may print several things at once but it tends to produce somewhat uneven output."
   ]
  },
  {
   "cell_type": "code",
   "execution_count": null,
   "metadata": {},
   "outputs": [],
   "source": [
    "print(\"x=\",x) # As you can see, we can print more than one thing at a time"
   ]
  },
  {
   "cell_type": "markdown",
   "metadata": {},
   "source": [
    "Visually better output is produced by using the following syntax:"
   ]
  },
  {
   "cell_type": "code",
   "execution_count": null,
   "metadata": {},
   "outputs": [],
   "source": [
    "print(\"x=%g\"%(x))"
   ]
  },
  {
   "cell_type": "code",
   "execution_count": null,
   "metadata": {},
   "outputs": [],
   "source": [
    "# See also the result of the more complex\n",
    "x=6; y= 5.15\n",
    "print(\"x=%d and y=%.f\"%(x,y))\n",
    "print(\"x=%d and y=%.3f\"%(x,y))"
   ]
  },
  {
   "cell_type": "markdown",
   "metadata": {
    "slideshow": {
     "slide_type": "subslide"
    }
   },
   "source": [
    "*Common examples of formatting:*\n",
    "\n",
    "%d - integer\n",
    "\n",
    "%f - decimal notation with six decimals\n",
    "\n",
    "%s - string\n",
    "\n",
    "%.yz - format z with y decimals"
   ]
  },
  {
   "cell_type": "markdown",
   "metadata": {
    "slideshow": {
     "slide_type": "subslide"
    }
   },
   "source": [
    "## f-strings\n",
    "\n",
    "- Python 3.6 introduced a new facility for working with strings, called *Formatted string literals* or *f-strings*\n",
    "- F-strings are defined by using the letter `F` or `f` in front of the opening quote\n",
    "- They contain replacement fields, which are expressions delimited by curly braces"
   ]
  },
  {
   "cell_type": "code",
   "execution_count": null,
   "metadata": {},
   "outputs": [],
   "source": [
    "print(f\"x={x} and y={y}\")"
   ]
  },
  {
   "cell_type": "code",
   "execution_count": null,
   "metadata": {},
   "outputs": [],
   "source": [
    "print(f\"x={x} and y={y:.5f}\")"
   ]
  },
  {
   "cell_type": "markdown",
   "metadata": {
    "slideshow": {
     "slide_type": "slide"
    }
   },
   "source": [
    "# Statements\n",
    "\n",
    "From Downey's book:\n",
    "\n",
    "> A statement is a unit of code that has an effect, like creating a variable or displaying a\n",
    "value."
   ]
  },
  {
   "cell_type": "code",
   "execution_count": null,
   "metadata": {},
   "outputs": [],
   "source": [
    "x=23\n",
    "print(x)\n",
    "print(\"x=\",x)"
   ]
  }
 ],
 "metadata": {
  "celltoolbar": "Slideshow",
  "kernelspec": {
   "display_name": "Python 3 (ipykernel)",
   "language": "python",
   "name": "python3"
  },
  "language_info": {
   "codemirror_mode": {
    "name": "ipython",
    "version": 3
   },
   "file_extension": ".py",
   "mimetype": "text/x-python",
   "name": "python",
   "nbconvert_exporter": "python",
   "pygments_lexer": "ipython3",
   "version": "3.8.8"
  }
 },
 "nbformat": 4,
 "nbformat_minor": 1
}
