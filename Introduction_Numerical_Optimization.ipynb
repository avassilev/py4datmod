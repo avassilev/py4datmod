{
 "cells": [
  {
   "cell_type": "markdown",
   "metadata": {
    "slideshow": {
     "slide_type": "slide"
    }
   },
   "source": [
    "<center>\n",
    "    \n",
    "# R406: Applied Economic Modelling with Python\n",
    "\n",
    "</center>\n",
    "\n",
    "<br> <br> \n",
    "\n",
    "<center>\n",
    "\n",
    "## Introduction to Numerical Optimization\n",
    "\n",
    "</center>\n",
    "\n",
    "<br><br> \n",
    "\n",
    "<center>\n",
    "<b> Andrey Vassilev </b>\n",
    "</center>\n",
    "\n"
   ]
  },
  {
   "cell_type": "markdown",
   "metadata": {
    "slideshow": {
     "slide_type": "slide"
    }
   },
   "source": [
    "# Contents\n",
    "\n",
    "- Introductory remarks\n",
    "- A few notes on gradients\n",
    "- Interactive numerical optimization examples: *[An Interactive Tutorial on Numerical Optimization](http://www.benfrederickson.com/numerical-optimization/)* by Ben Frederickson plus helper visualizations below"
   ]
  },
  {
   "cell_type": "markdown",
   "metadata": {
    "slideshow": {
     "slide_type": "slide"
    }
   },
   "source": [
    "# Introductory remarks\n",
    "\n",
    "- In most practical situations optimization is not carried out with pen and paper but using a computer.\n",
    "- This implies that, while the burden of problem formulation always lies with the user, the technical aspects of finding a solution will typically comprise working with an appropriate programming interface rather than using analytical techniques.\n",
    "- This is usually a worthwhile tradeoff as the computer allows us to solve vast problems and we are shielded from the complexities of analytical solutions.\n"
   ]
  },
  {
   "cell_type": "markdown",
   "metadata": {
    "slideshow": {
     "slide_type": "subslide"
    }
   },
   "source": [
    "- At the same time, the power and ease-of-use of software applications that solve optimization problems may mislead the user with respect to the reliability of the results and their interpretation.\n",
    "- Therefore, it is necessary to possess a basic understanding of what a typical optimization (or, for that matter, any other) computer routine does under the hood in order to appreciate the potential dangers and have an idea of possible workarounds.\n",
    "- In what follows this basic understanding is developed in an intuitive manner using interactive visualizations. The rigorous study of numerical methods is beyond this course.\n",
    "- The numerical methods shown here are popular but by no means unique. Take them as an illustration of the general approach."
   ]
  },
  {
   "cell_type": "markdown",
   "metadata": {
    "slideshow": {
     "slide_type": "slide"
    }
   },
   "source": [
    "# Imports needed for the examples"
   ]
  },
  {
   "cell_type": "code",
   "execution_count": null,
   "metadata": {
    "slideshow": {
     "slide_type": "-"
    }
   },
   "outputs": [],
   "source": [
    "%matplotlib widget\n",
    "from IPython.display import display, Math, Latex, HTML\n",
    "import numpy as np\n",
    "import scipy as sp\n",
    "import scipy.optimize as spo\n",
    "import matplotlib.pyplot as plt\n",
    "from matplotlib import cm\n",
    "\n",
    "\n",
    "plt.rcParams['figure.figsize'] = (10,8)"
   ]
  },
  {
   "cell_type": "markdown",
   "metadata": {
    "slideshow": {
     "slide_type": "slide"
    }
   },
   "source": [
    "# A few notes on gradients\n",
    "\n",
    "- Consider a differentiable function of $n$ variables $f(x_1,\\ldots,x_n)$ or, in vector terms, $f(\\mathbf{x})$, where $\\mathbf{x} = (x_1,\\ldots,x_n)'$.\n",
    "- The gradient of the function is denoted by $f'(\\mathbf{x})$ or $\\nabla f(\\mathbf{x})$ and is defined as $$f'(\\mathbf{x}) \\equiv  \\nabla f(\\mathbf{x}) = \\left( \\begin{array}{c}\n",
    "\\dfrac{\\partial f(x_1,\\ldots,x_n)}{\\partial x_1}\\\\\n",
    "\\vdots \\\\\n",
    "\\dfrac{\\partial f(x_1,\\ldots,x_n)}{\\partial x_n}\n",
    "\\end{array}\\right). $$\n",
    "- This is simply the usual first derivative when $n=1$.\n",
    "- Just like the ordinary derivative, the gradient can be evaluated at any chosen point to obtain numerical values. \n",
    "- The gradient points in the direction of fastest increase of the function, which is trivial for $n=1$ but is more interesting in higher dimensions. "
   ]
  },
  {
   "cell_type": "code",
   "execution_count": null,
   "metadata": {
    "slideshow": {
     "slide_type": "slide"
    }
   },
   "outputs": [],
   "source": [
    "x,y = np.meshgrid(np.linspace(-5,5,30),np.linspace(-5,5,30),indexing='ij')\n",
    "f = lambda x,y : x**2 + y**2 \n",
    "\n",
    "# Try this as well\n",
    "# x,y = np.meshgrid(np.linspace(0,20,30),np.linspace(0,20,30),indexing='ij')\n",
    "# f = lambda x,y : x**0.7 * y**0.7 \n",
    "\n",
    "z = f(x,y)\n",
    "g1,g2 = np.gradient(z)"
   ]
  },
  {
   "cell_type": "code",
   "execution_count": null,
   "metadata": {
    "slideshow": {
     "slide_type": "subslide"
    }
   },
   "outputs": [],
   "source": [
    "fig = plt.figure()\n",
    "\n",
    "ax = fig.add_subplot(projection='3d')              \n",
    "ax.plot_surface(x, y, z, \n",
    "                alpha=0.5,                  \n",
    "                cmap=cm.BuPu)   \n",
    "\n",
    "ax.set_xlabel('$x$',fontsize=15)\n",
    "ax.set_ylabel('$y$',fontsize=15)\n",
    "ax.set_zlabel('$f(x,y)$',fontsize=15);\n"
   ]
  },
  {
   "cell_type": "code",
   "execution_count": null,
   "metadata": {
    "slideshow": {
     "slide_type": "subslide"
    }
   },
   "outputs": [],
   "source": [
    "fig = plt.figure()\n",
    "ax = fig.gca()  \n",
    "ax.quiver(x, y, g1, g2)\n",
    "ax.set_xlabel('$x$',fontsize=15)\n",
    "ax.set_ylabel('$y$',fontsize=15)\n",
    "\n",
    "plt.show()"
   ]
  },
  {
   "cell_type": "markdown",
   "metadata": {
    "slideshow": {
     "slide_type": "slide"
    }
   },
   "source": [
    "# Interactive numerical optimization examples"
   ]
  },
  {
   "cell_type": "code",
   "execution_count": null,
   "metadata": {
    "slideshow": {
     "slide_type": "slide"
    }
   },
   "outputs": [],
   "source": [
    "def plot3dim(fnum=1, \n",
    "             xlimlower=-7,xlimupper=7,\n",
    "             ylimlower=-7,ylimupper=7,\n",
    "             zlimlower=-5,zlimupper=50,\n",
    "             contouroffset=-10, contourlevels = None,\n",
    "             elevation=18, angle=-60, zoom=1, \n",
    "             rstr=5, cstr=5, fontsize=15, alph = 0.3):\n",
    "    x,y = np.meshgrid(np.linspace(xlimlower,xlimupper,200),np.linspace(ylimlower,ylimupper,200),indexing='ij')\n",
    "    if fnum == 1:\n",
    "        f = lambda x,y : x**2 + y**2 + x*np.sin(y) + y*np.sin(x)\n",
    "    elif fnum == 2:\n",
    "        f = lambda x,y : (x**2+y-11)**2 + (x+y**2-7)**2\n",
    "    elif fnum == 3:\n",
    "        f = lambda x,y : (1-x)**2 + 100*(y-x**2)**2\n",
    "    elif fnum == 4:\n",
    "        f = lambda x,y : .26*(x**2+y**2)-.48*x*y\n",
    "\n",
    "    z = f(x,y)\n",
    "    fig = plt.figure()\n",
    "    ax = fig.add_subplot(projection='3d')                 # set the 3d axes\n",
    "    ax.plot_surface(x, y, z, \n",
    "                    rstride=rstr, \n",
    "                    cstride=cstr, \n",
    "                    alpha=alph,                 # transparency of the surface \n",
    "                    cmap=cm.BuPu)               # colour map\n",
    "\n",
    "    if contourlevels is None:\n",
    "        cset = ax.contourf(x, y, z, \n",
    "                           zdir='z',                # direction of contour projection\n",
    "                           offset=contouroffset,    # how \"far\" to render the contour map\n",
    "                           cmap=cm.BuPu)            # colour map\n",
    "    else:\n",
    "        cset = ax.contourf(x, y, z, \n",
    "                           zdir='z',              \n",
    "                           offset=contouroffset,\n",
    "                           levels = contourlevels,\n",
    "                           cmap=cm.BuPu)           \n",
    "    ax.set_xlabel('$x$',fontsize=fontsize)\n",
    "    ax.set_xlim(xlimlower, xlimupper)\n",
    "    ax.set_ylabel('$y$',fontsize=fontsize)\n",
    "    ax.set_ylim(ylimlower, ylimupper)\n",
    "    ax.set_zlabel('$f(x,y)$',fontsize=fontsize)\n",
    "    ax.set_zlim(zlimlower, zlimupper)\n",
    "\n",
    "    ax.view_init(elev=elevation, azim=angle)           # elevation and angle\n",
    "    ax.set_box_aspect(None, zoom=zoom)\n",
    "\n",
    "    plt.show()\n"
   ]
  },
  {
   "cell_type": "markdown",
   "metadata": {
    "slideshow": {
     "slide_type": "slide"
    }
   },
   "source": [
    "$$f(x,y) = x^2 + y^2 + x \\sin(y) + y \\sin(x)$$"
   ]
  },
  {
   "cell_type": "code",
   "execution_count": null,
   "metadata": {},
   "outputs": [],
   "source": [
    "plot3dim(1)"
   ]
  },
  {
   "cell_type": "markdown",
   "metadata": {
    "slideshow": {
     "slide_type": "slide"
    }
   },
   "source": [
    "$$f(x,y) = (x^2+y-11)^2 + (x+y^2-7)^2$$"
   ]
  },
  {
   "cell_type": "code",
   "execution_count": null,
   "metadata": {},
   "outputs": [],
   "source": [
    "plot3dim(2,\n",
    "         zlimlower=-5,zlimupper=300,\n",
    "         contourlevels=[0.1,0.2,0.3,0.4,0.5,0.6,0.8,1,2,3,6,8,11,15,19,30,50,125,250],\n",
    "         alph = 0.9)"
   ]
  },
  {
   "cell_type": "markdown",
   "metadata": {
    "slideshow": {
     "slide_type": "slide"
    }
   },
   "source": [
    "$$f(x,y) = (1-x)^2 + 100\\,(y-x^2)^2$$"
   ]
  },
  {
   "cell_type": "code",
   "execution_count": null,
   "metadata": {},
   "outputs": [],
   "source": [
    "plot3dim(3, \n",
    "         xlimlower=-2,xlimupper=2,\n",
    "         ylimlower=-2,ylimupper=2,\n",
    "         zlimlower=0,zlimupper=800,\n",
    "         contourlevels=[0.1,0.2,0.3,0.4,0.5,0.6,0.8,1,2,3,6,8,11,15,19,30,50,125,250,500],\n",
    "         alph = 0.6)"
   ]
  },
  {
   "cell_type": "markdown",
   "metadata": {
    "slideshow": {
     "slide_type": "slide"
    }
   },
   "source": [
    "$$f(x,y) = 0.26\\,(x^2+y^2)-0.48\\,xy$$"
   ]
  },
  {
   "cell_type": "code",
   "execution_count": null,
   "metadata": {},
   "outputs": [],
   "source": [
    "plot3dim(4, \n",
    "         xlimlower=-10,xlimupper=10,\n",
    "         ylimlower=-10,ylimupper=10,\n",
    "         zlimlower=0,zlimupper=100,\n",
    "         contourlevels=[0.1,0.2,0.3,0.4,0.5,0.6,0.8,1,2,3,6,8,11,15,19,30,50,100],\n",
    "         elevation=25, angle=-70, contouroffset=0, \n",
    "         alph = 0.5)"
   ]
  }
 ],
 "metadata": {
  "celltoolbar": "Slideshow",
  "kernelspec": {
   "display_name": "Python 3 (ipykernel)",
   "language": "python",
   "name": "python3"
  },
  "language_info": {
   "codemirror_mode": {
    "name": "ipython",
    "version": 3
   },
   "file_extension": ".py",
   "mimetype": "text/x-python",
   "name": "python",
   "nbconvert_exporter": "python",
   "pygments_lexer": "ipython3",
   "version": "3.12.8"
  },
  "livereveal": {
   "auto_select": "code",
   "auto_select_fragment": true,
   "scroll": true,
   "start_slideshow_at": "selected"
  }
 },
 "nbformat": 4,
 "nbformat_minor": 4
}
