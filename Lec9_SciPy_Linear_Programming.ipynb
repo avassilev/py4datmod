{
 "cells": [
  {
   "cell_type": "markdown",
   "metadata": {
    "slideshow": {
     "slide_type": "slide"
    }
   },
   "source": [
    "<center> \n",
    "# R406: Using Python for data analysis and modelling\n",
    "\n",
    "<br> <br> \n",
    "\n",
    "## Lecture 9: Overview of SciPy. Numerical linear programming\n",
    "\n",
    "<br>\n",
    "\n",
    "<center> **Andrey Vassilev**\n",
    "\n",
    "<br> \n",
    "\n",
    "<center> **2016/2017**\n",
    " "
   ]
  },
  {
   "cell_type": "markdown",
   "metadata": {
    "slideshow": {
     "slide_type": "slide"
    }
   },
   "source": [
    "# Outline\n",
    "\n",
    "1. The scientific computing ecosystem in Python and the SciPy library\n",
    "2. Selected examples of SciPy applications\n",
    "3. Linear programming: a short review and SciPy applications"
   ]
  },
  {
   "cell_type": "markdown",
   "metadata": {
    "slideshow": {
     "slide_type": "slide"
    }
   },
   "source": [
    "# The SciPy stack\n",
    "\n",
    "- Python has many libraries that take care of various scientific computing needs.\n",
    "- A core set of such libraries forms the so-called *SciPy stack*.\n",
    "- Some of the key [SciPy stack](https://scipy.org/stackspec.html) libraries include:\n",
    "  - NumPy\n",
    "  - SciPy (library)\n",
    "  - SymPy\n",
    "  - Pandas\n",
    "  - Matplotlib"
   ]
  },
  {
   "cell_type": "markdown",
   "metadata": {
    "slideshow": {
     "slide_type": "slide"
    }
   },
   "source": [
    "# The SciPy stack and the SciPy library\n",
    "\n",
    "- The SciPy stack is described as  \n",
    "> a collection of open source software for scientific computing in Python, and particularly a specified set of core packages\n",
    "- The SciPy library is described as\n",
    "> a collection of numerical algorithms and domain-specific toolboxes, including signal processing, optimization, statistics and much more"
   ]
  },
  {
   "cell_type": "markdown",
   "metadata": {
    "slideshow": {
     "slide_type": "slide"
    }
   },
   "source": [
    "# Highlights of the SciPy library\n",
    "\n",
    "SciPy includes routines for:\n",
    " - linear algebra (an upgrade over NumPy routines)\n",
    " - integration and ODE solution\n",
    " - statistical analysis\n",
    " - optimization and root finding\n",
    " - ...\n",
    "    \n",
    "Browse the [SciPy reference](https://docs.scipy.org/doc/scipy/reference/) for a more detailed description."
   ]
  },
  {
   "cell_type": "markdown",
   "metadata": {
    "slideshow": {
     "slide_type": "slide"
    }
   },
   "source": [
    "# SciPy vs NumPy"
   ]
  },
  {
   "cell_type": "markdown",
   "metadata": {
    "slideshow": {
     "slide_type": "slide"
    }
   },
   "source": [
    "# Statistical functions in SciPy"
   ]
  },
  {
   "cell_type": "markdown",
   "metadata": {
    "slideshow": {
     "slide_type": "slide"
    }
   },
   "source": [
    "# Regression"
   ]
  },
  {
   "cell_type": "markdown",
   "metadata": {
    "slideshow": {
     "slide_type": "slide"
    }
   },
   "source": [
    "# Solving ordinary differential equations"
   ]
  },
  {
   "cell_type": "markdown",
   "metadata": {
    "slideshow": {
     "slide_type": "slide"
    }
   },
   "source": [
    "# Optimization and root finding"
   ]
  },
  {
   "cell_type": "markdown",
   "metadata": {
    "slideshow": {
     "slide_type": "slide"
    }
   },
   "source": [
    "# Linear programming"
   ]
  }
 ],
 "metadata": {
  "celltoolbar": "Slideshow",
  "kernelspec": {
   "display_name": "Python 3",
   "language": "python",
   "name": "python3"
  },
  "language_info": {
   "codemirror_mode": {
    "name": "ipython",
    "version": 3
   },
   "file_extension": ".py",
   "mimetype": "text/x-python",
   "name": "python",
   "nbconvert_exporter": "python",
   "pygments_lexer": "ipython3",
   "version": "3.5.2"
  }
 },
 "nbformat": 4,
 "nbformat_minor": 1
}
