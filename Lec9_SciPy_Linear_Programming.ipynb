{
 "cells": [
  {
   "cell_type": "markdown",
   "metadata": {
    "slideshow": {
     "slide_type": "slide"
    }
   },
   "source": [
    "<center> \n",
    "# R406: Using Python for data analysis and modelling\n",
    "\n",
    "<br> <br> \n",
    "\n",
    "## Lecture 9: Overview of SciPy. Numerical linear programming\n",
    "\n",
    "<br>\n",
    "\n",
    "<center> **Andrey Vassilev**\n",
    "\n",
    "<br> \n",
    "\n",
    "<center> **2016/2017**\n",
    " "
   ]
  },
  {
   "cell_type": "markdown",
   "metadata": {
    "slideshow": {
     "slide_type": "slide"
    }
   },
   "source": [
    "# Outline\n",
    "\n",
    "1. The scientific computing ecosystem in Python and the SciPy library\n",
    "2. Selected examples of SciPy applications\n",
    "3. Linear programming: a short review and SciPy applications"
   ]
  },
  {
   "cell_type": "markdown",
   "metadata": {
    "slideshow": {
     "slide_type": "slide"
    }
   },
   "source": [
    "# The SciPy stack\n",
    "\n",
    "- Python has many libraries that take care of various scientific computing needs.\n",
    "- A core set of such libraries forms the so-called *SciPy stack*.\n",
    "- Some of the key [SciPy stack](https://scipy.org/stackspec.html) libraries include:\n",
    "  - NumPy\n",
    "  - SciPy (library)\n",
    "  - SymPy\n",
    "  - Pandas\n",
    "  - Matplotlib"
   ]
  },
  {
   "cell_type": "markdown",
   "metadata": {
    "slideshow": {
     "slide_type": "slide"
    }
   },
   "source": [
    "# The SciPy stack and the SciPy library\n",
    "\n",
    "- The SciPy stack is described as  \n",
    "> a collection of open source software for scientific computing in Python, and particularly a specified set of core packages\n",
    "- The SciPy library is described as\n",
    "> a collection of numerical algorithms and domain-specific toolboxes, including signal processing, optimization, statistics and much more"
   ]
  },
  {
   "cell_type": "markdown",
   "metadata": {
    "slideshow": {
     "slide_type": "slide"
    }
   },
   "source": [
    "# Highlights of the SciPy library\n",
    "\n",
    "SciPy includes routines for:\n",
    " - linear algebra (an upgrade over NumPy routines)\n",
    " - integration and ODE solution\n",
    " - statistical analysis\n",
    " - optimization and root finding\n",
    " - ...\n",
    "    \n",
    "Browse the [SciPy reference](https://docs.scipy.org/doc/scipy/reference/) for a more detailed description."
   ]
  },
  {
   "cell_type": "markdown",
   "metadata": {
    "slideshow": {
     "slide_type": "slide"
    }
   },
   "source": [
    "# SciPy vs NumPy\n",
    "\n",
    "Better than I could possibly say it, from the [SciPy FAQ](https://www.scipy.org/scipylib/faq.html#what-is-the-difference-between-numpy-and-scipy):\n",
    "> In an ideal world, NumPy would contain nothing but the array data type and the most basic operations: indexing, sorting, reshaping, basic elementwise functions, et cetera. All numerical code would reside in SciPy. However, one of NumPy’s important goals is compatibility, so NumPy tries to retain all features supported by either of its predecessors. Thus NumPy contains some linear algebra functions, even though these more properly belong in SciPy. "
   ]
  },
  {
   "cell_type": "markdown",
   "metadata": {
    "slideshow": {
     "slide_type": "subslide"
    }
   },
   "source": [
    "> In any case, SciPy contains more fully-featured versions of the linear algebra modules, as well as many other numerical algorithms. If you are doing scientific computing with Python, you should probably install both NumPy and SciPy. Most new features belong in SciPy rather than NumPy.\n",
    "\n",
    "In case you are interested in further details, you can also read [*Why both numpy.linalg and scipy.linalg? What’s the difference?*](https://www.scipy.org/scipylib/faq.html#why-both-numpy-linalg-and-scipy-linalg-what-s-the-difference)"
   ]
  },
  {
   "cell_type": "code",
   "execution_count": null,
   "metadata": {
    "collapsed": true,
    "slideshow": {
     "slide_type": "slide"
    }
   },
   "outputs": [],
   "source": [
    "import numpy as np\n",
    "import scipy as sp\n",
    "import matplotlib.pyplot as plt"
   ]
  },
  {
   "cell_type": "markdown",
   "metadata": {
    "slideshow": {
     "slide_type": "slide"
    }
   },
   "source": [
    "# Statistical functions in SciPy\n",
    "\n",
    "The statistical functions of SciPy are contained in module `stats`."
   ]
  },
  {
   "cell_type": "code",
   "execution_count": null,
   "metadata": {
    "collapsed": true
   },
   "outputs": [],
   "source": [
    "from scipy import stats"
   ]
  },
  {
   "cell_type": "markdown",
   "metadata": {},
   "source": [
    "The module contains a rich variety of continuous and discrete distributions that can be accessed though a more or less harmonized interface."
   ]
  },
  {
   "cell_type": "code",
   "execution_count": null,
   "metadata": {
    "collapsed": true
   },
   "outputs": [],
   "source": [
    "x = np.linspace(-5.0,5.0,500) # An array of 500 evenly-spaced \n",
    "                              # observations from -5.0 to 5.0\n",
    "ydensity = stats.norm.pdf(x)  # The standard normal density\n",
    "ycdf = stats.norm.cdf(x)      # The standard normal CDF"
   ]
  },
  {
   "cell_type": "code",
   "execution_count": null,
   "metadata": {
    "collapsed": true,
    "slideshow": {
     "slide_type": "subslide"
    }
   },
   "outputs": [],
   "source": [
    "# The following should be self-explanatory.\n",
    "# Feel free to play around with them.\n",
    "plt.plot(x,ydensity)\n",
    "plt.ylim(0,max(ydensity)+0.1)\n",
    "plt.xlabel(r\"$x$\",fontsize = 16)\n",
    "plt.ylabel(r\"$f(x)$\",fontsize = 16)\n",
    "plt.show()\n",
    "# This can be executed to resize plots\n",
    "# Don't do it unless you really need to!\n",
    "# plt.rcParams['figure.figsize'] = (8,8)"
   ]
  },
  {
   "cell_type": "code",
   "execution_count": null,
   "metadata": {
    "collapsed": true,
    "slideshow": {
     "slide_type": "subslide"
    }
   },
   "outputs": [],
   "source": [
    "plt.plot(x,ycdf,'r')\n",
    "plt.ylim(-0.1,max(ycdf)+0.05)\n",
    "plt.xlabel(r\"$x$\",fontsize = 16)\n",
    "plt.ylabel(r\"$F(x)$\",fontsize = 16)\n",
    "plt.show()"
   ]
  },
  {
   "cell_type": "markdown",
   "metadata": {
    "slideshow": {
     "slide_type": "slide"
    }
   },
   "source": [
    "You can also create different objects of the same type if you need to work with them simultaneously:"
   ]
  },
  {
   "cell_type": "code",
   "execution_count": null,
   "metadata": {
    "collapsed": true
   },
   "outputs": [],
   "source": [
    "rv1 = stats.norm()\n",
    "rv2 = stats.norm(2,1.5) # Mean and standard deviation are passed\n",
    "rv3 = stats.norm(-1,0.5)"
   ]
  },
  {
   "cell_type": "code",
   "execution_count": null,
   "metadata": {
    "collapsed": true
   },
   "outputs": [],
   "source": [
    "plt.plot(x,rv1.pdf(x),'k')\n",
    "plt.plot(x,rv2.pdf(x),'k--') # Notice the line formatting commands\n",
    "plt.plot(x,rv3.pdf(x),'k-.')\n",
    "plt.xlabel(r\"$x$\",fontsize = 16)\n",
    "plt.ylabel(r\"$f(x)$\",fontsize = 16)\n",
    "plt.show()"
   ]
  },
  {
   "cell_type": "markdown",
   "metadata": {
    "slideshow": {
     "slide_type": "subslide"
    }
   },
   "source": [
    "You can get some of the moments like this:"
   ]
  },
  {
   "cell_type": "code",
   "execution_count": null,
   "metadata": {
    "collapsed": true,
    "slideshow": {
     "slide_type": "-"
    }
   },
   "outputs": [],
   "source": [
    "Mean,Variance = rv2.stats()\n",
    "print(Mean)\n",
    "print(Variance)"
   ]
  },
  {
   "cell_type": "markdown",
   "metadata": {
    "slideshow": {
     "slide_type": "subslide"
    }
   },
   "source": [
    "For the exponential distribution — whose density is $f(x)=\\lambda e^{-\\lambda x},~x\\geq 0,~\\lambda>0$ — we have:"
   ]
  },
  {
   "cell_type": "code",
   "execution_count": null,
   "metadata": {
    "collapsed": true,
    "slideshow": {
     "slide_type": "-"
    }
   },
   "outputs": [],
   "source": [
    "lmbda = 3\n",
    "expRV = stats.expon(scale = 1/lmbda) # This is how you can pass\n",
    "                                     # the rate parameter lmbda"
   ]
  },
  {
   "cell_type": "code",
   "execution_count": null,
   "metadata": {
    "collapsed": true
   },
   "outputs": [],
   "source": [
    "expRV.mean()"
   ]
  },
  {
   "cell_type": "code",
   "execution_count": null,
   "metadata": {
    "collapsed": true
   },
   "outputs": [],
   "source": [
    "expRV.median()"
   ]
  },
  {
   "cell_type": "code",
   "execution_count": null,
   "metadata": {
    "collapsed": true
   },
   "outputs": [],
   "source": [
    "expRV.var()"
   ]
  },
  {
   "cell_type": "code",
   "execution_count": null,
   "metadata": {
    "collapsed": true,
    "slideshow": {
     "slide_type": "subslide"
    }
   },
   "outputs": [],
   "source": [
    "x = np.arange(0,5,0.1)\n",
    "plt.plot(x,expRV.pdf(x))\n",
    "plt.show()"
   ]
  },
  {
   "cell_type": "code",
   "execution_count": null,
   "metadata": {
    "collapsed": true,
    "slideshow": {
     "slide_type": "subslide"
    }
   },
   "outputs": [],
   "source": [
    "# This is how you get percentiles\n",
    "p95 = expRV.ppf(0.95)\n",
    "p60 = expRV.ppf(0.60)\n",
    "p30 = expRV.ppf(0.30)\n",
    "p50 = expRV.median() # :-)"
   ]
  },
  {
   "cell_type": "code",
   "execution_count": null,
   "metadata": {
    "collapsed": true
   },
   "outputs": [],
   "source": [
    "x = np.arange(0,1.5,0.1)\n",
    "plt.plot(x,expRV.cdf(x),'k',linewidth=2)\n",
    "plt.axvline(x=p95,color='k',linestyle='--')\n",
    "# plt.axhline(y=0.95,color='k',linestyle='--') # If you insist...\n",
    "plt.axvline(x=p60,color='b',linestyle='--')\n",
    "plt.axvline(x=p50,color='g',linestyle='--')\n",
    "plt.axvline(x=p30,color='r',linestyle='--')\n",
    "plt.show()"
   ]
  },
  {
   "cell_type": "markdown",
   "metadata": {
    "slideshow": {
     "slide_type": "slide"
    }
   },
   "source": [
    "The SciPy documentation shows the following fancy way to get lists of the available distributions:"
   ]
  },
  {
   "cell_type": "code",
   "execution_count": null,
   "metadata": {
    "collapsed": true
   },
   "outputs": [],
   "source": [
    "dist_continu = [d for d in dir(stats) if isinstance(getattr(stats,d), stats.rv_continuous)]\n",
    "dist_discrete = [d for d in dir(stats) if isinstance(getattr(stats,d), stats.rv_discrete)]"
   ]
  },
  {
   "cell_type": "markdown",
   "metadata": {},
   "source": [
    "But you might decide to simply read the [docs](https://docs.scipy.org/doc/scipy/reference/stats.html) instead."
   ]
  },
  {
   "cell_type": "markdown",
   "metadata": {
    "slideshow": {
     "slide_type": "slide"
    }
   },
   "source": [
    "# Regression"
   ]
  },
  {
   "cell_type": "markdown",
   "metadata": {
    "slideshow": {
     "slide_type": "slide"
    }
   },
   "source": [
    "# Solving ordinary differential equations"
   ]
  },
  {
   "cell_type": "markdown",
   "metadata": {
    "slideshow": {
     "slide_type": "slide"
    }
   },
   "source": [
    "# Optimization and root finding"
   ]
  },
  {
   "cell_type": "markdown",
   "metadata": {
    "slideshow": {
     "slide_type": "slide"
    }
   },
   "source": [
    "# Linear programming"
   ]
  }
 ],
 "metadata": {
  "celltoolbar": "Slideshow",
  "kernelspec": {
   "display_name": "Python 3",
   "language": "python",
   "name": "python3"
  },
  "language_info": {
   "codemirror_mode": {
    "name": "ipython",
    "version": 3
   },
   "file_extension": ".py",
   "mimetype": "text/x-python",
   "name": "python",
   "nbconvert_exporter": "python",
   "pygments_lexer": "ipython3",
   "version": "3.5.2"
  }
 },
 "nbformat": 4,
 "nbformat_minor": 1
}
