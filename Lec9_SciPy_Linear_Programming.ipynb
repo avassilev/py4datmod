{
 "cells": [
  {
   "cell_type": "markdown",
   "metadata": {
    "slideshow": {
     "slide_type": "slide"
    }
   },
   "source": [
    "<center> \n",
    "# R406: Using Python for data analysis and modelling\n",
    "\n",
    "<br> <br> \n",
    "\n",
    "## Lecture 9: Overview of SciPy. Numerical linear programming\n",
    "\n",
    "<br>\n",
    "\n",
    "<center> **Andrey Vassilev**\n",
    "\n",
    "<br> \n",
    "\n",
    "<center> **2016/2017**\n",
    " "
   ]
  },
  {
   "cell_type": "markdown",
   "metadata": {
    "slideshow": {
     "slide_type": "slide"
    }
   },
   "source": [
    "# Outline\n",
    "\n",
    "1. The scientific computing ecosystem in Python and the SciPy library\n",
    "2. Selected examples of SciPy applications\n",
    "3. Linear programming: a short review and SciPy applications"
   ]
  },
  {
   "cell_type": "markdown",
   "metadata": {
    "slideshow": {
     "slide_type": "slide"
    }
   },
   "source": [
    "# The SciPy stack\n",
    "\n",
    "- Python has many libraries that take care of various scientific computing needs.\n",
    "- A core set of such libraries forms the so-called *SciPy stack*.\n",
    "- Some of the key [SciPy stack](https://scipy.org/stackspec.html) libraries include:\n",
    "  - NumPy\n",
    "  - SciPy (library)\n",
    "  - SymPy\n",
    "  - Pandas\n",
    "  - Matplotlib"
   ]
  },
  {
   "cell_type": "markdown",
   "metadata": {
    "slideshow": {
     "slide_type": "slide"
    }
   },
   "source": [
    "# The SciPy stack and the SciPy library\n",
    "\n",
    "- The SciPy stack is described as  \n",
    "> a collection of open source software for scientific computing in Python, and particularly a specified set of core packages\n",
    "- The SciPy library is described as\n",
    "> a collection of numerical algorithms and domain-specific toolboxes, including signal processing, optimization, statistics and much more"
   ]
  },
  {
   "cell_type": "markdown",
   "metadata": {
    "slideshow": {
     "slide_type": "slide"
    }
   },
   "source": [
    "# Highlights of the SciPy library\n",
    "\n",
    "SciPy includes routines for:\n",
    " - linear algebra (an upgrade over NumPy routines)\n",
    " - integration and ODE solution\n",
    " - statistical analysis\n",
    " - optimization and root finding\n",
    " - ...\n",
    "    \n",
    "Browse the [SciPy reference](https://docs.scipy.org/doc/scipy/reference/) for a more detailed description."
   ]
  },
  {
   "cell_type": "markdown",
   "metadata": {
    "slideshow": {
     "slide_type": "slide"
    }
   },
   "source": [
    "# SciPy vs NumPy\n",
    "\n",
    "Better than I could possibly say it, from the [SciPy FAQ](https://www.scipy.org/scipylib/faq.html#what-is-the-difference-between-numpy-and-scipy):\n",
    "> In an ideal world, NumPy would contain nothing but the array data type and the most basic operations: indexing, sorting, reshaping, basic elementwise functions, et cetera. All numerical code would reside in SciPy. However, one of NumPy’s important goals is compatibility, so NumPy tries to retain all features supported by either of its predecessors. Thus NumPy contains some linear algebra functions, even though these more properly belong in SciPy. "
   ]
  },
  {
   "cell_type": "markdown",
   "metadata": {
    "slideshow": {
     "slide_type": "subslide"
    }
   },
   "source": [
    "> In any case, SciPy contains more fully-featured versions of the linear algebra modules, as well as many other numerical algorithms. If you are doing scientific computing with Python, you should probably install both NumPy and SciPy. Most new features belong in SciPy rather than NumPy.\n",
    "\n",
    "In case you are interested in further details, you can also read [*Why both numpy.linalg and scipy.linalg? What’s the difference?*](https://www.scipy.org/scipylib/faq.html#why-both-numpy-linalg-and-scipy-linalg-what-s-the-difference)"
   ]
  },
  {
   "cell_type": "code",
   "execution_count": null,
   "metadata": {
    "collapsed": true,
    "slideshow": {
     "slide_type": "slide"
    }
   },
   "outputs": [],
   "source": [
    "import numpy as np\n",
    "import scipy as sp\n",
    "import matplotlib.pyplot as plt"
   ]
  },
  {
   "cell_type": "markdown",
   "metadata": {
    "slideshow": {
     "slide_type": "slide"
    }
   },
   "source": [
    "# Statistical functions in SciPy\n",
    "\n",
    "The statistical functions of SciPy are contained in module `stats`."
   ]
  },
  {
   "cell_type": "code",
   "execution_count": null,
   "metadata": {
    "collapsed": true
   },
   "outputs": [],
   "source": [
    "from scipy import stats"
   ]
  },
  {
   "cell_type": "markdown",
   "metadata": {},
   "source": [
    "The module contains a rich variety of continuous and discrete distributions that can be accessed though a more or less harmonized interface."
   ]
  },
  {
   "cell_type": "code",
   "execution_count": null,
   "metadata": {
    "collapsed": false
   },
   "outputs": [],
   "source": [
    "x = np.linspace(-5.0,5.0,500) # An array of 500 evenly-spaced \n",
    "                              # observations from -5.0 to 5.0\n",
    "ydensity = stats.norm.pdf(x)  # The standard normal density\n",
    "ycdf = stats.norm.cdf(x)      # The standard normal CDF"
   ]
  },
  {
   "cell_type": "code",
   "execution_count": null,
   "metadata": {
    "collapsed": false,
    "slideshow": {
     "slide_type": "subslide"
    }
   },
   "outputs": [],
   "source": [
    "# The following should be self-explanatory.\n",
    "# Feel free to play around with them.\n",
    "plt.plot(x,ydensity)\n",
    "plt.ylim(0,max(ydensity)+0.1)\n",
    "plt.xlabel(r\"$x$\",fontsize = 16)\n",
    "plt.ylabel(r\"$f(x)$\",fontsize = 16)\n",
    "plt.show()\n",
    "# This can be executed to resize plots\n",
    "# Don't do it unless you really need to!\n",
    "# plt.rcParams['figure.figsize'] = (8,8)"
   ]
  },
  {
   "cell_type": "code",
   "execution_count": null,
   "metadata": {
    "collapsed": false,
    "slideshow": {
     "slide_type": "subslide"
    }
   },
   "outputs": [],
   "source": [
    "plt.plot(x,ycdf,'r')\n",
    "plt.ylim(-0.1,max(ycdf)+0.05)\n",
    "plt.xlabel(r\"$x$\",fontsize = 16)\n",
    "plt.ylabel(r\"$F(x)$\",fontsize = 16)\n",
    "plt.show()"
   ]
  },
  {
   "cell_type": "markdown",
   "metadata": {
    "slideshow": {
     "slide_type": "slide"
    }
   },
   "source": [
    "You can also create different objects of the same type if you need to work with them simultaneously:"
   ]
  },
  {
   "cell_type": "code",
   "execution_count": null,
   "metadata": {
    "collapsed": true
   },
   "outputs": [],
   "source": [
    "rv1 = stats.norm()\n",
    "rv2 = stats.norm(2,1.5) # Mean and standard deviation are passed\n",
    "rv3 = stats.norm(-1,0.5)"
   ]
  },
  {
   "cell_type": "code",
   "execution_count": null,
   "metadata": {
    "collapsed": false
   },
   "outputs": [],
   "source": [
    "plt.plot(x,rv1.pdf(x),'k')\n",
    "plt.plot(x,rv2.pdf(x),'k--') # Notice the line formatting commands\n",
    "plt.plot(x,rv3.pdf(x),'k-.')\n",
    "plt.xlabel(r\"$x$\",fontsize = 16)\n",
    "plt.ylabel(r\"$f(x)$\",fontsize = 16)\n",
    "plt.show()"
   ]
  },
  {
   "cell_type": "markdown",
   "metadata": {
    "slideshow": {
     "slide_type": "subslide"
    }
   },
   "source": [
    "You can get some of the moments like this:"
   ]
  },
  {
   "cell_type": "code",
   "execution_count": null,
   "metadata": {
    "collapsed": false,
    "slideshow": {
     "slide_type": "-"
    }
   },
   "outputs": [],
   "source": [
    "Mean,Variance = rv2.stats()\n",
    "print(Mean)\n",
    "print(Variance)"
   ]
  },
  {
   "cell_type": "markdown",
   "metadata": {
    "slideshow": {
     "slide_type": "subslide"
    }
   },
   "source": [
    "For the exponential distribution — whose density is $f(x)=\\lambda e^{-\\lambda x},~x\\geq 0,~\\lambda>0$ — we have:"
   ]
  },
  {
   "cell_type": "code",
   "execution_count": null,
   "metadata": {
    "collapsed": false,
    "slideshow": {
     "slide_type": "-"
    }
   },
   "outputs": [],
   "source": [
    "Lambda = 3\n",
    "expRV = stats.expon(scale = 1/Lambda) # This is how you can pass\n",
    "                                     # the rate parameter Lambda"
   ]
  },
  {
   "cell_type": "code",
   "execution_count": null,
   "metadata": {
    "collapsed": false
   },
   "outputs": [],
   "source": [
    "expRV.mean()"
   ]
  },
  {
   "cell_type": "code",
   "execution_count": null,
   "metadata": {
    "collapsed": false
   },
   "outputs": [],
   "source": [
    "expRV.median()"
   ]
  },
  {
   "cell_type": "code",
   "execution_count": null,
   "metadata": {
    "collapsed": false
   },
   "outputs": [],
   "source": [
    "expRV.var()"
   ]
  },
  {
   "cell_type": "code",
   "execution_count": null,
   "metadata": {
    "collapsed": false,
    "slideshow": {
     "slide_type": "subslide"
    }
   },
   "outputs": [],
   "source": [
    "x = np.arange(0,5,0.1)\n",
    "plt.plot(x,expRV.pdf(x))\n",
    "plt.show()"
   ]
  },
  {
   "cell_type": "code",
   "execution_count": null,
   "metadata": {
    "collapsed": true,
    "slideshow": {
     "slide_type": "subslide"
    }
   },
   "outputs": [],
   "source": [
    "# This is how you get percentiles\n",
    "p95 = expRV.ppf(0.95)\n",
    "p60 = expRV.ppf(0.60)\n",
    "p30 = expRV.ppf(0.30)\n",
    "p50 = expRV.median() # :-)"
   ]
  },
  {
   "cell_type": "code",
   "execution_count": null,
   "metadata": {
    "collapsed": false
   },
   "outputs": [],
   "source": [
    "x = np.arange(0,1.5,0.1)\n",
    "plt.plot(x,expRV.cdf(x),'k',linewidth=2)\n",
    "plt.axvline(x=p95,color='k',linestyle='--')\n",
    "# plt.axhline(y=0.95,color='k',linestyle='--') # If you insist...\n",
    "plt.axvline(x=p60,color='b',linestyle='--')\n",
    "plt.axvline(x=p50,color='g',linestyle='--')\n",
    "plt.axvline(x=p30,color='r',linestyle='--')\n",
    "plt.show()"
   ]
  },
  {
   "cell_type": "markdown",
   "metadata": {
    "slideshow": {
     "slide_type": "slide"
    }
   },
   "source": [
    "There are various discrete distributions as well. For example, the Poisson distribution — with probability mass function $\\dfrac{e^{-\\mu}\\mu^{k}}{k!},~k=0,1,2,\\ldots, \\mu>0$ — is created by means of a `poisson` object:"
   ]
  },
  {
   "cell_type": "code",
   "execution_count": null,
   "metadata": {
    "collapsed": true
   },
   "outputs": [],
   "source": [
    "mu = 2\n",
    "PoRV = stats.poisson(mu)"
   ]
  },
  {
   "cell_type": "code",
   "execution_count": null,
   "metadata": {
    "collapsed": false
   },
   "outputs": [],
   "source": [
    "k=np.arange(0,10)\n",
    "plt.bar(k,PoRV.pmf(k))\n",
    "plt.xlabel(r'$k$',fontsize = 16)\n",
    "plt.ylabel(r'PMF',fontsize = 16, rotation=0, horizontalalignment='right')\n",
    "plt.show()"
   ]
  },
  {
   "cell_type": "markdown",
   "metadata": {
    "slideshow": {
     "slide_type": "subslide"
    }
   },
   "source": [
    "We can also generate a random sample from a distribution:"
   ]
  },
  {
   "cell_type": "code",
   "execution_count": null,
   "metadata": {
    "collapsed": false,
    "slideshow": {
     "slide_type": "-"
    }
   },
   "outputs": [],
   "source": [
    "smpl = PoRV.rvs(30)\n",
    "print(smpl)"
   ]
  },
  {
   "cell_type": "code",
   "execution_count": null,
   "metadata": {
    "collapsed": false
   },
   "outputs": [],
   "source": [
    "plt.hist(smpl,bins=k)\n",
    "plt.ylim(0,11)\n",
    "plt.title(r'Histogram of 30 draws from a Poisson distribution with $\\mu=%d$'%(mu))\n",
    "plt.show()"
   ]
  },
  {
   "cell_type": "markdown",
   "metadata": {
    "slideshow": {
     "slide_type": "slide"
    }
   },
   "source": [
    "The SciPy documentation shows the following fancy way to get lists of the available distributions:"
   ]
  },
  {
   "cell_type": "code",
   "execution_count": null,
   "metadata": {
    "collapsed": true
   },
   "outputs": [],
   "source": [
    "dist_continu = [d for d in dir(stats) if isinstance(getattr(stats,d), stats.rv_continuous)]\n",
    "dist_discrete = [d for d in dir(stats) if isinstance(getattr(stats,d), stats.rv_discrete)]"
   ]
  },
  {
   "cell_type": "markdown",
   "metadata": {},
   "source": [
    "But you might decide to simply read the [docs](https://docs.scipy.org/doc/scipy/reference/stats.html) instead."
   ]
  },
  {
   "cell_type": "markdown",
   "metadata": {
    "slideshow": {
     "slide_type": "slide"
    }
   },
   "source": [
    "# Regression\n",
    "\n",
    "Here is a quick start on producing your own Monte Carlo simulations:"
   ]
  },
  {
   "cell_type": "code",
   "execution_count": null,
   "metadata": {
    "collapsed": true
   },
   "outputs": [],
   "source": [
    "# Produce a sample of Xs and Ys\n",
    "nobs = 40\n",
    "x = stats.norm.rvs(10,7,nobs) # We can pass the mean and stdev in this way as well\n",
    "eps = stats.norm.rvs(0,4,nobs)\n",
    "y = -2.0 + 3.0*x + eps\n",
    "\n",
    "# And regress them\n",
    "R = stats.linregress(x,y)\n",
    "fittedy = R.intercept + R.slope*x"
   ]
  },
  {
   "cell_type": "code",
   "execution_count": null,
   "metadata": {
    "collapsed": false,
    "slideshow": {
     "slide_type": "subslide"
    }
   },
   "outputs": [],
   "source": [
    "plt.scatter(x,y,color='r')\n",
    "plt.plot(x,fittedy,'k')\n",
    "plt.xlabel(r'$x$',fontsize = 16)\n",
    "plt.ylabel(r'$y$',fontsize = 16)\n",
    "plt.show()"
   ]
  },
  {
   "cell_type": "markdown",
   "metadata": {
    "slideshow": {
     "slide_type": "subslide"
    }
   },
   "source": [
    "Interestingly, the very last sentence of the [reference](https://docs.scipy.org/doc/scipy/reference/stats.html) for the `scipy.stats` module reads:\n",
    "> For many more stat related functions install the software R and the interface package rpy."
   ]
  },
  {
   "cell_type": "markdown",
   "metadata": {
    "slideshow": {
     "slide_type": "slide"
    }
   },
   "source": [
    "# Solving ordinary differential equations\n",
    "\n",
    "The `scipy.integrate` module contains various integration and ODE solution routines.\n",
    "\n",
    "Here is an example of solving the differential equation for the Solow growth model:\n",
    "$$\\dot{k} = s f(k) - (n+\\delta)k$$"
   ]
  },
  {
   "cell_type": "code",
   "execution_count": null,
   "metadata": {
    "collapsed": false,
    "slideshow": {
     "slide_type": "subslide"
    }
   },
   "outputs": [],
   "source": [
    "n = 0.02\n",
    "delta = 0.05\n",
    "s = 0.2\n",
    "A = 1\n",
    "alpha = 0.3\n",
    "k0 = 2\n",
    "Tmax = 150\n",
    "t = np.arange(0,Tmax,0.1)\n",
    "\n",
    "def f(k,TFP,al):\n",
    "    return TFP*k**al\n",
    "def rhs(k,t,s,n,delta,A,alpha):\n",
    "       return s*f(k,A,alpha)-(n+delta)*k\n",
    "k = sp.integrate.odeint(rhs,k0,t,args = (s,n,delta,A,alpha))\n",
    "\n",
    "plt.plot(t,k)\n",
    "plt.xlabel(r'$t$',fontsize = 15)\n",
    "plt.ylabel(r'$k$',fontsize = 15)\n",
    "plt.show()"
   ]
  },
  {
   "cell_type": "markdown",
   "metadata": {
    "slideshow": {
     "slide_type": "slide"
    }
   },
   "source": [
    "# Optimization and root finding\n",
    "\n",
    "The `scipy.optimize` module contains routines for optimization and root finding (i.e. solving nonlinear equations). \n",
    "\n",
    "As an illustration, notice that the path for capital per capita in the previous Solow model example tends to an equilibrium value and let us compute this steady state numerically.\n",
    "\n",
    "We shall do so by using the `brentq` function which\n",
    "> uses the classic Brent’s method to find a zero of the function f on the sign changing interval [a , b]. "
   ]
  },
  {
   "cell_type": "code",
   "execution_count": null,
   "metadata": {
    "collapsed": true,
    "slideshow": {
     "slide_type": "subslide"
    }
   },
   "outputs": [],
   "source": [
    "a = 0.0001\n",
    "b = np.max(k)*100\n",
    "kstar = sp.optimize.brentq(rhs,a,b,args=(t,s,n,delta,A,alpha))"
   ]
  },
  {
   "cell_type": "code",
   "execution_count": null,
   "metadata": {
    "collapsed": false
   },
   "outputs": [],
   "source": [
    "plt.plot(t,k,color = 'g')\n",
    "plt.axhline(y=kstar,color='k',linewidth = 2)\n",
    "plt.text(np.max(t)-2,kstar-0.3,r'$k^{*}$',fontsize=15)\n",
    "plt.ylim(np.min(k)-0.5,np.max(k)+0.5)\n",
    "plt.xlabel(r'$t$',fontsize = 15)\n",
    "plt.ylabel(r'$k$',fontsize = 15)\n",
    "plt.show()"
   ]
  },
  {
   "cell_type": "markdown",
   "metadata": {
    "slideshow": {
     "slide_type": "slide"
    }
   },
   "source": [
    "# Linear programming\n",
    "\n",
    "The linear programming (LP) problem has the general form \n",
    "$$\\min_{x} c \\cdot x$$\n",
    "s.t.\n",
    "$$A_{ub} x \\leq b_{ub}$$\n",
    "$$A_{eq} x = b_{eq}$$\n",
    "and, in some formulations, explicitly contains the additional constraints\n",
    "$$lb \\leq x \\leq ub.$$\n",
    "\n",
    "Here $c,x \\in \\mathbb{R}^n$, $A_{ub}\\in \\mathbb{R}^{m \\times n}$, $b_{ub}\\in \\mathbb{R}^m$, $A_{eq}\\in \\mathbb{R}^{k \\times n}$ and $b_{eq}\\in \\mathbb{R}^k$.\n",
    "\n",
    "**Note:** There are different formulations of a LP problem. The one presented here is chosen to conform to the SciPy convention."
   ]
  },
  {
   "cell_type": "markdown",
   "metadata": {
    "slideshow": {
     "slide_type": "slide"
    }
   },
   "source": [
    "The `scipy.optimize` function that solves a LP problem is called `linprog`."
   ]
  },
  {
   "cell_type": "code",
   "execution_count": null,
   "metadata": {
    "collapsed": true
   },
   "outputs": [],
   "source": [
    "from scipy.optimize import linprog"
   ]
  },
  {
   "cell_type": "markdown",
   "metadata": {},
   "source": [
    "In simplified form, its syntax is \n",
    "\n",
    "```linprog(c, A_ub=None, b_ub=None, A_eq=None, b_eq=None, bounds=None)\n",
    "```\n",
    "\n",
    "Here `A_ub` and `A_eq` are 2D arrays, and `c`, `b_ub` and `b_eq` are 1D arrays.  \n",
    "**Note:** Actually, they are array-like objects, which means that a list of lists should work for `A_ub` and `A_eq`. A safe choice would be to provide arrays directly.\n",
    "\n",
    "Bounds can be supplied as $n \\times 2$ array or a sequence of tuples."
   ]
  },
  {
   "cell_type": "markdown",
   "metadata": {
    "slideshow": {
     "slide_type": "slide"
    }
   },
   "source": [
    "Let us take the following LP problem:\n",
    "$$\\max_{x_1,x_2} x_1 + 2 x_2$$\n",
    "s.t.  \n",
    "$$x_1+x_2 \\leq 5,$$\n",
    "$$x_1\\geq 0,$$\n",
    "$$x_2\\geq 0.$$"
   ]
  },
  {
   "cell_type": "code",
   "execution_count": null,
   "metadata": {
    "collapsed": false
   },
   "outputs": [],
   "source": [
    "Aub = np.array([[1,1]])\n",
    "bub = np.array([5])\n",
    "c = np.array([1,2]) \n",
    "sol = linprog(-c, A_ub=Aub, b_ub=bub) # The solver minimizes, \n",
    "                                      # hence the minus\n",
    "sol"
   ]
  },
  {
   "cell_type": "markdown",
   "metadata": {
    "slideshow": {
     "slide_type": "slide"
    }
   },
   "source": [
    "Consider a modified version of the previous problem, where the objective function takes the form $$ x_1 + C_1 x_2.$$\n",
    "\n",
    "Try each of the following (a code cell with the necessary setup is available below) and interpret the results:\n",
    "- Change `C1` to a number between 0 and 1, noninclusive. How does the solution change and why?\n",
    "- Set `C1` equal to 1. \n",
    "   - What is the solution according to the solver? \n",
    "   - What's the value of the objective function? \n",
    "   - Use your NumPy skills to compute the value of the objective function for the vectors $x = (5,0)$, $x = (0,5)$ and $x = (2.5,2.5)$? Are these vectors feasible? What's going on?"
   ]
  },
  {
   "cell_type": "markdown",
   "metadata": {
    "slideshow": {
     "slide_type": "subslide"
    }
   },
   "source": [
    "- Change `C1` back to 2.0 and set a lower bound of 1 for $x_1$. What is the solution? How does the feasible set look?\n",
    "- Revert the lower bound for $x_1$ to zero and introduce upper bounds of 2.0 for both $x_1$ and $x_2$. What is the solution? What is the feasible set?\n",
    "- Set the lower bound for $x_2$ equal to 10. What is the solution? What is the feasible set?"
   ]
  },
  {
   "cell_type": "code",
   "execution_count": null,
   "metadata": {
    "collapsed": true,
    "slideshow": {
     "slide_type": "subslide"
    }
   },
   "outputs": [],
   "source": [
    "Aub = np.array([[1,1]])\n",
    "bub = np.array([5])\n",
    "C1 = 2.0\n",
    "c = np.array([1,C1])\n",
    "bnd = np.array([[0,np.inf],\n",
    "                [0,np.inf]])\n",
    "sol = linprog(-c, A_ub=Aub, b_ub=bub, bounds = bnd)\n",
    "sol"
   ]
  },
  {
   "cell_type": "markdown",
   "metadata": {
    "slideshow": {
     "slide_type": "slide"
    }
   },
   "source": [
    "Let us take the modified LP problem:\n",
    "$$\\max_{x_1,x_2} x_1 + C_1 x_2$$\n",
    "s.t.  \n",
    "$$x_1+x_2 \\leq 5,$$\n",
    "$$1.5 x_1+x_2 \\leq 6,$$\n",
    "$$x_1\\geq 0,$$\n",
    "$$x_2\\geq 0.$$"
   ]
  },
  {
   "cell_type": "markdown",
   "metadata": {
    "slideshow": {
     "slide_type": "subslide"
    }
   },
   "source": [
    "Try each of the following (a code cell with the necessary setup is available below) and interpret the results:\n",
    "- What is the solution of the model for `C1` equal to 0.2, 1.0 and 5.0?\n",
    "- Solve $$\\min_{x_1,x_2} x_1 + C_1 x_2$$ s.t. the same constraints.\n",
    "- For the preceding minimization problem, remove the lower bounds of 0 on the variables and solve it."
   ]
  },
  {
   "cell_type": "code",
   "execution_count": null,
   "metadata": {
    "collapsed": true,
    "slideshow": {
     "slide_type": "subslide"
    }
   },
   "outputs": [],
   "source": [
    "Aub = np.array([[1.0,1.0],\n",
    "                [1.5,1.0]])\n",
    "bub = np.array([5,6])\n",
    "C1 = 2.0\n",
    "c = np.array([1,C1])\n",
    "bnd = np.array([[0,np.inf],\n",
    "                [0,np.inf]])\n",
    "sol = linprog(-c, A_ub=Aub, b_ub=bub, bounds = bnd)\n",
    "sol"
   ]
  },
  {
   "cell_type": "markdown",
   "metadata": {
    "slideshow": {
     "slide_type": "slide"
    }
   },
   "source": [
    "# Some of the general principles of LP problems\n",
    "\n",
    "- The feasible set (if nonempty) is a convex polyhedron.\n",
    "- The solution (if there is one) is attained at a vertex or a convex combination of vertices.\n",
    "- The level curves of the objective function are straight lines.\n",
    "\n",
    "**Note:** For the numerical illustration that follows it is probably advisable to exit presentation mode."
   ]
  },
  {
   "cell_type": "code",
   "execution_count": null,
   "metadata": {
    "collapsed": false,
    "slideshow": {
     "slide_type": "slide"
    }
   },
   "outputs": [],
   "source": [
    "# The LP problem objects\n",
    "Aub = np.array([[1.0,1.0],\n",
    "                [1.5,1.0]])\n",
    "bub = np.array([5,6])\n",
    "c = np.array([1,2])\n",
    "\n",
    "# Auxiliary parameters\n",
    "x1Lwr = -2 # Lower bound for plotting x1\n",
    "x1Uppr = 8 # Upper bound for plotting x1\n",
    "ObjLevelLwr = 1 # Lower bound for objective function value\n",
    "                # used to define a set of level curves (lines)\n",
    "ObjLevelUppr = 8 # Upper bound for objective function value\n",
    "NrLevelLines = 5 # Number of level lines to be plotted\n",
    "\n",
    "def ComputeLevelSet(c,l,npoints=100):\n",
    "    X = np.linspace(l/c[0],0,npoints)\n",
    "    Y = np.linspace(0,l/c[1],npoints)\n",
    "    return X,Y\n",
    "def ComputeConstraint(x1,A,b):\n",
    "    \"\"\"Solves the line equation A[0]*x1 + A[1]*x2 = b\n",
    "       for the values of x2 given a range of values for x1\"\"\"\n",
    "    return b/A[1]-A[0]/A[1]*x1\n",
    "def ComputeVert(A,b):\n",
    "    # The implementation below is pedestrian but hopefully transparent\n",
    "    x0y0 = np.zeros(2) # the origin\n",
    "    x0yn = np.array([0, min(b[0]/Aub[0,1],b[1]/Aub[1,1])])\n",
    "    xny0 = np.array([min(b[0]/Aub[0,0],b[1]/Aub[1,0]),0])\n",
    "    xnyn = sp.linalg.solve(A,b) # The intersection of the two lines\n",
    "    stk = np.vstack((x0y0,x0yn,xnyn,xny0))\n",
    "    return stk[:,0],stk[:,1] # x1 and x2 respectively\n",
    "\n",
    "x1 = np.linspace(x1Lwr,x1Uppr)\n",
    "yI1 = ComputeConstraint(x1,Aub[0,:],bub[0])\n",
    "yI2 = ComputeConstraint(x1,Aub[1,:],bub[1])\n",
    "Xv,Yv = ComputeVert(Aub,bub)\n",
    "\n",
    "plt.plot(x1,yI1,'k',linewidth = 2)\n",
    "plt.plot(x1,yI2,'k',linewidth = 2)\n",
    "plt.axvline(x=0,color='k',linewidth = 2)\n",
    "plt.axhline(y=0,color='k',linewidth = 2)\n",
    "plt.fill(Xv,Yv,color = 'g', alpha = 0.5)\n",
    "levels = np.linspace(ObjLevelLwr,ObjLevelUppr,NrLevelLines)\n",
    "for l in levels:\n",
    "    xO,yO = ComputeLevelSet(c,l,npoints = x1.size)\n",
    "    plt.plot(xO,yO,'r',alpha=l/max(levels))\n",
    "plt.xlabel(r'$x_1$',fontsize=16)\n",
    "plt.ylabel(r'$x_2$',fontsize=16)\n",
    "plt.show()"
   ]
  }
 ],
 "metadata": {
  "celltoolbar": "Slideshow",
  "kernelspec": {
   "display_name": "Python 3",
   "language": "python",
   "name": "python3"
  },
  "language_info": {
   "codemirror_mode": {
    "name": "ipython",
    "version": 3
   },
   "file_extension": ".py",
   "mimetype": "text/x-python",
   "name": "python",
   "nbconvert_exporter": "python",
   "pygments_lexer": "ipython3",
   "version": "3.5.2"
  }
 },
 "nbformat": 4,
 "nbformat_minor": 1
}
