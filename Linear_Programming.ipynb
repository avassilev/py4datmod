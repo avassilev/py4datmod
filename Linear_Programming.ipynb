{
 "cells": [
  {
   "cell_type": "markdown",
   "metadata": {
    "slideshow": {
     "slide_type": "slide"
    }
   },
   "source": [
    "<center>\n",
    "    \n",
    "# R406: Applied Economic Modelling with Python\n",
    "\n",
    "</center>\n",
    "\n",
    "<br> <br> \n",
    "\n",
    "<center>\n",
    "\n",
    "## Numerical linear programming\n",
    "\n",
    "</center>\n",
    "\n",
    "<br><br> \n",
    "\n",
    "<center>\n",
    "<b> Andrey Vassilev </b>\n",
    "</center>\n",
    "\n",
    " "
   ]
  },
  {
   "cell_type": "markdown",
   "metadata": {
    "slideshow": {
     "slide_type": "slide"
    }
   },
   "source": [
    "# Linear programming\n",
    "\n",
    "The linear programming (LP) problem has the general form \n",
    "$$\\min_{x} c \\cdot x$$\n",
    "s.t.\n",
    "$$A_{ub} x \\leq b_{ub}$$\n",
    "$$A_{eq} x = b_{eq}$$\n",
    "and, in some formulations, explicitly contains the additional constraints\n",
    "$$lb \\leq x \\leq ub.$$\n",
    "\n",
    "Here $c,x \\in \\mathbb{R}^n$, $A_{ub}\\in \\mathbb{R}^{m \\times n}$, $b_{ub}\\in \\mathbb{R}^m$, $A_{eq}\\in \\mathbb{R}^{k \\times n}$ and $b_{eq}\\in \\mathbb{R}^k$.\n",
    "\n",
    "**Note:** There are different formulations of a LP problem. The one presented here is chosen to conform to the SciPy convention."
   ]
  },
  {
   "cell_type": "markdown",
   "metadata": {
    "slideshow": {
     "slide_type": "slide"
    }
   },
   "source": [
    "The `scipy.optimize` function that solves a LP problem is called `linprog`."
   ]
  },
  {
   "cell_type": "code",
   "execution_count": null,
   "metadata": {},
   "outputs": [],
   "source": [
    "import numpy as np\n",
    "import scipy as sp\n",
    "import matplotlib.pyplot as plt\n",
    "from scipy.optimize import linprog, linear_sum_assignment"
   ]
  },
  {
   "cell_type": "markdown",
   "metadata": {},
   "source": [
    "In simplified form, its syntax is \n",
    "\n",
    "```linprog(c, A_ub=None, b_ub=None, A_eq=None, b_eq=None, bounds=None)\n",
    "```\n",
    "\n",
    "Here `A_ub` and `A_eq` are 2D arrays, and `c`, `b_ub` and `b_eq` are 1D arrays.  \n",
    "**Note:** Actually, they are array-like objects, which means that a list of lists should work for `A_ub` and `A_eq`. A safe choice would be to provide arrays directly.\n",
    "\n",
    "Bounds can be supplied as $n \\times 2$ array or a sequence of tuples."
   ]
  },
  {
   "cell_type": "markdown",
   "metadata": {
    "slideshow": {
     "slide_type": "slide"
    }
   },
   "source": [
    "Let us take the following LP problem:\n",
    "$$\\max_{x_1,x_2} x_1 + 2 x_2$$\n",
    "s.t.  \n",
    "$$x_1+x_2 \\leq 5,$$\n",
    "$$x_1\\geq 0,$$\n",
    "$$x_2\\geq 0.$$"
   ]
  },
  {
   "cell_type": "code",
   "execution_count": null,
   "metadata": {},
   "outputs": [],
   "source": [
    "Aub = np.array([[1,1]])\n",
    "bub = np.array([5])\n",
    "c = np.array([1,2]) \n",
    "sol = linprog(-c, A_ub=Aub, b_ub=bub) # The solver minimizes, \n",
    "                                      # hence the minus\n",
    "sol"
   ]
  },
  {
   "cell_type": "markdown",
   "metadata": {
    "slideshow": {
     "slide_type": "slide"
    }
   },
   "source": [
    "Consider a modified version of the previous problem, where the objective function takes the form $$ x_1 + C_1 x_2.$$\n",
    "\n",
    "Try each of the following (a code cell with the necessary setup is available below) and interpret the results:\n",
    "- Change `C1` to a number between 0 and 1, noninclusive. How does the solution change and why?\n",
    "- Set `C1` equal to 1. \n",
    "   - What is the solution according to the solver? \n",
    "   - What's the value of the objective function? \n",
    "   - Use your NumPy skills to compute the value of the objective function for the vectors $x = (5,0)$, $x = (0,5)$ and $x = (2.5,2.5)$? Are these vectors feasible? What's going on?"
   ]
  },
  {
   "cell_type": "markdown",
   "metadata": {
    "slideshow": {
     "slide_type": "subslide"
    }
   },
   "source": [
    "- Change `C1` back to 2.0 and set a lower bound of 1 for $x_1$. What is the solution? What does the feasible set look like?\n",
    "- Revert the lower bound for $x_1$ to zero and introduce upper bounds of 2.0 for both $x_1$ and $x_2$. What is the solution? What is the feasible set?\n",
    "- Set the lower bound for $x_2$ equal to 10. What is the solution? What is the feasible set?"
   ]
  },
  {
   "cell_type": "code",
   "execution_count": null,
   "metadata": {
    "slideshow": {
     "slide_type": "subslide"
    }
   },
   "outputs": [],
   "source": [
    "Aub = np.array([[1,1]])\n",
    "bub = np.array([5])\n",
    "C1 = 2.0\n",
    "c = np.array([1,C1])\n",
    "bnd = np.array([[0,None],\n",
    "                [0,None]])\n",
    "sol = linprog(-c, A_ub = Aub, b_ub = bub, bounds = bnd)\n",
    "sol"
   ]
  },
  {
   "cell_type": "markdown",
   "metadata": {
    "slideshow": {
     "slide_type": "slide"
    }
   },
   "source": [
    "Let us take the modified LP problem:\n",
    "$$\\max_{x_1,x_2} x_1 + C_1 x_2$$\n",
    "s.t.  \n",
    "$$x_1+x_2 \\leq 5,$$\n",
    "$$1.5 x_1+x_2 \\leq 6,$$\n",
    "$$x_1\\geq 0,$$\n",
    "$$x_2\\geq 0.$$"
   ]
  },
  {
   "cell_type": "markdown",
   "metadata": {
    "slideshow": {
     "slide_type": "subslide"
    }
   },
   "source": [
    "Try each of the following (a code cell with the necessary setup is available below) and interpret the results:\n",
    "- What is the solution of the model for `C1` equal to 0.2, 1.0 and 5.0?\n",
    "- Solve $$\\min_{x_1,x_2} x_1 + C_1 x_2$$ s.t. the same constraints.\n",
    "- For the preceding minimization problem, remove the lower bounds of 0 on the variables and solve it."
   ]
  },
  {
   "cell_type": "code",
   "execution_count": null,
   "metadata": {
    "slideshow": {
     "slide_type": "subslide"
    }
   },
   "outputs": [],
   "source": [
    "Aub = np.array([[1.0,1.0],\n",
    "                [1.5,1.0]])\n",
    "bub = np.array([5,6])\n",
    "C1 = 2.0\n",
    "c = np.array([1,C1])\n",
    "bnd = np.array([[0,None],\n",
    "                [0,None]])\n",
    "sol = linprog(-c, A_ub = Aub, b_ub = bub, bounds = bnd)\n",
    "sol"
   ]
  },
  {
   "cell_type": "markdown",
   "metadata": {
    "slideshow": {
     "slide_type": "slide"
    }
   },
   "source": [
    "# Some of the general principles of LP problems\n",
    "\n",
    "- The feasible set (if nonempty) is a convex polyhedron.\n",
    "- The solution (if there is one) is attained at a vertex or a convex combination of vertices.\n",
    "- The level curves of the objective function are straight lines."
   ]
  },
  {
   "cell_type": "code",
   "execution_count": null,
   "metadata": {
    "slideshow": {
     "slide_type": "slide"
    }
   },
   "outputs": [],
   "source": [
    "# The LP problem objects\n",
    "Aub = np.array([[1.0,1.0],\n",
    "                [1.5,1.0]])\n",
    "bub = np.array([5,6])\n",
    "c = np.array([1,2])\n",
    "\n",
    "# Auxiliary parameters\n",
    "x1Lwr = -2 # Lower bound for plotting x1\n",
    "x1Uppr = 8 # Upper bound for plotting x1\n",
    "ObjLevelLwr = 1 # Lower bound for objective function value\n",
    "                # used to define a set of level curves (lines)\n",
    "ObjLevelUppr = 8 # Upper bound for objective function value\n",
    "NrLevelLines = 5 # Number of level lines to be plotted\n",
    "\n",
    "def ComputeLevelSet(c,l,npoints=100):\n",
    "    X = np.linspace(l/c[0],0,npoints)\n",
    "    Y = np.linspace(0,l/c[1],npoints)\n",
    "    return X,Y\n",
    "def ComputeConstraint(x1,A,b):\n",
    "    \"\"\"Solves the line equation A[0]*x1 + A[1]*x2 = b\n",
    "       for the values of x2 given a range of values for x1\"\"\"\n",
    "    return b/A[1]-A[0]/A[1]*x1\n",
    "def ComputeVert(A,b):\n",
    "    # The implementation below is pedestrian but hopefully transparent\n",
    "    x0y0 = np.zeros(2) # the origin\n",
    "    x0yn = np.array([0, min(b[0]/Aub[0,1],b[1]/Aub[1,1])])\n",
    "    xny0 = np.array([min(b[0]/Aub[0,0],b[1]/Aub[1,0]),0])\n",
    "    xnyn = sp.linalg.solve(A,b) # The intersection of the two lines\n",
    "    stk = np.vstack((x0y0,x0yn,xnyn,xny0))\n",
    "    return stk[:,0],stk[:,1] # x1 and x2 respectively\n",
    "\n",
    "x1 = np.linspace(x1Lwr,x1Uppr)\n",
    "yI1 = ComputeConstraint(x1,Aub[0,:],bub[0])\n",
    "yI2 = ComputeConstraint(x1,Aub[1,:],bub[1])\n",
    "Xv,Yv = ComputeVert(Aub,bub)\n",
    "\n",
    "plt.plot(x1,yI1,'k',linewidth = 2)\n",
    "plt.plot(x1,yI2,'k',linewidth = 2)\n",
    "plt.axvline(x=0,color='k',linewidth = 2)\n",
    "plt.axhline(y=0,color='k',linewidth = 2)\n",
    "plt.fill(Xv,Yv,color = 'g', alpha = 0.5)\n",
    "levels = np.linspace(ObjLevelLwr,ObjLevelUppr,NrLevelLines)\n",
    "for l in levels:\n",
    "    xO,yO = ComputeLevelSet(c,l,npoints = x1.size)\n",
    "    plt.plot(xO,yO,'r',alpha=l/max(levels))\n",
    "plt.xlabel(r'$x_1$',fontsize=16)\n",
    "plt.ylabel(r'$x_2$',fontsize=16)\n",
    "plt.show()"
   ]
  },
  {
   "cell_type": "markdown",
   "metadata": {
    "slideshow": {
     "slide_type": "slide"
    }
   },
   "source": [
    "# Transportation problems\n",
    "\n",
    "- There are $m$ origins that contain various amounts of a commodity that must be shipped to $n$ destinations to meet demand requirements.\n",
    "- Origin $i$ supplies an amount $a_i \\geq 0$, and destination $j$ demands amount $b_j \\geq 0$.\n",
    "- Shipping of the commodity from origin $i$ to destination $j$ incurs a cost $c_{ij} \\geq 0$ per unit of commodity transported.\n",
    "- The problem is to find the shipping pattern between origins and destinations that meets demands given available supply and minimizes the total shipping cost.\n",
    "- A problem is called *balanced* if total supply equals total demand: $$\\sum_{i=1}^m a_i = \\sum_{j=1}^n b_j.$$"
   ]
  },
  {
   "cell_type": "markdown",
   "metadata": {
    "slideshow": {
     "slide_type": "subslide"
    }
   },
   "source": [
    "- Formally, the transportation problem is to find $x_{ij},~i=1,\\ldots,m,~j=1,\\ldots,n$ that minimize\n",
    "$$ \\sum_{i=1}^m \\sum_{j=1}^n c_{ij}x_{ij}$$\n",
    "subject to\n",
    "$$\\sum_{j=1}^n x_{ij} = a_i,~i=1,\\ldots,m,$$\n",
    "$$\\sum_{i=1}^m x_{ij} = b_j,~j=1,\\ldots,n,$$\n",
    "$$x_{ij}\\geq 0,~\\forall i,j.$$\n",
    "- **By virtue of its structure, a transportation problem always has an optimal solution.**"
   ]
  },
  {
   "cell_type": "markdown",
   "metadata": {
    "slideshow": {
     "slide_type": "subslide"
    }
   },
   "source": [
    "The equality constraints can be written more transparently as $$\\begin{array}{llllllllllllll}\n",
    "\tx_{11} & +x_{12} & +\\cdots & +x_{1n} &         &         &                     &         &         &         &         &         & =      & a_1 \\\\\n",
    "\t       &         &         &         & x_{21}  & +x_{22} & +\\cdots             & +x_{2n} &         &         &         &         & =      & a_2 \\\\\n",
    "\t       &         &         &         &         &         &                     &         &         &         &         &         & \\vdots &     \\\\\n",
    "\t       &         &         &         &         &         &                     &         & x_{m1}  & +x_{m2} & +\\cdots & +x_{mn} & =      & a_m \\\\\n",
    "\t\\hline\n",
    "\tx_{11} &         &         &         & +x_{21} &         & {\\phantom{+}}\\cdots &         & +x_{m1} &         &         &         & =      & b_1 \\\\\n",
    "\t       & x_{12}  &         &         &         & +x_{22} &                     &         &         & +x_{m2} &         &         & =      & b_2 \\\\\n",
    "\t       &         &         &         &         &         &                     &         &         &         &         &         & \\vdots &     \\\\\n",
    "\t       &         &         & +x_{1n} &         &         &                     & +x_{2n} &         &         &         & +x_{mn} & =      & b_n\n",
    "\\end{array}$$"
   ]
  },
  {
   "cell_type": "markdown",
   "metadata": {
    "slideshow": {
     "slide_type": "subslide"
    }
   },
   "source": [
    "In matrix notation, the preceding takes the form \n",
    "$$A_{eq}x=b_{eq} \\qquad \\text{ with } \\qquad A_{eq}=\\left[\\begin{array}{cccc}\n",
    "\\mathbf{1'} &  &  &  \\\\ \n",
    " & \\mathbf{1'} &  &  \\\\ \n",
    " &  & \\vdots &  \\\\ \n",
    " &  &  & \\mathbf{1'} \\\\ \n",
    "\\mathbf{I} & \\mathbf{I} & \\cdots  & \\mathbf{I} \n",
    "\\end{array}\\right],\\quad x = \\left[\\begin{array}{c} x_{11}\\\\\n",
    "x_{12} \\\\\n",
    "\\vdots\\\\\n",
    "x_{1n}\\\\\n",
    "x_{21}\\\\\n",
    "\\vdots\\\\\n",
    "x_{mn}\n",
    "\\end{array}\\right], \\quad b_{eq} = \\left[\\begin{array}{c}a_1\\\\\n",
    "\\vdots\\\\\n",
    "a_m\\\\\n",
    "b_1\\\\\n",
    "\\vdots\\\\\n",
    "b_n\n",
    "\\end{array}\\right],$$\n",
    "where $\\mathbf{1}$ is an $n$-dimensional vector of ones and $\\mathbf{I}$ is the $n\\times n$ identity matrix."
   ]
  },
  {
   "cell_type": "markdown",
   "metadata": {
    "slideshow": {
     "slide_type": "subslide"
    }
   },
   "source": [
    "Similarly, the objective function can equivalently be written as $$c \\cdot x $$ where $x$ was defined above and $$c = \\left[\\begin{array}{c} c_{11}\\\\\n",
    "c_{12} \\\\\n",
    "\\vdots\\\\\n",
    "c_{1n}\\\\\n",
    "c_{21}\\\\\n",
    "\\vdots\\\\\n",
    "c_{mn}\n",
    "\\end{array}\\right].$$\n"
   ]
  },
  {
   "cell_type": "code",
   "execution_count": null,
   "metadata": {
    "slideshow": {
     "slide_type": "slide"
    }
   },
   "outputs": [],
   "source": [
    "def balanced_transportation_problem(a,b,C):\n",
    "    import numpy as np\n",
    "    import scipy as sp\n",
    "    from scipy.optimize import linprog\n",
    "    \n",
    "    m = a.shape[0]\n",
    "    n = b.shape[0]\n",
    "    \n",
    "    if np.any(a<0) or np.any(b<0) or np.any(C<0):\n",
    "        raise Exception(\"Negative entries encountered.\")\n",
    "    if not a.shape[0] == C.shape[0]:\n",
    "        raise Exception(\"Array shapes do not match.\")\n",
    "    if not b.shape[0] == C.shape[1]:\n",
    "        raise Exception(\"Array shapes do not match.\")\n",
    "    if not np.sum(a) == np.sum(b):\n",
    "        raise Exception(\"Problem is not balanced.\")\n",
    "     \n",
    "    A_eq = np.vstack([np.array([np.roll(np.hstack([np.ones(n),np.zeros((m-1)*n)]),i) for i in range(0,m*n,n)]),\n",
    "             np.tile(np.eye(n),m)])\n",
    "    b_eq = np.hstack([a,b])\n",
    "    c = C.flatten()\n",
    "    bnd = (0,None)\n",
    "    sol = linprog(c, A_eq = A_eq, b_eq = b_eq, bounds = bnd)\n",
    "    if sol.status == 0:\n",
    "        return (np.reshape(sol.x, C.shape),sol.message)\n",
    "    else:\n",
    "        return (None,sol.message)"
   ]
  },
  {
   "cell_type": "code",
   "execution_count": null,
   "metadata": {
    "slideshow": {
     "slide_type": "subslide"
    }
   },
   "outputs": [],
   "source": [
    "# Source: David G. Luenberger, Yinyu Ye. 2008. \"Linear and Nonlinear Programming\". 3rd ed. Springer. p. 176\n",
    "\n",
    "a = np.array([25,25,50])\n",
    "b = np.array([15, 20, 30, 35])\n",
    "C = np.array([[10, 5, 6, 7],\n",
    "              [8, 2, 7, 6],\n",
    "              [9, 3, 4, 8]])\n",
    "\n",
    "x,s = balanced_transportation_problem(a,b,C)    \n",
    "print(\"Status:\",s)\n",
    "print(\"Solution:\",x,sep='\\n')"
   ]
  },
  {
   "cell_type": "code",
   "execution_count": null,
   "metadata": {
    "slideshow": {
     "slide_type": "subslide"
    }
   },
   "outputs": [],
   "source": [
    "# Source: David G. Luenberger, Yinyu Ye. 2008. \"Linear and Nonlinear Programming\". 3rd ed. Springer. p. 147\n",
    "\n",
    "a = np.array([30, 80, 10, 60])\n",
    "b = np.array([10, 50, 20, 80, 20])\n",
    "C = np.array([[3, 4, 6, 8, 9],\n",
    "              [2, 2, 4, 5, 5],\n",
    "              [2, 2, 2, 3, 2],\n",
    "              [3, 3, 2, 4, 2]])\n",
    "\n",
    "x,s = balanced_transportation_problem(a,b,C)    \n",
    "print(\"Status:\",s)\n",
    "print(\"Solution:\",x,sep='\\n')"
   ]
  },
  {
   "cell_type": "markdown",
   "metadata": {
    "slideshow": {
     "slide_type": "slide"
    }
   },
   "source": [
    "# Linear sum assignment problems\n",
    "\n",
    "- A special class of problems deals with how to optimally allocate $n$ objects to $n$ categories so as to minimize the total cost associated with each allocation choice. This can be viewed as a simplified version of a transportation problem.\n",
    "- The classical example is assigning $n$ workers to $n$ jobs.\n",
    "- Other examples:\n",
    "  - Allocating taxis to customers depending on distance;\n",
    "  - Assigning social security workers to districts;\n",
    "  - Assigning teachers to classes."
   ]
  },
  {
   "cell_type": "markdown",
   "metadata": {
    "slideshow": {
     "slide_type": "subslide"
    }
   },
   "source": [
    "## Formulation\n",
    "\n",
    "- Formally, the linear sum assignment problem is to find $x_{ij},~i=1,\\ldots,n,~j=1,\\ldots,n$ that minimize\n",
    "$$ \\sum_{i=1}^n \\sum_{j=1}^n c_{ij}x_{ij}$$\n",
    "subject to\n",
    "$$\\sum_{j=1}^n x_{ij} = 1,~i=1,\\ldots,n,$$\n",
    "$$\\sum_{i=1}^n x_{ij} = 1,~j=1,\\ldots,n,$$\n",
    "$$x_{ij}\\geq 0,~\\forall i,j.$$"
   ]
  },
  {
   "cell_type": "markdown",
   "metadata": {
    "slideshow": {
     "slide_type": "subslide"
    }
   },
   "source": [
    "- Some formulations explicitly require that $$x_{ij} \\in \\{0,1\\},~\\forall i,j.$$\n",
    "- However, it can be shown that the solution will have this structure without imposing the requirement explicitly."
   ]
  },
  {
   "cell_type": "markdown",
   "metadata": {
    "slideshow": {
     "slide_type": "slide"
    }
   },
   "source": [
    "## Example 1\n",
    "\n",
    "This is the [example](https://docs.scipy.org/doc/scipy/reference/generated/scipy.optimize.linear_sum_assignment.html) from the Scipy docs. \n",
    "\n",
    "Let the cost matrix be $$\\left [ \\begin{matrix}\n",
    "4 & 1 & 3 \\\\ \n",
    "2 & 0 & 5 \\\\ \n",
    "3 & 2 & 1\n",
    "\\end{matrix} \\right ] .$$\n",
    "\n",
    "Find the optimal assignment and the corresponding minimum cost."
   ]
  },
  {
   "cell_type": "code",
   "execution_count": null,
   "metadata": {
    "slideshow": {
     "slide_type": "-"
    }
   },
   "outputs": [],
   "source": [
    "cost1 = np.array([[4, 1, 3], [2, 0, 5], [3, 2, 2]])\n",
    "row_ind, col_ind = linear_sum_assignment(cost1)\n",
    "\n",
    "print('Row indexes:',row_ind)\n",
    "print('Column indexes:',col_ind)"
   ]
  },
  {
   "cell_type": "markdown",
   "metadata": {
    "slideshow": {
     "slide_type": "subslide"
    }
   },
   "source": [
    "Here is a more intuitive way to inspect the solution:"
   ]
  },
  {
   "cell_type": "code",
   "execution_count": null,
   "metadata": {
    "slideshow": {
     "slide_type": "-"
    }
   },
   "outputs": [],
   "source": [
    "S = np.zeros_like(cost1)\n",
    "S[row_ind, col_ind] = 1\n",
    "print('Solution:', S, sep = \"\\n\")"
   ]
  },
  {
   "cell_type": "markdown",
   "metadata": {},
   "source": [
    "This is how we can construct the optimal (minimum) cost:"
   ]
  },
  {
   "cell_type": "code",
   "execution_count": null,
   "metadata": {
    "slideshow": {
     "slide_type": "-"
    }
   },
   "outputs": [],
   "source": [
    "mincost = cost1[row_ind, col_ind].sum()\n",
    "print(f'Minimum cost: {mincost:.1f}')"
   ]
  },
  {
   "cell_type": "markdown",
   "metadata": {
    "slideshow": {
     "slide_type": "slide"
    }
   },
   "source": [
    "## Example 2\n",
    "\n",
    "Source: https://www.slideshare.net/mobile/abubashars/assignment-problem-18034506\n",
    "\n",
    "There are four workers who have to be assigned to four separate tasks. Each of them can complete any of the tasks but this will be associated with different costs. The costs are given by the following matrix, with rows corresponding to workers and columns – to tasks: \n",
    "$$\\left [ \\begin{matrix}\n",
    "20 & 25 & 22 & 28\\\\ \n",
    "15 & 18 & 23 & 17 \\\\ \n",
    "19 & 17 & 21 & 24 \\\\ \n",
    "25 & 23 & 24 & 24\n",
    "\\end{matrix} \\right ] .$$\n",
    "\n",
    "Find an assignment that minimizes the total cost."
   ]
  },
  {
   "cell_type": "code",
   "execution_count": null,
   "metadata": {
    "slideshow": {
     "slide_type": "slide"
    }
   },
   "outputs": [],
   "source": [
    "cost2 = np.array([[20,25,22,28],\n",
    "                 [15,18,23,17],\n",
    "                 [19,17,21,24],\n",
    "                 [25,23,24,24]])\n",
    "row_ind, col_ind = linear_sum_assignment(cost2)\n",
    "\n",
    "S = np.zeros_like(cost2)\n",
    "S[row_ind, col_ind] = 1\n",
    "print('Solution:', S, sep = \"\\n\")\n",
    "\n",
    "print(f'Minimum cost: {cost2[row_ind, col_ind].sum():.1f}') "
   ]
  },
  {
   "cell_type": "markdown",
   "metadata": {
    "slideshow": {
     "slide_type": "subslide"
    }
   },
   "source": [
    "The solution is not necessarily unique:"
   ]
  },
  {
   "cell_type": "code",
   "execution_count": null,
   "metadata": {},
   "outputs": [],
   "source": [
    "S = np.zeros_like(cost2)\n",
    "S[row_ind, [0,3,1,2]] = 1\n",
    "print('Candidate solution:', S, sep = \"\\n\")\n",
    "\n",
    "print(f'Associated cost: {cost2[row_ind, [0,3,1,2]].sum():.1f}')"
   ]
  }
 ],
 "metadata": {
  "celltoolbar": "Slideshow",
  "kernelspec": {
   "display_name": "Python 3",
   "language": "python",
   "name": "python3"
  },
  "language_info": {
   "codemirror_mode": {
    "name": "ipython",
    "version": 3
   },
   "file_extension": ".py",
   "mimetype": "text/x-python",
   "name": "python",
   "nbconvert_exporter": "python",
   "pygments_lexer": "ipython3",
   "version": "3.6.7"
  },
  "livereveal": {
   "auto_select": "code",
   "auto_select_fragment": true,
   "scroll": true,
   "start_slideshow_at": "selected"
  }
 },
 "nbformat": 4,
 "nbformat_minor": 1
}
