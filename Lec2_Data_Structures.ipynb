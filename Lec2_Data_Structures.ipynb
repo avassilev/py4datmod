{
 "cells": [
  {
   "cell_type": "markdown",
   "metadata": {
    "slideshow": {
     "slide_type": "slide"
    }
   },
   "source": [
    "<center> \n",
    "# R406: Using Python for data analysis and modelling\n",
    "\n",
    "<br> <br> \n",
    "\n",
    "## Lecture 2: Basic Data Structures in Python\n",
    "\n",
    "<br>\n",
    "\n",
    "<center> **Andrey Vassilev**\n",
    "\n",
    "<br> \n",
    "\n",
    "<center> **2016/2017**\n",
    " "
   ]
  },
  {
   "cell_type": "markdown",
   "metadata": {
    "slideshow": {
     "slide_type": "slide"
    }
   },
   "source": [
    "# Outline\n",
    "\n",
    "1. Basic Python types (some familiar): int, float, complex, bool, str, NoneType\n",
    " - Shortcut operators: +=, -=\n",
    " - comparison operators\n",
    " - logical operators\n",
    "2. Mutable and immutable types\n",
    "3. Lists\n",
    " - indexing,slicing, concatenation, appending an element, deleting an element\n",
    " - identity and membership operations\n",
    "4. Tuples\n",
    " - unpacking\n",
    "5. Sets\n",
    " - logical operations on sets; using sets to get unique elements; \n",
    " \n",
    "Type conversions: see where it fits best"
   ]
  },
  {
   "cell_type": "markdown",
   "metadata": {
    "slideshow": {
     "slide_type": "slide"
    }
   },
   "source": [
    "Review\n",
    "\n",
    "Last time we learned about some Python types and the corresponding assignment operations: integer types (`intvar=5`), floats (`floatvar=5.0`) and strings (`strvar=\"five\"`).\n",
    "\n",
    "A frequently encountered operation is to update a variable according to some rule (e.g. increment its value by 1).\n",
    "\n",
    "It can be done as follows:"
   ]
  },
  {
   "cell_type": "code",
   "execution_count": 53,
   "metadata": {
    "collapsed": false
   },
   "outputs": [
    {
     "name": "stdout",
     "output_type": "stream",
     "text": [
      "First x equals 3.\n",
      "Then x equals 4.\n"
     ]
    }
   ],
   "source": [
    "x=3\n",
    "print(\"First x equals %d.\"%(x))\n",
    "x=x+1\n",
    "print(\"Then x equals %d.\"%(x))"
   ]
  },
  {
   "cell_type": "markdown",
   "metadata": {
    "slideshow": {
     "slide_type": "subslide"
    }
   },
   "source": [
    "The last operation is used often in practice, so Python (like other languages) provides a set of special update operations (augmented assignment operators). The syntax for the preceding example would be \n",
    "\n",
    "`x+=1` \n",
    "\n",
    "Try it out below!"
   ]
  },
  {
   "cell_type": "code",
   "execution_count": 10,
   "metadata": {
    "collapsed": false
   },
   "outputs": [
    {
     "name": "stdout",
     "output_type": "stream",
     "text": [
      "7\n"
     ]
    }
   ],
   "source": [
    "x+=1\n",
    "print(x)"
   ]
  },
  {
   "cell_type": "markdown",
   "metadata": {},
   "source": [
    "There are similar update operations for the main binary operators:\n",
    "\n",
    "`-=  *=  /=  **= //= %=`\n",
    "\n",
    "Take a few minutes to try them out as well. Be sure to check how they work on strings."
   ]
  },
  {
   "cell_type": "code",
   "execution_count": null,
   "metadata": {
    "collapsed": true
   },
   "outputs": [],
   "source": []
  },
  {
   "cell_type": "markdown",
   "metadata": {
    "slideshow": {
     "slide_type": "slide"
    }
   },
   "source": [
    "# Explicit conversion operations\n",
    "\n",
    "There are functions that can explicitly cast a variable to another type.\n",
    "\n",
    "This converts ints to floats:"
   ]
  },
  {
   "cell_type": "code",
   "execution_count": null,
   "metadata": {
    "collapsed": true
   },
   "outputs": [],
   "source": [
    "x=1\n",
    "print(x) # Try also type(x) but temporarily comment out the commands below\n",
    "x=float(x)\n",
    "print(x) # Check the type again"
   ]
  },
  {
   "cell_type": "code",
   "execution_count": null,
   "metadata": {
    "collapsed": true,
    "slideshow": {
     "slide_type": "subslide"
    }
   },
   "outputs": [],
   "source": [
    "This converts ints to strings:"
   ]
  },
  {
   "cell_type": "code",
   "execution_count": null,
   "metadata": {
    "collapsed": true
   },
   "outputs": [],
   "source": [
    "x=1\n",
    "print(x) # check the type\n",
    "x=str(x)\n",
    "print(x) # check the type again"
   ]
  },
  {
   "cell_type": "markdown",
   "metadata": {
    "slideshow": {
     "slide_type": "subslide"
    }
   },
   "source": [
    "## Exercise\n",
    "\n",
    "Define a **float** variable and try to add it to the string \"one hundred\" to check that it raises an error. Convert the variable to string and repeat the operation. What is the outcome?"
   ]
  },
  {
   "cell_type": "code",
   "execution_count": null,
   "metadata": {
    "collapsed": true
   },
   "outputs": [],
   "source": [
    "# Use this cell to perform the exercise\n"
   ]
  },
  {
   "cell_type": "markdown",
   "metadata": {
    "slideshow": {
     "slide_type": "subslide"
    }
   },
   "source": [
    "Strings can be converted to ints or floats under certain conditions:"
   ]
  },
  {
   "cell_type": "code",
   "execution_count": 82,
   "metadata": {
    "collapsed": false
   },
   "outputs": [],
   "source": [
    "y=\"1.1\"\n",
    "z1=float(y) # Replace the assignment on this line with z1=int(y). Does it work? After that, try z1=int(float(y)).\n",
    "# Does the conversion z1=int(y) work if we assign y=\"1\"? What if we use y=\"spam\"?\n",
    "print(z1+1)"
   ]
  },
  {
   "cell_type": "markdown",
   "metadata": {
    "slideshow": {
     "slide_type": "slide"
    }
   },
   "source": [
    "# Basic Python types (scalar)\n",
    "\n",
    "There are six basic scalar types in Python:\n",
    "- int\n",
    "- float\n",
    "- str\n",
    "- complex\n",
    "- bool\n",
    "- NoneType\n",
    "\n",
    "We already saw the first three in action, so let's turn to the other three."
   ]
  },
  {
   "cell_type": "markdown",
   "metadata": {},
   "source": []
  },
  {
   "cell_type": "markdown",
   "metadata": {
    "slideshow": {
     "slide_type": "slide"
    }
   },
   "source": [
    "# Complex numbers\n",
    "\n"
   ]
  },
  {
   "cell_type": "code",
   "execution_count": 51,
   "metadata": {
    "collapsed": false
   },
   "outputs": [
    {
     "name": "stdout",
     "output_type": "stream",
     "text": [
      "(-2.2+3.3j)\n"
     ]
    },
    {
     "data": {
      "text/plain": [
       "(4+4j)"
      ]
     },
     "execution_count": 51,
     "metadata": {},
     "output_type": "execute_result"
    }
   ],
   "source": [
    "z = -2.2 + 3.3j\n",
    "print(z)\n",
    "type(z)\n",
    "z=complex(4,4)\n",
    "z\n",
    "# z.real\n",
    "# z.imag\n",
    "# z.conjugate()\n",
    "# mention cplx, math and numpy?"
   ]
  },
  {
   "cell_type": "markdown",
   "metadata": {
    "slideshow": {
     "slide_type": "slide"
    }
   },
   "source": [
    "# Booleans"
   ]
  },
  {
   "cell_type": "markdown",
   "metadata": {
    "slideshow": {
     "slide_type": "slide"
    }
   },
   "source": [
    "# Type conversion for booleans\n",
    "\n",
    "The conversion command is `bool()`. Try it in the examples listed below:"
   ]
  },
  {
   "cell_type": "code",
   "execution_count": 94,
   "metadata": {
    "collapsed": false
   },
   "outputs": [
    {
     "data": {
      "text/plain": [
       "True"
      ]
     },
     "execution_count": 94,
     "metadata": {},
     "output_type": "execute_result"
    }
   ],
   "source": [
    "y=1\n",
    "# y=0\n",
    "# y=-1.1\n",
    "# y=0.0\n",
    "# y=0.001\n",
    "# y=\"spam\"\n",
    "# y=\"eggs\"\n",
    "# y=\"\"\n",
    "bool(y)"
   ]
  }
 ],
 "metadata": {
  "celltoolbar": "Slideshow",
  "kernelspec": {
   "display_name": "Python 3",
   "language": "python",
   "name": "python3"
  },
  "language_info": {
   "codemirror_mode": {
    "name": "ipython",
    "version": 3
   },
   "file_extension": ".py",
   "mimetype": "text/x-python",
   "name": "python",
   "nbconvert_exporter": "python",
   "pygments_lexer": "ipython3",
   "version": "3.5.2"
  }
 },
 "nbformat": 4,
 "nbformat_minor": 1
}
