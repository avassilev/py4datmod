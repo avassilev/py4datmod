{
 "cells": [
  {
   "cell_type": "markdown",
   "metadata": {
    "slideshow": {
     "slide_type": "slide"
    }
   },
   "source": [
    "<center> \n",
    "# R406: Using Python for data analysis and modelling\n",
    "\n",
    "<br> <br> \n",
    "\n",
    "## Lecture 2: Basic Data Structures in Python\n",
    "\n",
    "<br>\n",
    "\n",
    "<center> **Andrey Vassilev**\n",
    "\n",
    "<br> \n",
    "\n",
    "<center> **2016/2017**\n",
    " "
   ]
  },
  {
   "cell_type": "markdown",
   "metadata": {
    "slideshow": {
     "slide_type": "slide"
    }
   },
   "source": [
    "# Outline\n",
    "\n",
    "1. Basic Python types (some familiar): int, float, complex, bool, str, NoneType\n",
    " - comparison operators\n",
    " - logical operators\n",
    "2. Mutable and immutable types\n",
    "3. Lists\n",
    " - indexing,slicing, concatenation, appending an element, deleting an element\n",
    " - identity and membership operations\n",
    "4. Tuples\n",
    " - unpacking\n",
    "5. Sets\n",
    " - logical operations on sets; using sets to get unique elements; \n",
    " \n",
    "Type conversions: see where it fits best"
   ]
  },
  {
   "cell_type": "markdown",
   "metadata": {
    "slideshow": {
     "slide_type": "slide"
    }
   },
   "source": [
    "# Review (and some extensions)\n",
    "\n",
    "Last time we learned about some Python types and the corresponding assignment operations: integer types (`intvar=5`), floats (`floatvar=5.0`) and strings (`strvar=\"five\"`).\n",
    "\n",
    "A frequently encountered operation is to update a variable according to some rule (e.g. increment its value by 1).\n",
    "\n",
    "It can be done as follows:"
   ]
  },
  {
   "cell_type": "code",
   "execution_count": null,
   "metadata": {
    "collapsed": true
   },
   "outputs": [],
   "source": [
    "x=3\n",
    "print(\"First x equals %d.\"%(x))\n",
    "x=x+1\n",
    "print(\"Then x equals %d.\"%(x))"
   ]
  },
  {
   "cell_type": "markdown",
   "metadata": {
    "slideshow": {
     "slide_type": "subslide"
    }
   },
   "source": [
    "The last operation is used often in practice, so Python (like other languages) provides a set of special update operations (augmented assignment operators). The syntax for the preceding example would be \n",
    "\n",
    "`x+=1` \n",
    "\n",
    "Try it out below!"
   ]
  },
  {
   "cell_type": "code",
   "execution_count": null,
   "metadata": {
    "collapsed": true
   },
   "outputs": [],
   "source": [
    "x+=1\n",
    "print(x)"
   ]
  },
  {
   "cell_type": "markdown",
   "metadata": {},
   "source": [
    "There are similar update operations for the main binary operators:\n",
    "\n",
    "`-=    *=    /=    **=   //=   %=`\n",
    "\n",
    "Take a few minutes to try them out as well. Be sure to check how they work on strings."
   ]
  },
  {
   "cell_type": "code",
   "execution_count": null,
   "metadata": {
    "collapsed": true
   },
   "outputs": [],
   "source": []
  },
  {
   "cell_type": "markdown",
   "metadata": {
    "slideshow": {
     "slide_type": "slide"
    }
   },
   "source": [
    "# Explicit conversion operations\n",
    "\n",
    "There are functions that can explicitly cast a variable to another type.\n",
    "\n",
    "For instance, this converts ints to floats:"
   ]
  },
  {
   "cell_type": "code",
   "execution_count": null,
   "metadata": {
    "collapsed": true
   },
   "outputs": [],
   "source": [
    "x=1\n",
    "print(x) # Try also type(x) but temporarily comment out the commands below\n",
    "x=float(x)\n",
    "print(x) # Check the type again"
   ]
  },
  {
   "cell_type": "markdown",
   "metadata": {
    "collapsed": true,
    "slideshow": {
     "slide_type": "subslide"
    }
   },
   "source": [
    "This converts ints to strings:"
   ]
  },
  {
   "cell_type": "code",
   "execution_count": null,
   "metadata": {
    "collapsed": true
   },
   "outputs": [],
   "source": [
    "x=1\n",
    "print(x) # check the type\n",
    "x=str(x)\n",
    "print(x) # check the type again"
   ]
  },
  {
   "cell_type": "markdown",
   "metadata": {
    "slideshow": {
     "slide_type": "subslide"
    }
   },
   "source": [
    "## Exercise\n",
    "\n",
    "Define a **float** variable and try to add it to the string \"one hundred\" to check that it raises an error. Convert the variable to string and repeat the operation. What is the outcome?"
   ]
  },
  {
   "cell_type": "code",
   "execution_count": null,
   "metadata": {
    "collapsed": true
   },
   "outputs": [],
   "source": [
    "# Use this cell to perform the exercise\n"
   ]
  },
  {
   "cell_type": "markdown",
   "metadata": {
    "slideshow": {
     "slide_type": "subslide"
    }
   },
   "source": [
    "Strings can be converted to ints or floats under certain conditions:"
   ]
  },
  {
   "cell_type": "code",
   "execution_count": null,
   "metadata": {
    "collapsed": true
   },
   "outputs": [],
   "source": [
    "y=\"1.1\"\n",
    "z1=float(y) # Replace the assignment on this line with z1=int(y). \n",
    "# Does it work? After that, try z1=int(float(y)).\n",
    "# Does the conversion z1=int(y) work if we assign y=\"1\"? What if we use y=\"spam\"?\n",
    "print(z1+1)"
   ]
  },
  {
   "cell_type": "markdown",
   "metadata": {
    "slideshow": {
     "slide_type": "slide"
    }
   },
   "source": [
    "# Basic Python types (scalar)\n",
    "\n",
    "There are six basic scalar types in Python:\n",
    "- int\n",
    "- float\n",
    "- str\n",
    "- complex\n",
    "- bool\n",
    "- NoneType\n",
    "\n",
    "We already saw the first three in action, so let's turn to the other three."
   ]
  },
  {
   "cell_type": "markdown",
   "metadata": {
    "slideshow": {
     "slide_type": "slide"
    }
   },
   "source": [
    "# Complex numbers\n",
    "\n",
    "Complex numbers can be defined in two alternative ways:\n",
    "\n",
    "`z = 1.0 + 2.1j`\n",
    "\n",
    "`z=complex(1.0, 2.1)`"
   ]
  },
  {
   "cell_type": "code",
   "execution_count": null,
   "metadata": {
    "collapsed": false
   },
   "outputs": [],
   "source": [
    "z1 = 1.0 + 2.1j # Try z1 = 1.0 + 2.1 j (with a space)\n",
    "print(z1)"
   ]
  },
  {
   "cell_type": "code",
   "execution_count": null,
   "metadata": {
    "collapsed": false
   },
   "outputs": [],
   "source": [
    "type(z1)"
   ]
  },
  {
   "cell_type": "code",
   "execution_count": null,
   "metadata": {
    "collapsed": true
   },
   "outputs": [],
   "source": [
    "z2=complex(3.0,2.0)"
   ]
  },
  {
   "cell_type": "markdown",
   "metadata": {
    "slideshow": {
     "slide_type": "subslide"
    }
   },
   "source": [
    "One can derive the basic characteristics of complex numbers as follows:"
   ]
  },
  {
   "cell_type": "code",
   "execution_count": null,
   "metadata": {
    "collapsed": false
   },
   "outputs": [],
   "source": [
    "print(\"The real part of z1 is %.2f\"%(z1.real))\n",
    "print(\"The imaginary part of z1 is %.2f\"%(z1.imag))\n",
    "print(\"z2 is\", z2, \"and the complex conjugate of z2 is\", z2.conjugate()) \n",
    "# Notice the parentheses after conjugate\n",
    "print(abs(z1), abs(z2))"
   ]
  },
  {
   "cell_type": "markdown",
   "metadata": {
    "slideshow": {
     "slide_type": "subslide"
    }
   },
   "source": [
    "The basic operations on complex numbers go through directly:"
   ]
  },
  {
   "cell_type": "code",
   "execution_count": null,
   "metadata": {
    "collapsed": false
   },
   "outputs": [],
   "source": [
    "print(z1+z2)\n",
    "print(z1-z2)\n",
    "print(z1*z2)\n",
    "print(z1/z2)\n",
    "print(z1**3)"
   ]
  },
  {
   "cell_type": "markdown",
   "metadata": {
    "slideshow": {
     "slide_type": "slide"
    }
   },
   "source": [
    "# Booleans\n",
    "\n",
    "The Boolean type has two possible values: `True` and `False`. (Notice that the capitalization matters here, as well as in Python generally.)\n",
    "\n",
    "Boolean values are important because they are returned by *comparison operations* and they are the building block of *logical (Boolean) operations*."
   ]
  },
  {
   "cell_type": "markdown",
   "metadata": {
    "slideshow": {
     "slide_type": "slide"
    }
   },
   "source": [
    "# Comparison operations\n",
    "\n",
    "|Operation | Description                  |\n",
    "|----------| -----------------------------|\n",
    "|a == b    | a equal to b                 |\n",
    "|a != b    | a not equal to b             |\n",
    "|a < b     | a less than b                |\n",
    "|a > b     | a greater than b             |\n",
    "|a <= b    | a less than or equal to b    |\n",
    "|a >= b    | a greater than or equal to b |"
   ]
  },
  {
   "cell_type": "markdown",
   "metadata": {
    "slideshow": {
     "slide_type": "subslide"
    }
   },
   "source": [
    "# Comparison operations in practice"
   ]
  },
  {
   "cell_type": "code",
   "execution_count": null,
   "metadata": {
    "collapsed": false
   },
   "outputs": [],
   "source": [
    "x=1\n",
    "y=2\n",
    "z=1.0\n",
    "print(x==y)\n",
    "print(x==z)\n",
    "print(x>y)\n",
    "print(z>=x)\n",
    "print(z!=y)"
   ]
  },
  {
   "cell_type": "markdown",
   "metadata": {
    "slideshow": {
     "slide_type": "slide"
    }
   },
   "source": [
    "# Logical (Boolean) operations\n",
    "\n"
   ]
  },
  {
   "cell_type": "markdown",
   "metadata": {
    "slideshow": {
     "slide_type": "slide"
    }
   },
   "source": [
    "# Type conversion for Booleans\n",
    "\n",
    "The conversion command is `bool()`. Try it in the examples listed below:"
   ]
  },
  {
   "cell_type": "code",
   "execution_count": null,
   "metadata": {
    "collapsed": true
   },
   "outputs": [],
   "source": [
    "y=1\n",
    "# y=0\n",
    "# y=-1.1\n",
    "# y=0.0\n",
    "# y=0.001\n",
    "# y=\"spam\"\n",
    "# y=\"eggs\"\n",
    "# y=\"\"\n",
    "bool(y)"
   ]
  }
 ],
 "metadata": {
  "celltoolbar": "Slideshow",
  "kernelspec": {
   "display_name": "Python 3",
   "language": "python",
   "name": "python3"
  },
  "language_info": {
   "codemirror_mode": {
    "name": "ipython",
    "version": 3
   },
   "file_extension": ".py",
   "mimetype": "text/x-python",
   "name": "python",
   "nbconvert_exporter": "python",
   "pygments_lexer": "ipython3",
   "version": "3.5.2"
  }
 },
 "nbformat": 4,
 "nbformat_minor": 1
}
