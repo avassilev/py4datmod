{
 "cells": [
  {
   "cell_type": "markdown",
   "metadata": {
    "slideshow": {
     "slide_type": "slide"
    }
   },
   "source": [
    "<center> \n",
    "# R406: Using Python for data analysis and modelling\n",
    "\n",
    "<br> <br> \n",
    "\n",
    "## Lecture 10: Symbolic computing with SymPy\n",
    "\n",
    "<br>\n",
    "\n",
    "<center> **Andrey Vassilev**\n",
    "\n",
    "<br> \n",
    "\n",
    "<center> **2016/2017**\n",
    " "
   ]
  },
  {
   "cell_type": "markdown",
   "metadata": {
    "slideshow": {
     "slide_type": "slide"
    }
   },
   "source": [
    "# Outline\n",
    "\n",
    "1. Introduction\n",
    "2. Basic SymPy objects and operations\n",
    "3. Applications of specific modules\n",
    "    - calculus - limits, derivatives, integrals\n",
    "    - linear algebra\n",
    "    - solving equations\n",
    "    - statistics\n",
    "    - printing, plotting? "
   ]
  },
  {
   "cell_type": "markdown",
   "metadata": {
    "slideshow": {
     "slide_type": "slide"
    }
   },
   "source": [
    "# Introduction: what is SymPy?\n",
    "\n",
    "- SymPy is a Python library for computer algebra/symbolic computing.\n",
    "- Roughly speaking, this means that you can use it to perform computations in a pen-and-paper manner, getting symbolic expressions rather that numbers as a result.\n",
    "- SymPy is similar to other CAS like Mathematica, Maple, Matlab's Symbolic Math Toolbox or Maxima.\n",
    "- SymPy is designed to be equally usable interactively or programmatically as a part of a larger workflow.\n",
    "- See [this paper](https://peerj.com/articles/cs-103/) or the official [documentation](http://docs.sympy.org/latest/index.html) for more information."
   ]
  },
  {
   "cell_type": "markdown",
   "metadata": {
    "slideshow": {
     "slide_type": "slide"
    }
   },
   "source": [
    "# SymPy basics\n",
    "\n",
    "Here is a simple example to illustrate the difference between \"regular\" computations and symbolic ones.\n",
    "\n",
    "In a standard use case, we define variables and perform manipulations on them to get numerically evaluated results."
   ]
  },
  {
   "cell_type": "code",
   "execution_count": 1,
   "metadata": {
    "collapsed": false
   },
   "outputs": [
    {
     "data": {
      "text/plain": [
       "-121"
      ]
     },
     "execution_count": 1,
     "metadata": {},
     "output_type": "execute_result"
    }
   ],
   "source": [
    "x = 2\n",
    "y = 5\n",
    "z = x**2 - y**3\n",
    "z"
   ]
  },
  {
   "cell_type": "markdown",
   "metadata": {},
   "source": [
    "Notice that the third assignment, `z = x**2 - y**3`, binds the variable `z` to the specific, evaluated result, -121 in this case. There is no idea of keeping the expression $x^2-y^3$ as such."
   ]
  },
  {
   "cell_type": "markdown",
   "metadata": {
    "slideshow": {
     "slide_type": "subslide"
    }
   },
   "source": [
    "Here is how the same operations work in symbolic form:"
   ]
  },
  {
   "cell_type": "code",
   "execution_count": 2,
   "metadata": {
    "collapsed": false
   },
   "outputs": [
    {
     "data": {
      "text/plain": [
       "x**2 - y**3"
      ]
     },
     "execution_count": 2,
     "metadata": {},
     "output_type": "execute_result"
    }
   ],
   "source": [
    "import sympy as sym\n",
    "x,y = sym.symbols('x y')\n",
    "z = x**2 - y**3\n",
    "z"
   ]
  },
  {
   "cell_type": "markdown",
   "metadata": {},
   "source": [
    "The `symbols` function does just that — create symbolic objects `x` and `y` holding the symbols \"x\" and \"y\". There is nothing to prevent you from defining the objects to represent different symbols but it is confusing and discouraged by convention:"
   ]
  },
  {
   "cell_type": "code",
   "execution_count": 3,
   "metadata": {
    "collapsed": false
   },
   "outputs": [
    {
     "name": "stdout",
     "output_type": "stream",
     "text": [
      "X**2 + Y**4\n"
     ]
    }
   ],
   "source": [
    "a,b = sym.symbols(\"X, Y\") # Notice we can separate with commas as well\n",
    "print(a**2+b**4)\n",
    "del a,b"
   ]
  },
  {
   "cell_type": "markdown",
   "metadata": {
    "slideshow": {
     "slide_type": "slide"
    }
   },
   "source": [
    "Obviously, more complicated expressions can be constructed but these can be difficult to read:"
   ]
  },
  {
   "cell_type": "code",
   "execution_count": 4,
   "metadata": {
    "collapsed": false
   },
   "outputs": [
    {
     "data": {
      "text/plain": [
       "(sqrt(x) - exp(y**2 - 1)*cos(x))/(x**log(y) + y**5)"
      ]
     },
     "execution_count": 4,
     "metadata": {},
     "output_type": "execute_result"
    }
   ],
   "source": [
    "z = (sym.sqrt(x)+sym.exp(y**2-1)*sym.cos(x+sym.pi))/(x**(sym.ln(y))+y**5)\n",
    "z"
   ]
  },
  {
   "cell_type": "markdown",
   "metadata": {},
   "source": [
    "For that reason, SymPy offers pretty-printing functionality using available engines such as LaTeX or Matplotlib."
   ]
  },
  {
   "cell_type": "code",
   "execution_count": 5,
   "metadata": {
    "collapsed": false
   },
   "outputs": [
    {
     "data": {
      "image/png": "[encoded data removed]",
      "text/latex": [
       "$$\\frac{\\sqrt{x} - e^{y^{2} - 1} \\cos{\\left (x \\right )}}{x^{\\log{\\left (y \\right )}} + y^{5}}$$"
      ],
      "text/plain": [
       "       2           \n",
       "      y  - 1       \n",
       "√x - ℯ      ⋅cos(x)\n",
       "───────────────────\n",
       "     log(y)    5   \n",
       "    x       + y    "
      ]
     },
     "execution_count": 5,
     "metadata": {},
     "output_type": "execute_result"
    }
   ],
   "source": [
    "sym.init_printing()\n",
    "z"
   ]
  },
  {
   "cell_type": "markdown",
   "metadata": {
    "slideshow": {
     "slide_type": "subslide"
    }
   },
   "source": [
    "If you are a LaTeX fan, you can also access the $\\LaTeX$ code representing an expression using the `latex()` function:"
   ]
  },
  {
   "cell_type": "code",
   "execution_count": 6,
   "metadata": {
    "collapsed": false
   },
   "outputs": [
    {
     "name": "stdout",
     "output_type": "stream",
     "text": [
      "\\frac{\\sqrt{x} - e^{y^{2} - 1} \\cos{\\left (x \\right )}}{x^{\\log{\\left (y \\right )}} + y^{5}}\n"
     ]
    }
   ],
   "source": [
    "print(sym.latex(z))"
   ]
  },
  {
   "cell_type": "markdown",
   "metadata": {
    "slideshow": {
     "slide_type": "slide"
    }
   },
   "source": [
    "SymPy is clever enough to simplify expressions when you combine them:"
   ]
  },
  {
   "cell_type": "code",
   "execution_count": 14,
   "metadata": {
    "collapsed": false
   },
   "outputs": [],
   "source": [
    "z1 = x**2 - 4*x*y - 5*y**3\n",
    "z2 = 3*x**2 + x*y + 4*y**3"
   ]
  },
  {
   "cell_type": "code",
   "execution_count": 23,
   "metadata": {
    "collapsed": false
   },
   "outputs": [
    {
     "data": {
      "image/png": "[encoded data removed]",
      "text/latex": [
       "$$4 x^{2} - 3 x y - y^{3}$$"
      ],
      "text/plain": [
       "   2            3\n",
       "4⋅x  - 3⋅x⋅y - y "
      ]
     },
     "execution_count": 23,
     "metadata": {},
     "output_type": "execute_result"
    }
   ],
   "source": [
    "z2+z1"
   ]
  },
  {
   "cell_type": "markdown",
   "metadata": {},
   "source": [
    "Note that if you want to pretty print several objects in the same cell, you need to import `display` from `IPython.display`."
   ]
  },
  {
   "cell_type": "code",
   "execution_count": 25,
   "metadata": {
    "collapsed": false
   },
   "outputs": [
    {
     "data": {
      "image/png": "[encoded data removed]",
      "text/latex": [
       "$$x^{2} - 4 x y - 5 y^{3}$$"
      ],
      "text/plain": [
       " 2              3\n",
       "x  - 4⋅x⋅y - 5⋅y "
      ]
     },
     "metadata": {},
     "output_type": "display_data"
    },
    {
     "data": {
      "image/png": "[encoded data removed]",
      "text/latex": [
       "$$3 x^{2} + x y + 4 y^{3}$$"
      ],
      "text/plain": [
       "   2            3\n",
       "3⋅x  + x⋅y + 4⋅y "
      ]
     },
     "metadata": {},
     "output_type": "display_data"
    },
    {
     "data": {
      "image/png": "[encoded data removed]",
      "text/latex": [
       "$$4 x^{2} - 3 x y - y^{3}$$"
      ],
      "text/plain": [
       "   2            3\n",
       "4⋅x  - 3⋅x⋅y - y "
      ]
     },
     "metadata": {},
     "output_type": "display_data"
    }
   ],
   "source": [
    "from IPython.display import display\n",
    "display(z1)\n",
    "display(z2)\n",
    "display(z1+z2)"
   ]
  },
  {
   "cell_type": "code",
   "execution_count": 7,
   "metadata": {
    "collapsed": true,
    "slideshow": {
     "slide_type": "slide"
    }
   },
   "outputs": [],
   "source": [
    "# Eq(x + 1, 4)\n",
    "# There is also a method called equals that tests if two expressions are equal by evaluating them numerically at random points.\n",
    "# a.equals(b)"
   ]
  }
 ],
 "metadata": {
  "celltoolbar": "Slideshow",
  "kernelspec": {
   "display_name": "Python 3",
   "language": "python",
   "name": "python3"
  },
  "language_info": {
   "codemirror_mode": {
    "name": "ipython",
    "version": 3
   },
   "file_extension": ".py",
   "mimetype": "text/x-python",
   "name": "python",
   "nbconvert_exporter": "python",
   "pygments_lexer": "ipython3",
   "version": "3.5.2"
  }
 },
 "nbformat": 4,
 "nbformat_minor": 1
}
