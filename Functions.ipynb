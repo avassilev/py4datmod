{
 "cells": [
  {
   "cell_type": "markdown",
   "metadata": {
    "slideshow": {
     "slide_type": "slide"
    }
   },
   "source": [
    "<center>\n",
    "    \n",
    "# R406: Applied Economic Modelling with Python\n",
    "\n",
    "</center>\n",
    "\n",
    "<br> <br> \n",
    "\n",
    "<center>\n",
    "\n",
    "## Functions\n",
    "\n",
    "</center>\n",
    "\n",
    "<br><br> \n",
    "\n",
    "<center>\n",
    "<b> Andrey Vassilev </b>\n",
    "</center>\n",
    "\n"
   ]
  },
  {
   "cell_type": "markdown",
   "metadata": {
    "slideshow": {
     "slide_type": "slide"
    }
   },
   "source": [
    "# Outline\n",
    "\n",
    "1. Calling functions\n",
    "2. Defining functions\n",
    "3. Anonymous (lambda) functions\n",
    "4. Accessing other people's work: modules and packages\n",
    "5. Recursion"
   ]
  },
  {
   "cell_type": "markdown",
   "metadata": {
    "slideshow": {
     "slide_type": "slide"
    }
   },
   "source": [
    "# Basics of Python functions\n",
    "\n",
    "- A function is a group of operations that has a name. Functions can have *arguments* (i.e. inputs for the function's operations) and *return values* (i.e. the result of the operations).\n",
    "- Functions are useful for many reasons but, as a minimum, they allow us to reuse code and they facilitate the structuring and understanding of our programs."
   ]
  },
  {
   "cell_type": "markdown",
   "metadata": {
    "slideshow": {
     "slide_type": "subslide"
    }
   },
   "source": [
    "- Like most programming languages, a function in Python is called via its name followed by the arguments in parentheses.\n",
    "- The familiar `len()` function is one example: it takes as an argument the object whose length is to be computed and returns the number of elements of the object."
   ]
  },
  {
   "cell_type": "code",
   "execution_count": null,
   "metadata": {},
   "outputs": [],
   "source": [
    "x = \"abracadabra\"\n",
    "# x = {\"x\":1,\"y\":2}\n",
    "len(x)"
   ]
  },
  {
   "cell_type": "markdown",
   "metadata": {
    "slideshow": {
     "slide_type": "subslide"
    }
   },
   "source": [
    "Functions can take more than one argument, as we have seen with the `print()` function.\n",
    "\n",
    "As another example, lists have an `insert()` method — the precise syntax is `L.insert(i,e)` — which inserts the element `e` at position `i`."
   ]
  },
  {
   "cell_type": "code",
   "execution_count": null,
   "metadata": {},
   "outputs": [],
   "source": [
    "x = [1,2,3]\n",
    "x.insert(2,22)\n",
    "x"
   ]
  },
  {
   "cell_type": "markdown",
   "metadata": {
    "slideshow": {
     "slide_type": "subslide"
    }
   },
   "source": [
    "- Some functions are called because of their return value: in the statement `x = int(2.546)` we want to take the integer result of the conversion (obtained by calling the `int()` function) and assign it to the variable `x`.\n",
    "- Other functions are called because of their (side) effects: the `print()` function is called in order to display its arguments, while the value it returns (`None`) is almost never used."
   ]
  },
  {
   "cell_type": "markdown",
   "metadata": {
    "slideshow": {
     "slide_type": "slide"
    }
   },
   "source": [
    "# More on function arguments\n",
    "\n",
    "A function typically expects a certain number of arguments and complains when they are not provided:"
   ]
  },
  {
   "cell_type": "code",
   "execution_count": null,
   "metadata": {},
   "outputs": [],
   "source": [
    "complex(1,2,3)"
   ]
  },
  {
   "cell_type": "code",
   "execution_count": null,
   "metadata": {},
   "outputs": [],
   "source": [
    "len()"
   ]
  },
  {
   "cell_type": "markdown",
   "metadata": {
    "slideshow": {
     "slide_type": "subslide"
    }
   },
   "source": [
    "Yet, some functions are more flexible with respect to their arguments. For instance, we know that the `print()` function can take one or more arguments:"
   ]
  },
  {
   "cell_type": "code",
   "execution_count": null,
   "metadata": {},
   "outputs": [],
   "source": [
    "print(1)\n",
    "print(\"x =\",1,\"and y =\",2.0)"
   ]
  },
  {
   "cell_type": "markdown",
   "metadata": {
    "slideshow": {
     "slide_type": "subslide"
    }
   },
   "source": [
    "### Default values\n",
    "\n",
    "Moreover, there are functions that implicitly assume a value for some of their arguments when these values are not explicitly supplied. "
   ]
  },
  {
   "cell_type": "code",
   "execution_count": null,
   "metadata": {},
   "outputs": [],
   "source": [
    "x = complex() # zeros assumed for both real \n",
    "              # and imaginary parts\n",
    "print(x)\n",
    "\n",
    "x = complex(5.5) # zero assumed for imaginary part\n",
    "print(x)"
   ]
  },
  {
   "cell_type": "markdown",
   "metadata": {
    "slideshow": {
     "slide_type": "subslide"
    }
   },
   "source": [
    "As another example of a default value, `print()` has an argument `end`, which by default is set to the newline character `\\n`. Using the default form (in which we can omit the respective argument and it will assume the default value), we would print a column of values:"
   ]
  },
  {
   "cell_type": "code",
   "execution_count": null,
   "metadata": {},
   "outputs": [],
   "source": [
    "for i in range(3):\n",
    "    print(i)"
   ]
  },
  {
   "cell_type": "markdown",
   "metadata": {},
   "source": [
    "If we replace the default argument, we can obtain a row of values:"
   ]
  },
  {
   "cell_type": "code",
   "execution_count": null,
   "metadata": {},
   "outputs": [],
   "source": [
    "for i in range(3):\n",
    "    print(i,end=\" \")"
   ]
  },
  {
   "cell_type": "markdown",
   "metadata": {
    "slideshow": {
     "slide_type": "subslide"
    }
   },
   "source": [
    "Function arguments can be more complicated expressions:"
   ]
  },
  {
   "cell_type": "code",
   "execution_count": null,
   "metadata": {},
   "outputs": [],
   "source": [
    "float((3+1)**2)"
   ]
  },
  {
   "cell_type": "markdown",
   "metadata": {},
   "source": [
    "And we can also have nested function calls:"
   ]
  },
  {
   "cell_type": "code",
   "execution_count": null,
   "metadata": {},
   "outputs": [],
   "source": [
    "round(float(\"0.8\")) # The role of round() should be obvious"
   ]
  },
  {
   "cell_type": "markdown",
   "metadata": {
    "slideshow": {
     "slide_type": "slide"
    }
   },
   "source": [
    "# Defining functions\n",
    "\n",
    "Functions in Python are defined using the following syntax:\n",
    "\n",
    "```\n",
    "def <function_name>(<arguments>):\n",
    "    <statements>\n",
    "```\n",
    "\n",
    "Here is an example of a simple function:"
   ]
  },
  {
   "cell_type": "code",
   "execution_count": null,
   "metadata": {},
   "outputs": [],
   "source": [
    "def cubed(x):\n",
    "    print(x**3)\n",
    "\n",
    "y = 3.14\n",
    "cubed(y)"
   ]
  },
  {
   "cell_type": "markdown",
   "metadata": {
    "slideshow": {
     "slide_type": "slide"
    }
   },
   "source": [
    "# Return values\n",
    "\n",
    "The `cubed()` function from the previous example prints the argument raised to the power of 3 but we cannot use the result. To be able to use the results of computations performed in a function, these results must be *returned*. Unsurprisingly, this is done using the `return` statement."
   ]
  },
  {
   "cell_type": "code",
   "execution_count": null,
   "metadata": {},
   "outputs": [],
   "source": [
    "def cubed(x):\n",
    "    return x**3\n",
    "\n",
    "x = cubed(5)\n",
    "y = cubed(3)\n",
    "z = x + y\n",
    "z"
   ]
  },
  {
   "cell_type": "markdown",
   "metadata": {
    "slideshow": {
     "slide_type": "subslide"
    }
   },
   "source": [
    "Functions can return more complex objects. The function below returns a list containing the cubed values of `n` consecutive integers, starting from the integer `m`:"
   ]
  },
  {
   "cell_type": "code",
   "execution_count": null,
   "metadata": {},
   "outputs": [],
   "source": [
    "def cubedList(m,n):\n",
    "    List = [x**3 for x in range(m,m+n)]\n",
    "    return List\n",
    "\n",
    "a = cubedList(0,4)\n",
    "a"
   ]
  },
  {
   "cell_type": "markdown",
   "metadata": {
    "slideshow": {
     "slide_type": "subslide"
    }
   },
   "source": [
    "A typical way for a function to return multiple values is via a tuple which is subsequently used in an unpacking operation:"
   ]
  },
  {
   "cell_type": "code",
   "execution_count": null,
   "metadata": {},
   "outputs": [],
   "source": [
    "# The following is an import statement.\n",
    "# It makes available a function from an external module.\n",
    "# In this case the function sqrt() computes the square root...\n",
    "# ...and is able to handle complex numbers.\n",
    "from cmath import sqrt\n",
    "\n",
    "def quadratic(a,b,c):\n",
    "    x1 = (-b+sqrt(b**2-4*a*c))/(2*a)\n",
    "    x2 = (-b-sqrt(b**2-4*a*c))/(2*a)\n",
    "    x1 = x1.real if x1.imag == 0 else x1\n",
    "    x2 = x2.real if x2.imag == 0 else x2\n",
    "    return (x1,x2)\n",
    "\n",
    "root1, root2 = quadratic(2,5,5)\n",
    "print(f\"The roots of the quadratic equation are {root1} and {root2}\")"
   ]
  },
  {
   "cell_type": "markdown",
   "metadata": {
    "slideshow": {
     "slide_type": "slide"
    }
   },
   "source": [
    "# Docstrings\n",
    "\n",
    "It is useful to have an accessible description of what a function does. Comments can help but a more structured approach is the so-called *docstrings*. These are strings containing a description of the function, the way it is called etc. They are placed at the beginning of a function."
   ]
  },
  {
   "cell_type": "code",
   "execution_count": null,
   "metadata": {},
   "outputs": [],
   "source": [
    "from cmath import sqrt\n",
    "\n",
    "def quadratic(a,b,c):\n",
    "    \"\"\"Returns the roots of the quadratic equation\n",
    "    a*x**2+b*x+c = 0\"\"\"\n",
    "    x1 = (-b+sqrt(b**2-4*a*c))/(2*a)\n",
    "    x2 = (-b-sqrt(b**2-4*a*c))/(2*a)\n",
    "    x1 = x1.real if x1.imag == 0 else x1\n",
    "    x2 = x2.real if x2.imag == 0 else x2\n",
    "    return (x1,x2)\n",
    "\n",
    "help(quadratic)\n",
    "# In IPython/Jupyter you can also try quadratic?"
   ]
  },
  {
   "cell_type": "markdown",
   "metadata": {
    "slideshow": {
     "slide_type": "slide"
    }
   },
   "source": [
    "# Scopes and local objects\n",
    "\n",
    "A function creates a *local scope*. This means that objects created within the function are not visible outside it. The are *local* to the respective function. The same applies to the function argument names."
   ]
  },
  {
   "cell_type": "code",
   "execution_count": null,
   "metadata": {},
   "outputs": [],
   "source": [
    "def f(k):\n",
    "    m = k**2 \n",
    "    n = m - 5\n",
    "    return n\n",
    "\n",
    "a = 3\n",
    "print(f(a))\n",
    "\n",
    "\n",
    "# Now try to print the variables m and n (local variables),\n",
    "# as well as k (a function argument name)"
   ]
  },
  {
   "cell_type": "markdown",
   "metadata": {
    "slideshow": {
     "slide_type": "subslide"
    }
   },
   "source": [
    "Variables in the local scope take precedence over variables in an outer scope. For example, the function `F()` below uses its local list `X`."
   ]
  },
  {
   "cell_type": "code",
   "execution_count": null,
   "metadata": {},
   "outputs": [],
   "source": [
    "X = [1,2,3]\n",
    "def F():\n",
    "    X = [4,5,6]\n",
    "    print(\"This is X inside F():\", X)\n",
    "\n",
    "F()\n",
    "print(\"This is X outside of F():\", X)"
   ]
  },
  {
   "cell_type": "markdown",
   "metadata": {},
   "source": [
    "However, if the respective object does not exist in the local scope, the interpreter will look for its name in containing scopes:"
   ]
  },
  {
   "cell_type": "code",
   "execution_count": null,
   "metadata": {},
   "outputs": [],
   "source": [
    "X = [1,2,3]\n",
    "def F():\n",
    "    print(\"This is X inside F():\", X)\n",
    "\n",
    "F()\n",
    "print(\"This is X outside of F():\", X)"
   ]
  },
  {
   "cell_type": "markdown",
   "metadata": {
    "slideshow": {
     "slide_type": "slide"
    }
   },
   "source": [
    "# Default argument values\n",
    "\n",
    "We saw how default values work in function calls. Now let us see how we can write such functions ourselves.\n",
    "\n",
    "As an example, the function `f(k)` - used in the first example illustrating scope - computes the transformation $k^2-5$. Perhaps we are primarily interested in that but we can also be interested in the more general transformation $k^a+b$. Here is how we can implement this:"
   ]
  },
  {
   "cell_type": "code",
   "execution_count": null,
   "metadata": {},
   "outputs": [],
   "source": [
    "def f(k, a=2, b=-5):\n",
    "    m = k**a \n",
    "    n = m + b\n",
    "    return n\n",
    "\n",
    "print(f(3))\n",
    "print(f(5,1.1,0.3))"
   ]
  },
  {
   "cell_type": "markdown",
   "metadata": {
    "slideshow": {
     "slide_type": "slide"
    }
   },
   "source": [
    "# Flexible arguments\n",
    "\n",
    "Occasionally we would like to write functions that can take a variable number of arguments without relying on default values. In such cases we can use the special form `*args` and `**kwargs` to catch all the arguments that are passed by the user (the caller of the function). The `*args` part is responsible for catching \"bare\" arguments and the `**kwargs` part is responsible for catching named (keyword) arguments.\n",
    "\n",
    "**Note:** The asterisks are the defining component of the above types of arguments. The words `args` and `kwargs` are only used by convention. A single asterisk is an instruction to treat the variables as a sequence and double asterisks construct a dictionary."
   ]
  },
  {
   "cell_type": "code",
   "execution_count": null,
   "metadata": {
    "slideshow": {
     "slide_type": "subslide"
    }
   },
   "outputs": [],
   "source": [
    "def catch_all(*args, **kwargs):\n",
    "    print(\"args =\", args)\n",
    "    print(\"kwargs = \", kwargs)\n",
    "    \n",
    "catch_all(1, 2, 3, a=4, b=5)"
   ]
  },
  {
   "cell_type": "code",
   "execution_count": null,
   "metadata": {},
   "outputs": [],
   "source": [
    "catch_all('a', keyword=2)"
   ]
  },
  {
   "cell_type": "markdown",
   "metadata": {
    "slideshow": {
     "slide_type": "subslide"
    }
   },
   "source": [
    "This principle can be used not only to construct new functions but also to call existing ones:"
   ]
  },
  {
   "cell_type": "code",
   "execution_count": null,
   "metadata": {},
   "outputs": [],
   "source": [
    "inputs = (1, 2, 3)\n",
    "keywords = {'pi': 3.14}\n",
    "\n",
    "catch_all(*inputs, **keywords)"
   ]
  },
  {
   "cell_type": "markdown",
   "metadata": {
    "slideshow": {
     "slide_type": "slide"
    }
   },
   "source": [
    "# Lambda (anonymous) functions\n",
    "\n",
    "There exists a shorthand way of constructing (possibly unnamed) functions that can be convenient:"
   ]
  },
  {
   "cell_type": "code",
   "execution_count": null,
   "metadata": {},
   "outputs": [],
   "source": [
    "Q = lambda x: 5*x**2 + 3*x - 2\n",
    "Q(5)"
   ]
  },
  {
   "cell_type": "markdown",
   "metadata": {},
   "source": [
    "Such functions can take more than one argument:"
   ]
  },
  {
   "cell_type": "code",
   "execution_count": null,
   "metadata": {},
   "outputs": [],
   "source": [
    "R = lambda x,y: x**2 - 2*x*y + y**2\n",
    "R(3.0,4.1)"
   ]
  },
  {
   "cell_type": "markdown",
   "metadata": {
    "slideshow": {
     "slide_type": "subslide"
    }
   },
   "source": [
    "- `lambda` functions are useful as a compact way of defining a short, one-line function (though they are not usable if you need to implement more complex logic within the function). \n",
    "- They also come in handy if you don't want to define a function object at all (like the objects `Q` and `R` in the previous example) but still want to call the function.\n",
    "- This is typically done when we pass functions as arguments to other functions.\n",
    "- Passing functions as arguments is possible because Python follows an \"everything-is-an-object\" convention."
   ]
  },
  {
   "cell_type": "markdown",
   "metadata": {
    "slideshow": {
     "slide_type": "subslide"
    }
   },
   "source": [
    "The following example defines a function that applies a default transformation to a list but gives the user the option to change the transformation, if necessary:"
   ]
  },
  {
   "cell_type": "code",
   "execution_count": null,
   "metadata": {},
   "outputs": [],
   "source": [
    "def transform_list(Lst,f=lambda x:x**3):\n",
    "    return [f(e) for e in Lst]\n",
    "\n",
    "L = [2,3,6]\n",
    "print(transform_list(L))\n",
    "print(transform_list(L,f=lambda x:x+5))"
   ]
  },
  {
   "cell_type": "markdown",
   "metadata": {
    "slideshow": {
     "slide_type": "slide"
    }
   },
   "source": [
    "# Modules and packages\n",
    "\n",
    "- One of the reasons for Python's popularity is the wide availability of many third-party codes implementing various tasks and procedures.\n",
    "- Such codes can be used in a standardized manner, provided that they comply with certain conventions.\n",
    "- The standard way to get access to them is via an `import` statement.\n",
    "- We have already seen an `import` statement: ```from cmath import sqrt\n",
    "```"
   ]
  },
  {
   "cell_type": "markdown",
   "metadata": {
    "slideshow": {
     "slide_type": "slide"
    }
   },
   "source": [
    "# An aside on terminology\n",
    "\n",
    "- You will often hear terms like *modules*, *packages* and *libraries*.\n",
    "- They are sometimes used a bit loosely and interchangeably in the Python world.\n",
    "- The Python documentation compares modules and packages to files and directories, respectively:\n",
    "   * A module can be a single file containing functions, variables and other objects like classes. \n",
    "   * A package can consist of several modules and can serve to provide an additional level of organization. Packages may in turn contain subpackages, as well as regular modules."
   ]
  },
  {
   "cell_type": "markdown",
   "metadata": {
    "slideshow": {
     "slide_type": "subslide"
    }
   },
   "source": [
    "- The term library is used generically to denote a piece of code or a system of codes that are meant to be used by different users or applications. \n",
    "- It can thus refer to modules or packages, depending on the context.\n",
    "- See [the Python docs](https://docs.python.org/3/glossary.html#term-package) for more info.\n",
    "- For now, assume that our main object of interest is the module."
   ]
  },
  {
   "cell_type": "markdown",
   "metadata": {
    "slideshow": {
     "slide_type": "slide"
    }
   },
   "source": [
    "# Accessing modules\n",
    "\n",
    "## Explicit imports\n",
    "\n",
    "- A module can be made accessible via an explicit import, e.g. `import math`.\n",
    "- In such cases calls to the variables and functions of the module are preceded by the module name:"
   ]
  },
  {
   "cell_type": "code",
   "execution_count": null,
   "metadata": {},
   "outputs": [],
   "source": [
    "import math\n",
    "math.sqrt(math.e)"
   ]
  },
  {
   "cell_type": "markdown",
   "metadata": {
    "slideshow": {
     "slide_type": "slide"
    }
   },
   "source": [
    "## Importing by alias\n",
    "\n",
    "In some cases it is convenient to import using a \"nickname\" for the module. This is known as importing by alias. In such cases the alias is used instead of the module name in calls."
   ]
  },
  {
   "cell_type": "code",
   "execution_count": null,
   "metadata": {},
   "outputs": [],
   "source": [
    "import numpy as np\n",
    "np.matrix(\"2 5; 7 9\")"
   ]
  },
  {
   "cell_type": "markdown",
   "metadata": {
    "slideshow": {
     "slide_type": "subslide"
    }
   },
   "source": [
    "Importing by alias is done to:\n",
    "- save space in calls\n",
    "- comply with conventions (there are traditional imports by alias such as `import numpy as np`, `import scipy as sp` and `import pandas as pd`)\n",
    "- ensure easy module substitution: if there are two modules, say `highermath1` and `highermath2`, offering differing implementations of the same functions, it is easy to start with `import highermath1 as hm`, use the respective functions like `hm.f(x)` and later change only the import statement to `import highermath2 as hm`, if the alternative implementations are deemed more useful."
   ]
  },
  {
   "cell_type": "markdown",
   "metadata": {
    "slideshow": {
     "slide_type": "slide"
    }
   },
   "source": [
    "# Importing specific objects from a module\n",
    "\n",
    "Instead of importing an entire module, we may choose to import specific objects, if they are all we need from the module. In such cases these are directly accessible without referring to the containing module."
   ]
  },
  {
   "cell_type": "code",
   "execution_count": null,
   "metadata": {},
   "outputs": [],
   "source": [
    "from math import pi\n",
    "pi # not math.pi"
   ]
  },
  {
   "cell_type": "markdown",
   "metadata": {
    "slideshow": {
     "slide_type": "slide"
    }
   },
   "source": [
    "# Implicit imports\n",
    "\n",
    "It is also possible to make all the objects in a module directly accessible without having to use the module name. This is done as follows:"
   ]
  },
  {
   "cell_type": "code",
   "execution_count": null,
   "metadata": {},
   "outputs": [],
   "source": [
    "from math import *\n",
    "exp(5)"
   ]
  },
  {
   "cell_type": "markdown",
   "metadata": {},
   "source": [
    "While this may seem like a great idea — why not be able to use these functions directly instead of typing things like `math.` or `np.` — implicit imports can actually make more trouble than they save, since they can silently override other functions. It is therefore advisable to avoid them unless you have specific reasons to the contrary."
   ]
  },
  {
   "cell_type": "markdown",
   "metadata": {
    "slideshow": {
     "slide_type": "slide"
    }
   },
   "source": [
    "# Importing third-party modules\n",
    "\n",
    "- Standard modules like `math` typically come bundled in the Python distribution. \n",
    "- To access any of the thousands of available modules you need a repository. The standard repository for Python modules is the Python Package Index (PyPI), see http://pypi.python.org/.\n",
    "- A convenient way to install a module is to use a program called `pip`, e.g. by typing \n",
    "```\n",
    "pip install scipy\n",
    "``` \n",
    "at the command prompt.\n",
    "- Module installs differ depending on the distribution. For instance, WinPython comes with a graphical tool that can help with files downloaded from PyPI."
   ]
  },
  {
   "cell_type": "markdown",
   "metadata": {
    "slideshow": {
     "slide_type": "slide"
    }
   },
   "source": [
    "# Recursion\n",
    "\n",
    "Just like a function can call another function, it is possible for a function to call itself. Such functions are called *recursive* and the process is known as *recursion*. It is quite useful for problems having an appropriate structure.\n",
    "\n",
    "An example of a recursive function is the factorial function. Recall that $ 0!=1 $ and $ n!=n(n-1)! $. Then we can implement the factorial computation like this:"
   ]
  },
  {
   "cell_type": "code",
   "execution_count": null,
   "metadata": {},
   "outputs": [],
   "source": [
    "def factorial(n):\n",
    "    if n == 0:\n",
    "        return 1\n",
    "    else:\n",
    "        recurse = factorial(n-1)\n",
    "        result = n * recurse\n",
    "    return result\n",
    "\n",
    "factorial(4)"
   ]
  },
  {
   "cell_type": "markdown",
   "metadata": {
    "slideshow": {
     "slide_type": "subslide"
    }
   },
   "source": [
    "A recursive function should have two basic components:\n",
    "- The call to itself, with modified argument values (`factorial(n)` called `factorial(n-1)` in the above example).\n",
    "- A termination condition ensuring that the chain of calls ends at some point (this is the check for the case $n=0$ above).\n",
    "\n",
    "Of course, these two components are interrelated: a meaningful recursion should reach the termination condition in a finite number of iterations, so a chain of recursive calls should \"lead\" to the termination condition. Otherwise the process will never end."
   ]
  }
 ],
 "metadata": {
  "celltoolbar": "Slideshow",
  "kernelspec": {
   "display_name": "Python 3",
   "language": "python",
   "name": "python3"
  },
  "language_info": {
   "codemirror_mode": {
    "name": "ipython",
    "version": 3
   },
   "file_extension": ".py",
   "mimetype": "text/x-python",
   "name": "python",
   "nbconvert_exporter": "python",
   "pygments_lexer": "ipython3",
   "version": "3.7.7"
  }
 },
 "nbformat": 4,
 "nbformat_minor": 1
}
